{
  "nbformat": 4,
  "nbformat_minor": 0,
  "metadata": {
    "kernelspec": {
      "display_name": "Python 3",
      "language": "python",
      "name": "python3"
    },
    "language_info": {
      "codemirror_mode": {
        "name": "ipython",
        "version": 3
      },
      "file_extension": ".py",
      "mimetype": "text/x-python",
      "name": "python",
      "nbconvert_exporter": "python",
      "pygments_lexer": "ipython3",
      "version": "3.6.8"
    },
    "colab": {
      "name": "10.1 Bag of Words and N-Grams.ipynb",
      "provenance": [],
      "include_colab_link": true
    }
  },
  "cells": [
    {
      "cell_type": "markdown",
      "metadata": {
        "id": "view-in-github",
        "colab_type": "text"
      },
      "source": [
        "<a href=\"https://colab.research.google.com/github/dlsun/pods/blob/master/10-Textual-Data/10.1%20Bag%20of%20Words%20and%20N-Grams.ipynb\" target=\"_parent\"><img src=\"https://colab.research.google.com/assets/colab-badge.svg\" alt=\"Open In Colab\"/></a>"
      ]
    },
    {
      "cell_type": "markdown",
      "metadata": {
        "id": "-k5RX60yP9hv",
        "colab_type": "text"
      },
      "source": [
        "# Chapter 10 Textual Data\n",
        "\n",
        "You may not naturally think of _text_, like an e-mail or a newspaper article, as data. But just as we might predict the price of a home or cluster wines into similar types, we might want to predict the sender of an e-mail or cluster articles into similar types. To leverage the machine learning techniques from Part II of this book, we will need to convert raw text into tabular form. This chapter introduces some principles for doing so."
      ]
    },
    {
      "cell_type": "markdown",
      "metadata": {
        "id": "weXLO3u5P9hy",
        "colab_type": "text"
      },
      "source": [
        "# 10.1 Bag of Words and N-Grams\n",
        "\n",
        "In data science, a unit of text is typically called a _document_, even though a document can be anything from a text message to a full-length novel.  A collection of documents is called a _corpus_. In this lesson, we will work with a corpus of Dr. Seuss books."
      ]
    },
    {
      "cell_type": "code",
      "metadata": {
        "id": "EVHxasNCP9hz",
        "colab_type": "code",
        "colab": {}
      },
      "source": [
        "import pandas as pd\n",
        "import requests\n",
        "\n",
        "seuss_dir = \"http://dlsun.github.io/pods/data/drseuss/\"\n",
        "seuss_files = [\n",
        "    \"green_eggs_and_ham.txt\", \"cat_in_the_hat.txt\", \"fox_in_socks.txt\",\n",
        "    \"hop_on_pop.txt\", \"horton_hears_a_who.txt\", \"how_the_grinch_stole_christmas.txt\",\n",
        "    \"oh_the_places_youll_go.txt\", \"one_fish_two_fish.txt\"\n",
        "]\n",
        "\n",
        "docs_seuss = pd.Series()\n",
        "for file in seuss_files:\n",
        "    response = requests.get(seuss_dir + file, \"r\")\n",
        "    docs_seuss[file[:-4]] = response.text\n",
        "\n",
        "docs_seuss"
      ],
      "execution_count": 0,
      "outputs": []
    },
    {
      "cell_type": "markdown",
      "metadata": {
        "id": "g_-_HcWAP9h3",
        "colab_type": "text"
      },
      "source": [
        "Suppose, for example, that we want to determine which two Dr. Seuss books are most similar or cluster the books into several types. In order to leverage the methods that we learned in Parts I and II of this book, we have to convert these documents into tabular form. In this lesson, we focus on a particular representation of a document called the _bag of words_.\n",
        "\n",
        "The _bag of words_ representation reduces a document to just the multiset of its words, ignoring grammar and word order. (A _multiset_ is like a set, except that elements are allowed to appear more than once.)\n",
        "\n",
        "So, for example, the **bag of words** representation of \"I am Sam. Sam I am.\" (the first two lines of _Green Eggs and Ham_) would be `{I, I, am, am, Sam, Sam}`. In Python, it is easiest to represent multisets using dictionaries, where the keys are the (unique) words and the values are the counts. So we would represent the above bag of words as `{\"I\": 2, \"am\": 2, \"Sam\": 2}`.\n",
        "\n",
        "Let's convert the Dr. Seuss books to a bag of words representation. To do this, we will use the `Counter` object in the `collections` module of the Python standard library. First, let's see how the `Counter` works."
      ]
    },
    {
      "cell_type": "code",
      "metadata": {
        "id": "9oVrzGuEP9h3",
        "colab_type": "code",
        "colab": {}
      },
      "source": [
        "from collections import Counter\n",
        "Counter([\"I\", \"am\", \"Sam\", \"Sam\", \"I\", \"am\"])"
      ],
      "execution_count": 0,
      "outputs": []
    },
    {
      "cell_type": "markdown",
      "metadata": {
        "id": "EsOSVRsbP9h7",
        "colab_type": "text"
      },
      "source": [
        "It takes in a list and returns a dictionary of counts---in other words, the bag of words representation that we want. But to be able to use `Counter`, we have to first convert our document into a list of words. We can do this using the string methods in Pandas, such as `.str.split()`, which splits a string into a list based on some character (which, by default, is whitespace)."
      ]
    },
    {
      "cell_type": "code",
      "metadata": {
        "id": "Qn0-18IhP9h8",
        "colab_type": "code",
        "colab": {}
      },
      "source": [
        "docs_seuss.str.split()"
      ],
      "execution_count": 0,
      "outputs": []
    },
    {
      "cell_type": "markdown",
      "metadata": {
        "id": "86U_cqXUP9h_",
        "colab_type": "text"
      },
      "source": [
        "There are several problems with this approach:\n",
        "\n",
        "- **It is case-sensitive.**  The words \"PUP\" and \"Pup\" in _Hop on Pop_ are technically different strings and will be treated as different words by the `Counter`.\n",
        "- **There is punctuation.**  For example, in _One Fish, Two Fish_, the words \"fish,\" and \"fish.\" will be treated as separate words.\n",
        "\n",
        "We can **normalize** the text for case by \n",
        "\n",
        "- converting all of the characters to lowercase, using the `.str.lower()` method\n",
        "- stripping punctuation using a regular expression. The regular expression `[^\\w\\s]` tells Python to look for any pattern that is not (`^`) either an alphanumeric character (`\\w`) or whitespace (`\\s`). That is, it will detect any occurrence of punctuation. We will then use the `.str.replace()` method to replace all detected occurrences with whitespace, effectively removing all punctuation from the string.\n",
        "\n",
        "By chaining these commands together, we obtain a list, to which we can apply the `Counter` to obtain the bag of words representation."
      ]
    },
    {
      "cell_type": "code",
      "metadata": {
        "id": "Xp6l2xERP9iA",
        "colab_type": "code",
        "colab": {}
      },
      "source": [
        "words = (\n",
        "    docs_seuss.\n",
        "    str.lower().\n",
        "    str.replace(\"[^\\w\\s]\", \" \").\n",
        "    str.split()\n",
        ")\n",
        "\n",
        "words"
      ],
      "execution_count": 0,
      "outputs": []
    },
    {
      "cell_type": "code",
      "metadata": {
        "id": "wEQBeIPsP9iD",
        "colab_type": "code",
        "colab": {}
      },
      "source": [
        "words.apply(Counter)"
      ],
      "execution_count": 0,
      "outputs": []
    },
    {
      "cell_type": "markdown",
      "metadata": {
        "id": "LB1DVV7IP9iH",
        "colab_type": "text"
      },
      "source": [
        "## N-Grams\n",
        "\n",
        "The problem with the bag of words representation is that the ordering of the words is lost. For example, the following sentences have the exact same bag of words representation, but convey different meanings:\n",
        "\n",
        "1. The dog bit her owner.\n",
        "2. Her dog bit the owner.\n",
        "\n",
        "The first sentence has only two actors (the dog and its owner), but the second sentence has three (a woman, her dog, and the owner of something). To better capture the _semantic_ meaning of these two documents, we can use **bigrams** instead of individual words. A **bigram** is simply a pair of consecutive words. The \"bag of bigrams\" of the two sentences above are quite different:\n",
        "\n",
        "1. {\"The dog\", \"dog bit\", \"bit her\", \"her owner\"}\n",
        "2. {\"Her dog\", \"dog bit\", \"bit the\", \"the owner\"}\n",
        "\n",
        "They only share 1 bigram (out of 4) in common, despite sharing the same 5 words.\n",
        "\n",
        "Let's get the bag of bigrams representation for the words above. To generate the bigrams from the list of words, we will use the `zip` function in Python, which takes in two lists and returns a single list of pairs (consisting of one element from each list):"
      ]
    },
    {
      "cell_type": "code",
      "metadata": {
        "id": "P0sw5SnzP9iH",
        "colab_type": "code",
        "colab": {}
      },
      "source": [
        "list(zip([1, 2, 3], [4, 5, 6]))"
      ],
      "execution_count": 0,
      "outputs": []
    },
    {
      "cell_type": "code",
      "metadata": {
        "id": "UAJ_GxeJP9iK",
        "colab_type": "code",
        "colab": {}
      },
      "source": [
        "def get_bigrams(words):\n",
        "    # We need to line up the words as follows:\n",
        "    #   words[0], words[1]\n",
        "    #   words[1], words[2]\n",
        "    #       ... ,  ...\n",
        "    # words[n-1], words[n]\n",
        "    #   words[n]\n",
        "    # The first list is longer, so the last element in the first list is ignored.\n",
        "    return zip(words, words[1:])\n",
        "\n",
        "words.apply(get_bigrams).apply(Counter)"
      ],
      "execution_count": 0,
      "outputs": []
    },
    {
      "cell_type": "markdown",
      "metadata": {
        "id": "Xof8u3gHP9iO",
        "colab_type": "text"
      },
      "source": [
        "Instead of taking 2 words at a time, we could take 3, 4, or, in general, $n$ words. \n",
        "A tuple of $n$ consecutive words is called an $n$-gram, and we can convert any document to a \"bag of $n$-grams\" representation. \n",
        "\n",
        "The larger $n$ is, the better the representation will capture the meaning of a document. But if $n$ is so large that hardly any $n$-gram occurs more than once, then we will not learn much from this representation."
      ]
    },
    {
      "cell_type": "markdown",
      "metadata": {
        "id": "C8itCO13P9iP",
        "colab_type": "text"
      },
      "source": [
        "# Exercises"
      ]
    },
    {
      "cell_type": "markdown",
      "metadata": {
        "id": "ah-BZi2BP9iQ",
        "colab_type": "text"
      },
      "source": [
        "1\\. Read in the OKCupid data set (`https://dlsun.github.io/pods/data/okcupid.csv`). Convert the users' responses to `essay0` (\"self summary\") into a bag of words representation. What word appears most often?\n",
        "\n",
        "(_Hint:_ Test your code on the first 100 users before testing it on the entire data set.)"
      ]
    },
    {
      "cell_type": "markdown",
      "metadata": {
        "id": "Pj2oZSscP9iR",
        "colab_type": "text"
      },
      "source": [
        "2\\. Find the bag of trigrams representation for the Dr. Seuss books. How could you use the bag of trigrams to determine which book is the most linguistically diverse? Which book is it?"
      ]
    }
  ]
}