{
  "nbformat": 4,
  "nbformat_minor": 0,
  "metadata": {
    "kernelspec": {
      "display_name": "Python 3",
      "language": "python",
      "name": "python3"
    },
    "language_info": {
      "codemirror_mode": {
        "name": "ipython",
        "version": 3
      },
      "file_extension": ".py",
      "mimetype": "text/x-python",
      "name": "python",
      "nbconvert_exporter": "python",
      "pygments_lexer": "ipython3",
      "version": "3.6.8"
    },
    "colab": {
      "name": "8.2 Time Series Forecasting.ipynb",
      "provenance": [],
      "include_colab_link": true
    }
  },
  "cells": [
    {
      "cell_type": "markdown",
      "metadata": {
        "id": "view-in-github",
        "colab_type": "text"
      },
      "source": [
        "<a href=\"https://colab.research.google.com/github/dlsun/pods/blob/master/08-Time-Series/8.2%20Time%20Series%20Forecasting.ipynb\" target=\"_parent\"><img src=\"https://colab.research.google.com/assets/colab-badge.svg\" alt=\"Open In Colab\"/></a>"
      ]
    },
    {
      "cell_type": "markdown",
      "metadata": {
        "id": "ig1QX1TAc4oW",
        "colab_type": "text"
      },
      "source": [
        "# 8.2 Time Series Forecasting\n",
        "\n",
        "> It's difficult to make predictions, especially about the future.\n",
        "\n",
        "One of the most common problems in time series analysis is _forecasting_. Forecasting is simply prediction about the future. This is clearly relevant for climate scientists who want to predict future levels of $\\text{CO}_2$, assuming that current trends persist."
      ]
    },
    {
      "cell_type": "code",
      "metadata": {
        "id": "Z04pSatic4of",
        "colab_type": "code",
        "colab": {}
      },
      "source": [
        "import pandas as pd\n",
        "data_dir = \"https://dlsun.github.io/pods/data/\"\n",
        "df_co2 = pd.read_csv(data_dir + \"mauna_loa_co2_weekly.csv\",\n",
        "                     index_col=\"date\", parse_dates=True)\n",
        "df_co2 = df_co2[df_co2[\"ppm\"] >= 0]\n",
        "\n",
        "y_train = df_co2[\"ppm\"]\n",
        "y_train.plot.line(style=\":\")"
      ],
      "execution_count": 0,
      "outputs": []
    },
    {
      "cell_type": "markdown",
      "metadata": {
        "id": "Q_Op5t9zc4ol",
        "colab_type": "text"
      },
      "source": [
        "## Modeling the Trend\n",
        "\n",
        "First, we will model the overall trend. That is, we want to find a function $m$ of time such that the measurements $y_t$ can be modeled as \n",
        "\n",
        "$$ y_t = m(t) + \\text{noise}. $$\n",
        "\n",
        "It is common to assume that $m$ is linear in $t$. That is, \n",
        "\n",
        "$$ m(t) = b + c t, $$\n",
        "\n",
        "for appropriate constants $b$ and $c$. Such a model can be fit by linear regression, by regressing the measurements $y_t$ on time $t$. Let's fit this model to data.\n",
        "\n",
        "First, since the dates are currently datetimes, we convert them to decimals. We do not attempt to be exact here; we assume that there are 30 days in every month to convert each date into a day and divide by 365, ignoring leap years."
      ]
    },
    {
      "cell_type": "code",
      "metadata": {
        "id": "0IoPJnORc4om",
        "colab_type": "code",
        "colab": {}
      },
      "source": [
        "# Convert dates to a decimal year\n",
        "date = df_co2.index\n",
        "t = date.year + (30 * (date.month - 1) + date.day) / 365\n",
        "t"
      ],
      "execution_count": 0,
      "outputs": []
    },
    {
      "cell_type": "markdown",
      "metadata": {
        "id": "bj-ikKMlc4op",
        "colab_type": "text"
      },
      "source": [
        "Now we fit the linear regression model, regressing the measurements on $y_t$ on $t$. Let's fit this model and plot the fitted trend on top of the data."
      ]
    },
    {
      "cell_type": "code",
      "metadata": {
        "id": "szSAAiH1c4or",
        "colab_type": "code",
        "colab": {}
      },
      "source": [
        "from sklearn.linear_model import LinearRegression\n",
        "\n",
        "# Fit linear regression of y on t\n",
        "model = LinearRegression()\n",
        "model.fit(X=t.to_frame(), y=y_train)\n",
        "\n",
        "# Store model predictions in a Series for easy plotting\n",
        "y_train_ = pd.Series(\n",
        "    model.predict(X=t.to_frame()),\n",
        "    index=y_train.index\n",
        ")\n",
        "\n",
        "# Plot the data and the fitted trend\n",
        "y_train.plot.line(style=\":\")\n",
        "y_train_.plot.line()"
      ],
      "execution_count": 0,
      "outputs": []
    },
    {
      "cell_type": "markdown",
      "metadata": {
        "id": "d4aTp4Xdc4oz",
        "colab_type": "text"
      },
      "source": [
        "It seems that the trend is more curved than it first appeared. Let's try a polynomial model.\n",
        "\n",
        "$$ m(t) = b + c_1 t + c_2 t^2 $$\n",
        "\n",
        "To fit a polynomial model, we simply create an $X$ matrix with two columns---the first storing values of $t$ and the second storing values of $t^2$.\n",
        "\n",
        "$$ X = \\begin{bmatrix} t_1 & t_1^2 \\\\ t_2 & t_2^2 \\\\ \\vdots & \\vdots \\\\ t_n & t_n^2 \\end{bmatrix} $$\n",
        "\n",
        "Scikit-learn provides `PolynomialFeatures` for carrying out transformations like this one."
      ]
    },
    {
      "cell_type": "code",
      "metadata": {
        "id": "58fUPAkic4o0",
        "colab_type": "code",
        "colab": {}
      },
      "source": [
        "from sklearn.preprocessing import PolynomialFeatures\n",
        "\n",
        "poly = PolynomialFeatures(degree=2, include_bias=False)\n",
        "poly.fit_transform(t.to_frame())"
      ],
      "execution_count": 0,
      "outputs": []
    },
    {
      "cell_type": "markdown",
      "metadata": {
        "id": "aYkQ3Xfic4o6",
        "colab_type": "text"
      },
      "source": [
        "Now let's put it all together."
      ]
    },
    {
      "cell_type": "code",
      "metadata": {
        "id": "sSCTVtApc4o8",
        "colab_type": "code",
        "colab": {}
      },
      "source": [
        "from sklearn.pipeline import make_pipeline\n",
        "\n",
        "# Fit linear regression of y on t and t^2\n",
        "pipeline = make_pipeline(\n",
        "    PolynomialFeatures(degree=2, include_bias=False),\n",
        "    LinearRegression()\n",
        ")\n",
        "pipeline.fit(X=t.to_frame(), y=y_train)\n",
        "\n",
        "# Store model predictions in a Series for easy plotting\n",
        "y_train_ = pd.Series(\n",
        "    pipeline.predict(X=t.to_frame()),\n",
        "    index=y_train.index\n",
        ")\n",
        "\n",
        "# Plot the data and the fitted trend\n",
        "y_train.plot.line(style=\":\")\n",
        "y_train_.plot.line()"
      ],
      "execution_count": 0,
      "outputs": []
    },
    {
      "cell_type": "markdown",
      "metadata": {
        "id": "uJ3-0KVmc4pF",
        "colab_type": "text"
      },
      "source": [
        "The polynomial model seems to capture the trend much better. Now, if we want to make a forecast of the atmospheric $\\text{CO}_2$ levels in 2030, we simply plug 2030 into the model that we just fit."
      ]
    },
    {
      "cell_type": "code",
      "metadata": {
        "id": "-9VksTLKc4pG",
        "colab_type": "code",
        "colab": {}
      },
      "source": [
        "pipeline.predict([[2030]])"
      ],
      "execution_count": 0,
      "outputs": []
    },
    {
      "cell_type": "markdown",
      "metadata": {
        "id": "pIYw2i4bc4pJ",
        "colab_type": "text"
      },
      "source": [
        "## Modeling the Seasonality\n",
        "\n",
        "What about the seasonal fluctuations in the $\\text{CO}_2$ levels that are caused by plant photosynthesis? If we want to make predictions for a particular month in a year, then we will also want to take the seasonality into account.\n",
        "\n",
        "That is, we need a model of the form \n",
        "\n",
        "$$ y_t = m(t) + s(t) + \\text{noise}, $$\n",
        "\n",
        "where $m(t)$ is the trend as before and $s(t)$ is the seasonal component. If $f$ is the frequency of the seasonal component, it is typical to model $s$ as the sum of a sine and a cosine with that frequency.\n",
        "\n",
        "$$ s(t) = a_1 \\sin(2\\pi f t) + a_2 \\cos(2\\pi f t) $$\n",
        "\n",
        "In our case, the seasonality has a frequency of $f = 1 \\text{ cycle / year}$. To fit a model like the one above, we need to transform $t$ into:\n",
        "- $t$ and $t^2$ for the trend, as above\n",
        "- $\\sin(2\\pi\\cdot 1 t)$ and $\\cos(2\\pi\\cdot 1 t)$ for the seasonal component\n",
        "\n",
        "and then stack them all into one feature matrix to be passed to linear regression. The sine and cosine transformation can be done in scikit-learn by creating custom `FunctionTransformer`s. Then, the columns can be stacked by creating a `FeatureUnion` using `make_union`."
      ]
    },
    {
      "cell_type": "code",
      "metadata": {
        "id": "JKkZ4F1Tc4pK",
        "colab_type": "code",
        "colab": {}
      },
      "source": [
        "import numpy as np\n",
        "from sklearn.preprocessing import FunctionTransformer\n",
        "from sklearn.pipeline import make_union\n",
        "\n",
        "# Fit linear regression on t, t^2, sin(2 pi t), cos(2 pi t)\n",
        "pipeline = make_pipeline(\n",
        "    make_union(\n",
        "        PolynomialFeatures(degree=2, include_bias=False),\n",
        "        FunctionTransformer(lambda t: np.sin(2 * np.pi * 1 * t)),\n",
        "        FunctionTransformer(lambda t: np.cos(2 * np.pi * 1 * t))\n",
        "    ),\n",
        "    LinearRegression()\n",
        ")\n",
        "pipeline.fit(X=t.to_frame(), y=y_train)\n",
        "\n",
        "# Store model predictions in a Series for easy plotting\n",
        "y_train_ = pd.Series(\n",
        "    pipeline.predict(t.to_frame()),\n",
        "    index=y_train.index\n",
        ")\n",
        "\n",
        "# Plot the data and the fitted trend\n",
        "y_train.plot.line(style=\":\")\n",
        "y_train_.plot.line()"
      ],
      "execution_count": 0,
      "outputs": []
    },
    {
      "cell_type": "markdown",
      "metadata": {
        "id": "mBAmM0uac4pN",
        "colab_type": "text"
      },
      "source": [
        "Now, let's make a prediction for April and October, 2030."
      ]
    },
    {
      "cell_type": "code",
      "metadata": {
        "id": "NNt_2MbJc4pQ",
        "colab_type": "code",
        "colab": {}
      },
      "source": [
        "pipeline.predict(\n",
        "    np.array([\n",
        "        [2030.3],\n",
        "        [2030.8]\n",
        "    ])\n",
        ")"
      ],
      "execution_count": 0,
      "outputs": []
    },
    {
      "cell_type": "markdown",
      "metadata": {
        "id": "az77o-8Yc4pU",
        "colab_type": "text"
      },
      "source": [
        "Despite the increasing trend, the $\\text{CO}_2$ is predicted to be lower in October than in April because of the seasonality. "
      ]
    },
    {
      "cell_type": "markdown",
      "metadata": {
        "id": "C0ukDy-tc4pV",
        "colab_type": "text"
      },
      "source": [
        "## Exercises\n",
        "\n",
        "Exercises 1-2 ask you to work with the Austin weather data set (https://dlsun.github.io/pods/data/austin_weather_2019.csv ), which contains hourly measurements of the weather in Austin, TX in 2019. You will model hourly temperature (**T_HR_AVG**) as a function of the local date and time (**LST_DATE**, **LST_TIME**)."
      ]
    },
    {
      "cell_type": "markdown",
      "metadata": {
        "id": "42Bj3HCEc4pW",
        "colab_type": "text"
      },
      "source": [
        "1\\. Model the trend using a polynomial. Use your model to forecast the average temperature on January 1, 2020 at midnight in Austin, TX."
      ]
    },
    {
      "cell_type": "markdown",
      "metadata": {
        "id": "wk-TuMzdc4pX",
        "colab_type": "text"
      },
      "source": [
        "2\\. Do you think there is seasonality in this data? If so, add a model of seasonality to your trend model from the previous exercise. Use this revised model to forecast the average temperature on January 1, 2020 at midnight in Austin, TX."
      ]
    }
  ]
}