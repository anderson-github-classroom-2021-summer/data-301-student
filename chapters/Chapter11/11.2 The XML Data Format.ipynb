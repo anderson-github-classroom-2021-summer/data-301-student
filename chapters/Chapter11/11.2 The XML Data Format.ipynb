{
  "nbformat": 4,
  "nbformat_minor": 0,
  "metadata": {
    "kernelspec": {
      "display_name": "Python 3",
      "language": "python",
      "name": "python3"
    },
    "language_info": {
      "codemirror_mode": {
        "name": "ipython",
        "version": 3
      },
      "file_extension": ".py",
      "mimetype": "text/x-python",
      "name": "python",
      "nbconvert_exporter": "python",
      "pygments_lexer": "ipython3",
      "version": "3.6.8"
    },
    "colab": {
      "name": "11.2 The XML Data Format.ipynb",
      "provenance": [],
      "include_colab_link": true
    }
  },
  "cells": [
    {
      "cell_type": "markdown",
      "metadata": {
        "id": "view-in-github",
        "colab_type": "text"
      },
      "source": [
        "<a href=\"https://colab.research.google.com/github/dlsun/pods/blob/master/11-Hierarchical-Data/11.2%20The%20XML%20Data%20Format.ipynb\" target=\"_parent\"><img src=\"https://colab.research.google.com/assets/colab-badge.svg\" alt=\"Open In Colab\"/></a>"
      ]
    },
    {
      "cell_type": "markdown",
      "metadata": {
        "id": "QyGyHllgvdJe",
        "colab_type": "text"
      },
      "source": [
        "# 11.2 The XML Data Format\n",
        "\n",
        "**XML**, which stands for eXtensible Markup Language, is another way to represent hierarchical data. The basic building block of XML is the **tag**, denoted by angle brackets `<>`.\n",
        "\n",
        "For example, a data set of movies might be represented using XML as follows:\n",
        "\n",
        "```\n",
        "<movies>\n",
        "  <movie id=\"1\" title=\"The Godfather\">\n",
        "    <director id=\"50\" name=\"Coppola, Francis Ford\">\n",
        "    </director>\n",
        "    <releasedate>1972-03-24</releasedate>\n",
        "    <character id=\"100\" name=\"Vito Corleone\">\n",
        "      <actor id=\"200\" name=\"Brando, Marlon\">\n",
        "      </actor>\n",
        "    </character>\n",
        "    <character id=\"101\" name=\"Michael Corleone\">\n",
        "      <actor id=\"201\" name=\"Pacino, Al\">\n",
        "      </actor>\n",
        "    </character>\n",
        "    ...\n",
        "  </movie>\n",
        "  <movie id=\"2\" title=\"The Godfather: Part II\">\n",
        "    <director id=\"50\" name=\"Coppola, Francis Ford\">\n",
        "    </director>\n",
        "    <releasedate>1974-10-20</releasedate>\n",
        "    <character id=\"101\" name=\"Michael Corleone\">\n",
        "      <actor id=\"201\" name=\"Pacino, Al\">\n",
        "      </actor>\n",
        "    </character>\n",
        "    <character id=\"100\" name=\"Vito Corleone\">\n",
        "      <actor id=\"250\" name=\"De Niro, Robert\">\n",
        "      </actor>\n",
        "    </character>\n",
        "    ...\n",
        "  </movie>\n",
        "  ...\n",
        "</movies>\n",
        "```\n",
        "\n",
        "Note the following features of XML:\n",
        "\n",
        "- Every tag `<a>` has a corresponding closing tag `</a>`. You can always recognize a closing tag by the forward slash `/`.\n",
        "- Additional tags and/or strings can be nested between the opening and closing tags. In the example above, `<actor>` is nested between `<character>` and `</character>`, and `<character>` is nested between `<movie>` and `</movie>`. The nesting is used to represent hierarchy.\n",
        "- Indentation is used to make the code more readable (to make it easier to see the nesting structure). But it is optional.\n",
        "- Attributes can be associated with each tag, like `id=` and `name=` with the `<character>` tag and `id=` and `title=` with the `<movie>` tag.\n",
        "\n",
        "Each tag represents a variable in the data set. Unlike JSON, which uses lists to represent repeated fields, XML represents repeated fields by simply repeating tags where necessary. In the example above, there are multiple instances of `<movie>` within `<movies>` and multiple instances of `<character>` within `<movie>`, so `movie` and `character` are both repeated fields. (In fact, `director` is also a repeated field, but it is impossible to tell from the code above, since the movies shown above only have one director.)\n",
        "\n",
        "You will learn XML by working with a data set of programs by the New York Philharmonic (one of the leading orchestras in the world). First, let's take a peek at the data."
      ]
    },
    {
      "cell_type": "code",
      "metadata": {
        "id": "jfgpPkpZvdJh",
        "colab_type": "code",
        "colab": {}
      },
      "source": [
        "import requests\n",
        "response = requests.get(\"https://github.com/nyphilarchive/PerformanceHistory/blob/master/Programs/xml/1963-64_TO_1973-74.xml?raw=true\")\n",
        "response.text[:1000]"
      ],
      "execution_count": 0,
      "outputs": []
    },
    {
      "cell_type": "markdown",
      "metadata": {
        "id": "csKrF19kvdJm",
        "colab_type": "text"
      },
      "source": [
        "Notice that this XML file is nearly twice as large as the JSON file. Although XML is more readable than JSON, it is a more expensive way to store hierarchical data, primarily because of the cost of storing both the opening and closing tags."
      ]
    },
    {
      "cell_type": "markdown",
      "metadata": {
        "id": "xW2ARyjRvdJn",
        "colab_type": "text"
      },
      "source": [
        "There are several libraries in Python for working with XML, including BeautifulSoup (which we will use in the next section to parse HTML), ElementTree, and `lxml`. We will use `lxml` to work with XML data because it is fastest for large data sets, provided that the data is well-formed. The `lxml` library provides a convenient API that replicates all of the functionality of ElementTree, plus implements a few additional features that are useful for data analysis."
      ]
    },
    {
      "cell_type": "code",
      "metadata": {
        "id": "E31WZaWIvdJo",
        "colab_type": "code",
        "colab": {}
      },
      "source": [
        "from lxml import etree"
      ],
      "execution_count": 0,
      "outputs": []
    },
    {
      "cell_type": "markdown",
      "metadata": {
        "id": "CXjxx4DavdJs",
        "colab_type": "text"
      },
      "source": [
        "First, let's read in the data. Since we have the XML as a string in memory, we use the `etree.fromstring()` to load the data. Note that `.fromstring()` returns the root node."
      ]
    },
    {
      "cell_type": "code",
      "metadata": {
        "id": "sbOKlQPQvdJt",
        "colab_type": "code",
        "colab": {}
      },
      "source": [
        "string = response.text.encode()\n",
        "etree.fromstring(string)"
      ],
      "execution_count": 0,
      "outputs": []
    },
    {
      "cell_type": "markdown",
      "metadata": {
        "id": "IFY-eQq4vdJx",
        "colab_type": "text"
      },
      "source": [
        "Each direct descendant, or **child**, of `<programs>` is a program. To find the direct descendants of a tag, we call the `.getchildren()` method."
      ]
    },
    {
      "cell_type": "code",
      "metadata": {
        "id": "o5-tatkzvdJy",
        "colab_type": "code",
        "colab": {}
      },
      "source": [
        "programs = etree.fromstring(string)\n",
        "print(len(programs.getchildren()))\n",
        "programs.getchildren()[:10]"
      ],
      "execution_count": 0,
      "outputs": []
    },
    {
      "cell_type": "markdown",
      "metadata": {
        "id": "tJala9izvdJ2",
        "colab_type": "text"
      },
      "source": [
        "Let's print out the first of these programs. There are two ways to get the first program."
      ]
    },
    {
      "cell_type": "code",
      "metadata": {
        "id": "qFi0ebeUvdJ3",
        "colab_type": "code",
        "colab": {}
      },
      "source": [
        "# METHOD 1: Get it from the list above.\n",
        "program = programs.getchildren()[0]\n",
        "\n",
        "# METHOD 2: Use .find() to find the first instance of a tag.\n",
        "program = programs.find(\"program\")\n",
        "program"
      ],
      "execution_count": 0,
      "outputs": []
    },
    {
      "cell_type": "markdown",
      "metadata": {
        "id": "S1dHR-K5vdJ7",
        "colab_type": "text"
      },
      "source": [
        "Now let's see how the data is represented by printing out the XML of this program. To do this, we use the `etree.tostring()` function."
      ]
    },
    {
      "cell_type": "code",
      "metadata": {
        "id": "I6w5b7QVvdJ8",
        "colab_type": "code",
        "colab": {}
      },
      "source": [
        "print(etree.tostring(program, encoding=\"unicode\"))"
      ],
      "execution_count": 0,
      "outputs": []
    },
    {
      "cell_type": "markdown",
      "metadata": {
        "id": "XSUvNrjwvdKA",
        "colab_type": "text"
      },
      "source": [
        "Hopefully, the structure of this data is self-explanatory. \"Work\", \"concertInfo\", and \"soloist\" are repeated fields inside \"program\". One difference between JSON and XML is that \"work\" is not directly nested within \"program\"; the \"work\" tags are all nested inside an additional \"worksInfo\" tag.\n",
        "\n",
        "Now suppose that we want to flatten the data at the level of soloists. To get all of the soloists, we can use the `.findall()` method. Let's first try the obvious solution, which does not work:"
      ]
    },
    {
      "cell_type": "code",
      "metadata": {
        "id": "s9i-njDfvdKA",
        "colab_type": "code",
        "colab": {}
      },
      "source": [
        "programs.findall(\"soloist\")"
      ],
      "execution_count": 0,
      "outputs": []
    },
    {
      "cell_type": "markdown",
      "metadata": {
        "id": "robAtJ9HvdKE",
        "colab_type": "text"
      },
      "source": [
        "Why did `lxml` fail to find any `<soloist>` tags? That's because `.findall()` only searches among the direct descendants of a tag. We called `.findall()` on the `<programs>` tag, but all of its descendants are `<program>` tags.\n",
        "\n",
        "To specify that `lxml` should look for `<soloist>` tags among all descendants, not just direct ones, we use the `.xpath()` command, which allows us to specify an XPath expression. [XPath](https://www.w3schools.com/xml/xpath_syntax.asp) is a language used to select nodes from XML documents. The XPath expression to select all descendants named `<soloist>` of the current tag is `\".//soloist\"`. We pass this expression to the `.xpath()` method."
      ]
    },
    {
      "cell_type": "code",
      "metadata": {
        "id": "_uttRgR_vdKG",
        "colab_type": "code",
        "colab": {}
      },
      "source": [
        "soloists = programs.xpath(\".//soloist\")\n",
        "len(soloists)"
      ],
      "execution_count": 0,
      "outputs": []
    },
    {
      "cell_type": "markdown",
      "metadata": {
        "id": "U4DuDZwovdKK",
        "colab_type": "text"
      },
      "source": [
        "Now, to flatten the data at the level of soloists, we just need to turn `soloists` into a `DataFrame` with as many rows. But what if we want to include information from parent levels, like the composer of the work the soloist played? There are two ways.\n",
        "\n",
        "### Method 1\n",
        "\n",
        "Since `<composerName>` is a descendant of `<work>`, one way is to navigate up to the level of `<work>` by calling `.getparent()` repeatedly and then find `<composerName>` among its descendants:"
      ]
    },
    {
      "cell_type": "code",
      "metadata": {
        "id": "D9Kg9hUlvdKM",
        "colab_type": "code",
        "colab": {}
      },
      "source": [
        "soloist = soloists[0]\n",
        "\n",
        "# The first .getparent() returns the <soloists> tag.\n",
        "# The second .getparent() returns the <work> tag.\n",
        "# You have to figure this out by inspecting the XML.\n",
        "work = soloist.getparent().getparent()\n",
        "work.xpath(\".//composerName\")"
      ],
      "execution_count": 0,
      "outputs": []
    },
    {
      "cell_type": "markdown",
      "metadata": {
        "id": "IZ4VbUaXvdKP",
        "colab_type": "text"
      },
      "source": [
        "This is a list with one tag, so we extract that tag and the text inside it."
      ]
    },
    {
      "cell_type": "code",
      "metadata": {
        "id": "26pcHWRhvdKQ",
        "colab_type": "code",
        "colab": {}
      },
      "source": [
        "work.xpath(\".//composerName\")[0].text"
      ],
      "execution_count": 0,
      "outputs": []
    },
    {
      "cell_type": "markdown",
      "metadata": {
        "id": "2Yu6aKzjvdKT",
        "colab_type": "text"
      },
      "source": [
        "### Method 2\n",
        "\n",
        "As the number of levels of nesting increases, it quickly becomes impractical to call `.getparent()` repeatedly. We want to be able to jump directly to the right ancestor. The easiest way to do this is to use the XPath expression for an ancestor. To search for all ancestors named \"work\", we can use the XPath expression `\"ancestor::work\"`."
      ]
    },
    {
      "cell_type": "code",
      "metadata": {
        "id": "ml8fzZkAvdKV",
        "colab_type": "code",
        "colab": {}
      },
      "source": [
        "soloist.xpath(\"ancestor::work\")"
      ],
      "execution_count": 0,
      "outputs": []
    },
    {
      "cell_type": "markdown",
      "metadata": {
        "id": "cXx8WTkqvdKZ",
        "colab_type": "text"
      },
      "source": [
        "Now, we can extract this single work tag and find its descendants named `<composerName>`. Or better yet, we can combine this step with the above step into a single XPath expression."
      ]
    },
    {
      "cell_type": "code",
      "metadata": {
        "id": "B9JboMOVvdKa",
        "colab_type": "code",
        "colab": {}
      },
      "source": [
        "soloist.xpath(\"ancestor::work//composerName\")[0].text"
      ],
      "execution_count": 0,
      "outputs": []
    },
    {
      "cell_type": "markdown",
      "metadata": {
        "id": "p9VkUaMGvdKe",
        "colab_type": "text"
      },
      "source": [
        "Now let's put it all together. We will flatten the data to get a `DataFrame` with one soloist per row. We will keep track of the soloist's name, instrument, and role---as well as the composer of the work they performed. Unfortunately, it is much more manual to do this with XML than with JSON. There is no XML equivalent of the `json_normalize` function that will automatically produce a `DataFrame`, so we have to construct the `DataFrame` ourselves."
      ]
    },
    {
      "cell_type": "code",
      "metadata": {
        "id": "MCxAvgxnvdKf",
        "colab_type": "code",
        "colab": {}
      },
      "source": [
        "import pandas as pd\n",
        "\n",
        "rows = []\n",
        "\n",
        "soloists = programs.xpath(\".//soloist\")\n",
        "for soloist in soloists:\n",
        "    row = {}\n",
        "    row[\"soloistName\"] = soloist.find(\"soloistName\").text\n",
        "    row[\"soloistInstrument\"] = soloist.find(\"soloistInstrument\").text\n",
        "    row[\"soloistRoles\"] = soloist.find(\"soloistRoles\").text\n",
        "    row[\"composerName\"] = soloist.xpath(\"ancestor::work//composerName\")[0].text\n",
        "    rows.append(row)\n",
        "    \n",
        "df_soloists = pd.DataFrame(rows)\n",
        "df_soloists"
      ],
      "execution_count": 0,
      "outputs": []
    },
    {
      "cell_type": "markdown",
      "metadata": {
        "id": "iTdT9STqvdKi",
        "colab_type": "text"
      },
      "source": [
        "Now, this is a `DataFrame` that we can analyze easily. For example, here is how many times Benny Goodman programmed a work by Weber with the NY Phil:"
      ]
    },
    {
      "cell_type": "code",
      "metadata": {
        "id": "uf9ztdJPvdKj",
        "colab_type": "code",
        "colab": {}
      },
      "source": [
        "df_soloists[df_soloists[\"soloistName\"] == \"Goodman, Benny\"].composerName.value_counts()"
      ],
      "execution_count": 0,
      "outputs": []
    },
    {
      "cell_type": "markdown",
      "metadata": {
        "id": "6mX14dslvdKl",
        "colab_type": "text"
      },
      "source": [
        "# Exercises\n",
        "\n",
        "Exercises 1 and 2 deal with the New York Philharmonic data set from above."
      ]
    },
    {
      "cell_type": "markdown",
      "metadata": {
        "id": "K8u3Gv_jvdKm",
        "colab_type": "text"
      },
      "source": [
        "1\\. What is the most frequent start time for New York Philharmonic concerts?"
      ]
    },
    {
      "cell_type": "markdown",
      "metadata": {
        "id": "a9cFF2bYvdKn",
        "colab_type": "text"
      },
      "source": [
        "2\\. How many distinct works did the New York Philharmonic perform in the 1970-71 season?"
      ]
    },
    {
      "cell_type": "markdown",
      "metadata": {
        "id": "aP0NNtDZvdKp",
        "colab_type": "text"
      },
      "source": [
        "In Exercise 3, you will work with [data from the Meteorologisk Institutt of Norway](https://api.met.no/weatherapi/documentation), which returns weather data in XML form.\n",
        "\n",
        "If you run into unexpected errors, issue the same HTTP request from your browser to make sure that the data is in the format you expect."
      ]
    },
    {
      "cell_type": "markdown",
      "metadata": {
        "id": "DBru1Ej4vdKq",
        "colab_type": "text"
      },
      "source": [
        "3\\. Make a graph showing the forecasted temperature for the upcoming week in Oslo, Norway. Make a graphic that displays this information.\n",
        "\n",
        "(Hint: You may want to look up the latitude and longitude of Oslo.)"
      ]
    }
  ]
}