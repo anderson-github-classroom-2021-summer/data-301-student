{
  "nbformat": 4,
  "nbformat_minor": 0,
  "metadata": {
    "kernelspec": {
      "display_name": "Python 3",
      "language": "python",
      "name": "python3"
    },
    "language_info": {
      "codemirror_mode": {
        "name": "ipython",
        "version": 3
      },
      "file_extension": ".py",
      "mimetype": "text/x-python",
      "name": "python",
      "nbconvert_exporter": "python",
      "pygments_lexer": "ipython3",
      "version": "3.6.8"
    },
    "colab": {
      "name": "12.3 Choropleths.ipynb",
      "provenance": [],
      "include_colab_link": true
    }
  },
  "cells": [
    {
      "cell_type": "markdown",
      "metadata": {
        "id": "view-in-github",
        "colab_type": "text"
      },
      "source": [
        "<a href=\"https://colab.research.google.com/github/dlsun/pods/blob/master/12-Geospatial-Data/12.3%20Choropleths.ipynb\" target=\"_parent\"><img src=\"https://colab.research.google.com/assets/colab-badge.svg\" alt=\"Open In Colab\"/></a>"
      ]
    },
    {
      "cell_type": "markdown",
      "metadata": {
        "id": "yJ_EjXUC79iF",
        "colab_type": "text"
      },
      "source": [
        "# 12.3 Choropleths\n",
        "\n",
        "A **choropleth** is a map in which areas are colored according to some statistic of interest. Perhaps the most familiar example of a choropleth is the presidential election map, which shows the percentage in each county who voted for the Democratic or Republican candidate. In this graphic, the areal units are counties, and the statistic of interest is the percentage who voted for the Democratic (or Republican) candidate. \n",
        "\n",
        "![](https://github.com/dlsun/pods/blob/master/12-Geospatial-Data/img/2016election.png?raw=1)\n",
        "\n",
        "In this lesson, you will learn how to make choropleths like the one above."
      ]
    },
    {
      "cell_type": "markdown",
      "metadata": {
        "id": "4MqnNnQP79iI",
        "colab_type": "text"
      },
      "source": [
        "## Shapefiles\n",
        "\n",
        "The shapefile format is a data format for geometric objects, such as points, lines, and polygons. A shapefile can be used to describe the boundaries of a lake, the course of a river, or the boundaries of a county.\n",
        "\n",
        "You can find shapefiles for most geographic entities online. For example, the [U.S. Census Bureau](https://www.census.gov/geographies/mapping-files/time-series/geo/carto-boundary-file.html) maintains shapefiles for boundaries of states, counties, and congressional districts in the United States. Shapefiles for international data can be found [at the Natural Earth website](https://www.naturalearthdata.com/downloads/110m-cultural-vectors/).\n",
        "\n",
        "The code below downloads the U.S. county shapefiles at the lowest possible resolution (1:20,000,000)."
      ]
    },
    {
      "cell_type": "code",
      "metadata": {
        "id": "tkLDYaM-79iJ",
        "colab_type": "code",
        "colab": {}
      },
      "source": [
        "!wget https://www2.census.gov/geo/tiger/GENZ2016/shp/cb_2016_us_county_20m.zip\n",
        "!unzip cb_2016_us_county_20m.zip -d counties\n",
        "!rm cb_2016_us_county_20m.zip\n",
        "!ls counties/"
      ],
      "execution_count": 0,
      "outputs": []
    },
    {
      "cell_type": "markdown",
      "metadata": {
        "id": "5Jra7K7n79iN",
        "colab_type": "text"
      },
      "source": [
        "Notice that \"shapefile\" is somewhat of a misnomer, as the format refers not to a single file but a collection of files, all of which have the same filename but different extensions. The main extensions are:\n",
        "\n",
        "- `.shp` - shape format, which stores the geometric objects\n",
        "- `.shx` - shape index format, which indexes the objects to make them quickly searchable\n",
        "- `.dbf` - attribute format, which stores additional metadata about each object\n",
        "- `.prj` - projection format\n",
        "\n",
        "To read in a shapefile using Basemap, we first set up the map, then call the `.readshapefile()` method, which takes two arguments: \n",
        "\n",
        "1. the common filename of the shapefiles, not including the file extension\n",
        "2. a name for the field that will store the attributes (you can pick any name you like, but try to be descriptive)."
      ]
    },
    {
      "cell_type": "code",
      "metadata": {
        "id": "-nm3L-id8Xg-",
        "colab_type": "code",
        "colab": {}
      },
      "source": [
        "!apt-get -qq install libgeos-dev\n",
        "!pip install -qq https://github.com/matplotlib/basemap/archive/master.zip"
      ],
      "execution_count": 0,
      "outputs": []
    },
    {
      "cell_type": "code",
      "metadata": {
        "id": "ARwSh5Vd79iP",
        "colab_type": "code",
        "colab": {}
      },
      "source": [
        "from mpl_toolkits.basemap import Basemap\n",
        "\n",
        "m = Basemap(llcrnrlon=-119, llcrnrlat=22, urcrnrlon=-64, urcrnrlat=49,\n",
        "            projection=\"lcc\", lat_1=33, lat_2=45, lon_0=-95)\n",
        "m.readshapefile(\"counties/cb_2016_us_county_20m\", \"counties\")"
      ],
      "execution_count": 0,
      "outputs": []
    },
    {
      "cell_type": "markdown",
      "metadata": {
        "id": "MJNAfnFE79iT",
        "colab_type": "text"
      },
      "source": [
        "Since the field was named `counties`, the vertices of each polygon will be stored in `m.counties`"
      ]
    },
    {
      "cell_type": "code",
      "metadata": {
        "id": "iGrw36EU79iU",
        "colab_type": "code",
        "colab": {}
      },
      "source": [
        "m.counties[2]"
      ],
      "execution_count": 0,
      "outputs": []
    },
    {
      "cell_type": "markdown",
      "metadata": {
        "id": "MPykrtfq79iY",
        "colab_type": "text"
      },
      "source": [
        "and information about each county stored in `m.counties_info`."
      ]
    },
    {
      "cell_type": "code",
      "metadata": {
        "id": "lTc4IIjE79iZ",
        "colab_type": "code",
        "colab": {}
      },
      "source": [
        "m.counties_info[:2]"
      ],
      "execution_count": 0,
      "outputs": []
    },
    {
      "cell_type": "markdown",
      "metadata": {
        "id": "xEOmfFw079id",
        "colab_type": "text"
      },
      "source": [
        "Note that the information in `m.counties_info` can be readily converted into a `DataFrame`."
      ]
    },
    {
      "cell_type": "code",
      "metadata": {
        "id": "f2nH9W3T79if",
        "colab_type": "code",
        "colab": {}
      },
      "source": [
        "import pandas as pd\n",
        "\n",
        "df_counties = pd.DataFrame(m.counties_info)\n",
        "df_counties"
      ],
      "execution_count": 0,
      "outputs": []
    },
    {
      "cell_type": "markdown",
      "metadata": {
        "id": "14WGX9Rz79ij",
        "colab_type": "text"
      },
      "source": [
        "## Patches and Collections in `matplotlib`\n",
        "\n",
        "In order to understand how choropleths are made, it is important to first understand what a `Patch` is in `matplotlib`. A `Patch` is simply a 2-dimensional object with an edge color and face color. Examples of `Patch`es include `Circle`s, `Rectangle`s, and `Polygon`s. Since areal units---like countries, states, and counties---are polygons in general, the most important type of `Patch` for making a choropleth is the `Polygon`. A `Polygon` is specified by a list of its vertices. For example, the following code creates a red `Polygon` out of the first county in the shapefile:"
      ]
    },
    {
      "cell_type": "code",
      "metadata": {
        "id": "5kj02Zvj79ik",
        "colab_type": "code",
        "colab": {}
      },
      "source": [
        "import matplotlib as mpl\n",
        "\n",
        "polygon = mpl.patches.Polygon(m.counties[0], facecolor=\"red\")\n",
        "polygon"
      ],
      "execution_count": 0,
      "outputs": []
    },
    {
      "cell_type": "markdown",
      "metadata": {
        "id": "7is7yzGF79in",
        "colab_type": "text"
      },
      "source": [
        "To draw the `Polygon` object that we just constructed, we first initialize a map and add the `Polygon` patch to the map. Notice that it is colored red, just like we specified above."
      ]
    },
    {
      "cell_type": "code",
      "metadata": {
        "id": "p-2mTve079io",
        "colab_type": "code",
        "colab": {}
      },
      "source": [
        "import matplotlib.pyplot as plt\n",
        "\n",
        "# Initialize a blank map.\n",
        "m.drawmapboundary()\n",
        "# Get the current axes.\n",
        "ax = plt.gca()\n",
        "# Add the patch to the current axes.\n",
        "ax.add_patch(polygon)"
      ],
      "execution_count": 0,
      "outputs": []
    },
    {
      "cell_type": "markdown",
      "metadata": {
        "id": "6uyYV2pK79is",
        "colab_type": "text"
      },
      "source": [
        "Thus, one way to create a choropleth is to draw the `Polygon` for each county, one at a time, setting the face color of each patch to an appropriate color based on the data value for that county. This requires that we maintain a color map that maps data values to colors.\n",
        "\n",
        "An easier way to make a choropleth is to create a `PatchCollection`, which allows us to associate a value with each patch and automatically generates a color map from the values. For example, suppose we want to color each county according to the fraction of the county that is water."
      ]
    },
    {
      "cell_type": "code",
      "metadata": {
        "id": "ZmytcKe679it",
        "colab_type": "code",
        "colab": {}
      },
      "source": [
        "frac_water = df_counties[\"AWATER\"] / (df_counties[\"AWATER\"] + df_counties[\"ALAND\"])\n",
        "frac_water"
      ],
      "execution_count": 0,
      "outputs": []
    },
    {
      "cell_type": "markdown",
      "metadata": {
        "id": "oFMrBdFz79iz",
        "colab_type": "text"
      },
      "source": [
        "We first create a `Polygon` for each county and then create a `PatchCollection` out of the polygons. Since we are displaying the fraction of each county that is _water_, it makes sense to use a blue color map (`Blues`). (A list of the available colormaps can be found [here](https://matplotlib.org/users/colormaps.html).)"
      ]
    },
    {
      "cell_type": "code",
      "metadata": {
        "id": "Yg_NiWQR79i0",
        "colab_type": "code",
        "colab": {}
      },
      "source": [
        "# Turn each set of vertices into a matplotlib Polygon.\n",
        "polygons = [mpl.patches.Polygon(vertices) for vertices in m.counties]\n",
        "\n",
        "# Create a collection of Polygons.\n",
        "collection = mpl.collections.PatchCollection(polygons, cmap=\"Blues\")"
      ],
      "execution_count": 0,
      "outputs": []
    },
    {
      "cell_type": "markdown",
      "metadata": {
        "id": "vqbEGkpG79i2",
        "colab_type": "text"
      },
      "source": [
        "Now for the key step. We have to tell the `PatchCollection` about the data values. To do this, we use the `.set_array()` method. Notice that the data values are in the same order as the polygons; the former was derived from `m.counties_info`, while the latter was derived from `m.counties`. The shapefile guarantees that these two lists are aligned."
      ]
    },
    {
      "cell_type": "code",
      "metadata": {
        "id": "fNcS5VdZ79i3",
        "colab_type": "code",
        "colab": {}
      },
      "source": [
        "collection.set_array(frac_water)"
      ],
      "execution_count": 0,
      "outputs": []
    },
    {
      "cell_type": "markdown",
      "metadata": {
        "id": "AIHet65W79i6",
        "colab_type": "text"
      },
      "source": [
        "Now we are ready to draw the map. To add a `PatchCollection` to a `matplotlib` `AxesSubplot` object, we use the `.add_collection()` method."
      ]
    },
    {
      "cell_type": "code",
      "metadata": {
        "id": "vsrWIOob79i7",
        "colab_type": "code",
        "colab": {}
      },
      "source": [
        "# Initialize a blank map.\n",
        "m.drawmapboundary()\n",
        "# Get the current axes.\n",
        "ax = plt.gca()\n",
        "# Add the collection to the current axes.\n",
        "ax.add_collection(collection)"
      ],
      "execution_count": 0,
      "outputs": []
    },
    {
      "cell_type": "markdown",
      "metadata": {
        "id": "XRVpnIZe79i_",
        "colab_type": "text"
      },
      "source": [
        "Notice that the counties that border major bodies of water tend to have a higher fraction of their area as water. This makes intuitive sense."
      ]
    },
    {
      "cell_type": "markdown",
      "metadata": {
        "id": "LE8RlOVR79jA",
        "colab_type": "text"
      },
      "source": [
        "## Making Choropleths with Outside Data\n",
        "\n",
        "In the above example, we made a choropleth from data that was already in the shapefile. But in general, the shapefile only contains minimal metadata about each areal unit. Suppose the data that we want to visualize resides in a separate file. For example, suppose we want to plot the 2016 presidential election results by county."
      ]
    },
    {
      "cell_type": "code",
      "metadata": {
        "id": "9ARuqHK779jB",
        "colab_type": "code",
        "colab": {}
      },
      "source": [
        "data_dir = \"https://dlsun.github.io/pods/data/\"\n",
        "df_election = pd.read_csv(data_dir + \"election2016.csv\")\n",
        "df_election"
      ],
      "execution_count": 0,
      "outputs": []
    },
    {
      "cell_type": "markdown",
      "metadata": {
        "id": "8IeQyfgy79jE",
        "colab_type": "text"
      },
      "source": [
        "*We* will need to merge `df_election` with the `df_counties` `DataFrame` that we defined above. But what do we merge the `DataFrame`s on? It turns out that every county in the United States is assigned a unique ID called a FIPS code. The FIPS code appears in `df_election` as `combined_fips` and in `df_counties` as `GEOID`. Let's take a look at these columns."
      ]
    },
    {
      "cell_type": "code",
      "metadata": {
        "id": "_YpH6b8M79jF",
        "colab_type": "code",
        "colab": {}
      },
      "source": [
        "df_election.combined_fips"
      ],
      "execution_count": 0,
      "outputs": []
    },
    {
      "cell_type": "code",
      "metadata": {
        "id": "KnOAx9bj79jH",
        "colab_type": "code",
        "colab": {}
      },
      "source": [
        "df_counties.GEOID"
      ],
      "execution_count": 0,
      "outputs": []
    },
    {
      "cell_type": "markdown",
      "metadata": {
        "id": "B0KUUNS079jJ",
        "colab_type": "text"
      },
      "source": [
        "Notice that `df_counties` treats the FIPS code as a string (so every FIPS code is exactly 5 digits, with a leading zero if necessary). On the other hand, `df_elections` treats the FIPS code as an integer. If we want to join the two, we will have to cast them to the same type. It is probably easier to convert the string to an integer than vice versa."
      ]
    },
    {
      "cell_type": "code",
      "metadata": {
        "id": "iHA_2lLb79jK",
        "colab_type": "code",
        "colab": {}
      },
      "source": [
        "df_counties[\"GEOID\"] = df_counties[\"GEOID\"].astype(int)"
      ],
      "execution_count": 0,
      "outputs": []
    },
    {
      "cell_type": "markdown",
      "metadata": {
        "id": "Vh5wmBJ679jO",
        "colab_type": "text"
      },
      "source": [
        "We are almost ready to merge `df_election` and `df_counties`. But before we proceed, remember that _order matters_. We need the order of the data values to match the order of the polygons. The shapefile guarantees that `df_counties` is aligned with `m.counties`, but `df_election` may list the counties in a different order. We need to merge `df_counties` with `df_election` in such a way that preserves the ordering of the counties in `df_counties`. A _left join_ preserves the ordering in the left `DataFrame`, as long as the relationship is not one-to-many. (Each county should appear only once in `df_election`, so this condition holds.)"
      ]
    },
    {
      "cell_type": "code",
      "metadata": {
        "id": "KaMU9CXo79jP",
        "colab_type": "code",
        "colab": {}
      },
      "source": [
        "df_all = df_counties.merge(df_election, \n",
        "                           how=\"left\", \n",
        "                           left_on=\"GEOID\", right_on=\"combined_fips\")\n",
        "df_all"
      ],
      "execution_count": 0,
      "outputs": []
    },
    {
      "cell_type": "markdown",
      "metadata": {
        "id": "cEVU_43-79jS",
        "colab_type": "text"
      },
      "source": [
        "One quick sanity check is to make sure that `df` has the same number of rows as `df_counties` (and `m.counties`). This seems to be the case.\n",
        "\n",
        "Now that the data values are aligned with the counties, we create a choropleth exactly as before:\n",
        "\n",
        "1. Create a `Polygon` for each county from the vertices in `m.counties`.\n",
        "2. Create a `PatchCollection` out of the `Polygons`. Set a color map for the collection.\n",
        "3. Call `PatchCollection.set_array()` on the data values. (Make sure the data values appear in the same order as the polygons.)\n",
        "4. Draw the map.\n",
        "\n",
        "There is just one catch. When we left-joined `df_counties` to `df_election`, some of the FIPS codes could not be matched. Therefore, these counties will be missing election data. Unfortunately, `matplotlib`'s color maps do not handle missing values gracefully, so we will have to handle these manually.\n",
        "\n",
        "Let's first take a look at which states these counties were in."
      ]
    },
    {
      "cell_type": "code",
      "metadata": {
        "id": "R7QQsyNG79jT",
        "colab_type": "code",
        "colab": {}
      },
      "source": [
        "df_all[df_all.per_dem.isnull()].STATEFP.value_counts()"
      ],
      "execution_count": 0,
      "outputs": []
    },
    {
      "cell_type": "markdown",
      "metadata": {
        "id": "jDPspt4I79jW",
        "colab_type": "text"
      },
      "source": [
        "[A list of FIPS State Codes can be found here](https://en.wikipedia.org/wiki/Federal_Information_Processing_Standard_state_code). The \"states\" that had more than one county missing election data are all outlying territories: Puerto Rico (72), Northern Mariana Islands (69), Virgin Islands (78), American Samoa (60), and Guam (66). It turns out that the two remaining states, each with exactly one county that could not be joined, are Alaska (02) and Hawaii (15), which do not show up on our map of the continental United States. So we can safely fill the missing values in `df_all` with an arbitrary value in the middle of the data range without affecting the appearance of the map, since none of these states/territories actually show up on the map."
      ]
    },
    {
      "cell_type": "code",
      "metadata": {
        "id": "izPUyKrw79jX",
        "colab_type": "code",
        "colab": {}
      },
      "source": [
        "# Turn each set of vertices into a matplotlib Polygon.\n",
        "polygons = [mpl.patches.Polygon(vertices) for vertices in m.counties]\n",
        "\n",
        "# Create a collection of Polygons.\n",
        "p = mpl.collections.PatchCollection(polygons, cmap=\"RdBu\")\n",
        "\n",
        "# Set the data that you want to plot.\n",
        "# (Notice that we fill missing values with 0.5, per the above discussion.)\n",
        "p.set_array(df_all.per_dem.fillna(0.5))\n",
        "\n",
        "# Draw the map.\n",
        "plt.figure(figsize=(12, 8))\n",
        "m.drawmapboundary()\n",
        "ax = plt.gca()\n",
        "ax.add_collection(p)"
      ],
      "execution_count": 0,
      "outputs": []
    },
    {
      "cell_type": "markdown",
      "metadata": {
        "id": "DOs-kL0CMChK",
        "colab_type": "text"
      },
      "source": [
        "## Communication Corner\n",
        "\n",
        "> \"Oh, I love those beautiful red areas, that middle of the map.  There’s just a little blue here and a little blue there.  Everything else — everything else is bright red.\" \n",
        ">\n",
        "> -- Donald Trump\n",
        "\n",
        "Choropleths can be misleading because they violate the *area principle*---the principle that the area on a graph should represent the magnitude of the data being presented. Since the geographic size of a county is often irrelevant to the data being presented, choropleths can easily be misinterpreted.\n",
        "\n",
        "For example, President Donald Trump cites the large amount of red area on the 2016 electoral map as an indication of overwhelming support for him. However, the total amount of red area is a statistic that conflates two unrelated quantities: the geographic size of a county and the depth of support for Trump. In fact, most of the red area is in rural parts of the country where few people live. From the choropleth, one would never guess that more people actually voted for his opponent Hillary Clinton! She received strong support from urban areas, but unfortunately for her, cities can barely be seen on a map---despite [being home to a majority of Americans](https://www.census.gov/newsroom/press-releases/2015/cb15-33.html).\n",
        "\n",
        "It is important to be cautious when designing and interpreting choropleths."
      ]
    },
    {
      "cell_type": "markdown",
      "metadata": {
        "id": "EUYU1qdf79jZ",
        "colab_type": "text"
      },
      "source": [
        "## Exercises"
      ]
    },
    {
      "cell_type": "markdown",
      "metadata": {
        "id": "OEfm_Jg679ja",
        "colab_type": "text"
      },
      "source": [
        "1\\. The data set (`https://raw.githubusercontent.com/CSSEGISandData/COVID-19/master/csse_covid_19_data/csse_covid_19_time_series/time_series_covid19_confirmed_global.csv`) contains data about the number of confirmed cases of the COVID-19 disease that caused a pandemic in 2020. Download shapefiles of the countries of the world from the [Natural Earth website](https://www.naturalearthdata.com/downloads/), and make a choropleth showing the number of confirmed cases of COVID-19 in each country."
      ]
    }
  ]
}