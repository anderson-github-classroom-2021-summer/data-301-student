{
  "nbformat": 4,
  "nbformat_minor": 0,
  "metadata": {
    "kernelspec": {
      "display_name": "Python 3",
      "language": "python",
      "name": "python3"
    },
    "language_info": {
      "codemirror_mode": {
        "name": "ipython",
        "version": 3
      },
      "file_extension": ".py",
      "mimetype": "text/x-python",
      "name": "python",
      "nbconvert_exporter": "python",
      "pygments_lexer": "ipython3",
      "version": "3.6.8"
    },
    "colab": {
      "name": "12.1 Map Projections and Distance Metrics.ipynb",
      "provenance": [],
      "include_colab_link": true
    }
  },
  "cells": [
    {
      "cell_type": "markdown",
      "metadata": {
        "id": "view-in-github",
        "colab_type": "text"
      },
      "source": [
        "<a href=\"https://colab.research.google.com/github/dlsun/pods/blob/master/12-Geospatial-Data/12.1%20Map%20Projections%20and%20Distance%20Metrics.ipynb\" target=\"_parent\"><img src=\"https://colab.research.google.com/assets/colab-badge.svg\" alt=\"Open In Colab\"/></a>"
      ]
    },
    {
      "cell_type": "markdown",
      "metadata": {
        "id": "E-x7nPTrzw8T",
        "colab_type": "text"
      },
      "source": [
        "# Chapter 12. Geospatial Data\n",
        "\n",
        "**Geospatial data** is data that is associated with spatial locations, usually locations on Earth. For example, the percentage of people in each state who voted for a presidential candidate is an example of geospatial data, as are the locations of earthquake epicenters. In this chapter, we will discuss techniques for analyzing and visualizing geographic data.\n",
        "\n",
        "# 12.1 Map Projections and Distance Metrics\n",
        "\n",
        "## Longitude and Latitude\n",
        "\n",
        "Consider the location below in the middle of the Atlantic Ocean, indicated by a red point. How would we describe this location of this point?\n",
        "\n",
        "![](https://github.com/dlsun/pods/blob/master/12-Geospatial-Data/img/coordinate.png?raw=1)\n",
        "\n",
        "The Earth is divided into Northern and Southern Hemispheres by the **equator** and into Eastern and Western Hemispheres by the **prime meridian**. Locations on the surface of the earth can be specified as angles relative to the equator and prime meridian. \n",
        "\n",
        "![](https://github.com/dlsun/pods/blob/master/12-Geospatial-Data/img/coordinate_labeled.png?raw=1)\n",
        "\n",
        "The angle relative to the equator is called the **latitude**. This point is $30^\\circ$ north of the equator, so the latitude is $\\phi = 30^\\circ$. If it had been south of the equator, then the angle would have been negative. The latitude ranges from $-90^\\circ$ (the South Pole) to $90^\\circ$ (the North Pole).\n",
        "\n",
        "The angle relative to the prime meridian is called the **longitude**. This point is $45^\\circ$ west of the prime meridian, so the longitude is $\\lambda = -45^\\circ$. If it had been east of the prime meridian, then the angle would have been positive. The longitude ranges from $-180^\\circ$ to $180^\\circ$."
      ]
    },
    {
      "cell_type": "markdown",
      "metadata": {
        "id": "jzyCN7_tzw8W",
        "colab_type": "text"
      },
      "source": [
        "## Distance Metrics\n",
        "\n",
        "How do we measure the distance between two points, ${\\bf x}_1 = (\\lambda_1, \\phi_1)$ and ${\\bf x}_2 = (\\lambda_2, \\phi_2)$, on the surface of the Earth? The obvious choice, Euclidean distance, \n",
        "$$ d({\\bf x}_1, {\\bf x}_2) = \\sqrt{(\\lambda_1 - \\lambda_2)^2 + (\\phi_1 - \\phi_2)^2} $$\n",
        "is unsatisfactory. To see why, consider the distance between Vancouver, Canada ($-123.1838^\\circ$, $49.1947^\\circ$) and London, United Kingdom ($-0.4613^\\circ$, $51.4775^\\circ$). Euclidean distance would make these two cities are very far apart, about as far apart as San Francisco and Madrid. But as you might know if you have ever taken a transatlantic flight, the distance can be shorter if you fly north. The shortest path between Vancouver and London is shown below.\n",
        "\n",
        "![](https://github.com/dlsun/pods/blob/master/12-Geospatial-Data/img/haversine.png?raw=1)\n",
        "\n",
        "The distance between two points on the surface of the Earth is the distance of the _shortest path_ between them. On a sphere, the shortest path between any two points is the path along the _great circle_---that is, the circle passing through the two points, whose diameter matches the diameter of the sphere. The great circle is represented by a dashed line in the figure above.\n",
        "\n",
        "The distance along the great circle is known as **Haversine distance**. Haversine distance is calculated as \n",
        "$$ d({\\bf x}_1, {\\bf x}_2) = 2r \\arcsin\\left( \\sqrt{\\sin^2\\left( \\frac{\\phi_1 - \\phi_2}{2} \\right) + \\cos(\\phi_1) \\cos(\\phi_2) \\sin^2\\left( \\frac{\\lambda_1 - \\lambda_2}{2} \\right)} \\right),$$\n",
        "where $r$ is the radius of the sphere. "
      ]
    },
    {
      "cell_type": "code",
      "metadata": {
        "id": "O1aI2tYWzw8Y",
        "colab_type": "code",
        "colab": {}
      },
      "source": [
        "import numpy as np\n",
        "\n",
        "# Mean radius of the earth (in km)\n",
        "EARTH_RADIUS = 6371.009\n",
        "\n",
        "def haversine(point1, point2):\n",
        "    \"\"\"\n",
        "    Calculate the great circle distance between two points\n",
        "    on the Earth, specified as (lon, lat), where lon and lat\n",
        "    are in degrees.\n",
        "    \n",
        "    Returns: distance between points in km\n",
        "    \"\"\"\n",
        "    # convert decimal degrees to radians\n",
        "    lon1, lat1 = [np.radians(x) for x in point1]\n",
        "    lon2, lat2 = [np.radians(x) for x in point2]\n",
        "\n",
        "    # haversine formula\n",
        "    dlon = lon2 - lon1\n",
        "    dlat = lat2 - lat1\n",
        "    a = np.sin(dlat / 2) ** 2 + np.cos(lat1) * np.cos(lat2) * np.sin(dlon / 2) ** 2\n",
        "    return 2 * EARTH_RADIUS * np.arcsin(np.sqrt(a))"
      ],
      "execution_count": 0,
      "outputs": []
    },
    {
      "cell_type": "code",
      "metadata": {
        "id": "jrHaTw9Uzw8e",
        "colab_type": "code",
        "colab": {}
      },
      "source": [
        "vancouver = (-123.1838, 49.1947)\n",
        "london =  (-0.4613, 51.4775)\n",
        "haversine(vancouver, london)"
      ],
      "execution_count": 0,
      "outputs": []
    },
    {
      "cell_type": "markdown",
      "metadata": {
        "id": "qrQT_K88zw8j",
        "colab_type": "text"
      },
      "source": [
        "## Projections\n",
        "\n",
        "A map depicts geographic data on a flat, two-dimensional plane. The process of converting a three-dimensional surface to a two-dimensional plane is known as **projection**. There are many possible projections. Every projection distorts the surface in some way, so there is no \"best\" projection. The right projection depends on the situation.\n",
        "\n",
        "One of the early map projections, developed during the Age of Exploration, was the **Mercator projection**, which is a type of _cylindrical projection_.\n",
        "\n",
        "![](https://github.com/dlsun/pods/blob/master/12-Geospatial-Data/img/mercator.jpg?raw=1)\n",
        "\n",
        "To obtain a cylindrical projection, we first imagine rolling a flat piece of paper into a cylinder that encloses the Earth. Next, we imagine a source of light emanating from the center from the Earth, projecting each location on the surface of the earth onto the cylinder. The map is just the unrolled cylinder.\n",
        "\n",
        "The Mercator projection is _conformal_, meaning that it preserves angles. This makes it useful for navigation. The problem with the Mercator projection is that it grossly distorts the sizes of locations near the poles. Canada, Russia, and Greenland appear much bigger than they actually are. Shown below is a comparison of the apparent sizes of Greenland and Africa in the Mercator projection and in actuality.\n",
        "\n",
        "![](https://github.com/dlsun/pods/blob/master/12-Geospatial-Data/img/greenland-vs-africa.jpg?raw=1)\n",
        "\n",
        "There are other projections, the most notable ones being the Gall-Peters projection (a projection that preserves areas exactly) and the Robinson projection (a projection that is neither conformal nor equal-area, but a reasonable compromise between the two).\n",
        "\n",
        "![](https://github.com/dlsun/pods/blob/master/12-Geospatial-Data/img/projections.jpg?raw=1)\n",
        "\n",
        "There are also _conic projections_. That is, locations on the surface of the earth are projected onto a cone instead of a cylinder.\n",
        "\n",
        "![](https://github.com/dlsun/pods/blob/master/12-Geospatial-Data/img/conic.jpg?raw=1)\n",
        "\n",
        "The cone can touch the surface of the Earth at one latitude (in which case it is called a \"tangent cone\") or two (in which case it is called a \"secant cone\"). The latitudes at which the cone meets the surface of the Earth are called **reference latitudes**. Distances along the reference latitudes are preserved perfectly. A common conic projection that is used for regional maps is the **Lambert conformal conic** (LCC) projection.\n",
        "\n",
        "For more information about map projections, read [Understanding Map Projections](http://downloads2.esri.com/support/documentation/ao_/710Understanding_Map_Projections.pdf). But let's take the projections that we know and start making maps."
      ]
    },
    {
      "cell_type": "markdown",
      "metadata": {
        "id": "rwC0ZGCXzw8l",
        "colab_type": "text"
      },
      "source": [
        "# Making Maps with _cartopy_\n",
        "\n",
        "To make maps, we use the _cartopy_ library, which plays well with _matplotlib_."
      ]
    },
    {
      "cell_type": "code",
      "metadata": {
        "id": "wg5EZukjADoh",
        "colab_type": "code",
        "colab": {}
      },
      "source": [
        "# I had to uninstall Shapely to get this to work in Colab.\n",
        "!pip uninstall -y shapely\n",
        "!apt-get -qq install python-cartopy python3-cartopy\n",
        "!pip install cartopy==0.18.0"
      ],
      "execution_count": 0,
      "outputs": []
    },
    {
      "cell_type": "code",
      "metadata": {
        "id": "vTWqgEnDzw8m",
        "colab_type": "code",
        "colab": {}
      },
      "source": [
        "import cartopy.crs as ccrs\n",
        "import matplotlib.pyplot as plt"
      ],
      "execution_count": 0,
      "outputs": []
    },
    {
      "cell_type": "markdown",
      "metadata": {
        "id": "D_WZ61eCzw8r",
        "colab_type": "text"
      },
      "source": [
        "The LCC projection is often used to make a map of the United States. For this projection, we have to specify the central latitude and longitude, as well as the reference latitudes (a.k.a. `standard_parallels=`). A list of all of the projections available in _cartopy_ can be found [here](https://scitools.org.uk/cartopy/docs/v0.16/crs/projections.html).\n",
        "\n",
        "Once we have chosen a projection, it's time to add features, like bodies of water and country, to our map. To request a particular feature, we use the `.natural_earth_shp()` method, which tells _cartopy_ what data it should download from [Natural Earth](https://www.naturalearthdata.com/downloads/) and how to plot it.\n",
        "\n",
        "For example, \n",
        "```\n",
        "ax.natural_earth_shp(name=\"lakes\",\n",
        "                     resolution=\"110m\",\n",
        "                     category=\"physical\", \n",
        "                     facecolor=\"skyblue\")\n",
        "```\n",
        "tells _cartopy_ to download the `lakes` data from the [1:110m resolution physical vectors](https://www.naturalearthdata.com/downloads/110m-physical-vectors/) and to color the lakes skyblue."
      ]
    },
    {
      "cell_type": "code",
      "metadata": {
        "id": "vAVCEwqT3L-L",
        "colab_type": "code",
        "colab": {}
      },
      "source": [
        "ax = plt.axes(projection=ccrs.Mercator())\n",
        "ax.coastlines()"
      ],
      "execution_count": 0,
      "outputs": []
    },
    {
      "cell_type": "code",
      "metadata": {
        "id": "PSeKVl-m2oOt",
        "colab_type": "code",
        "colab": {}
      },
      "source": [
        "ax = plt.axes(\n",
        "    projection=ccrs.LambertConformal(\n",
        "        central_latitude=39,\n",
        "        central_longitude=-96,\n",
        "        standard_parallels=(33, 45)\n",
        "    )\n",
        ")\n",
        "\n",
        "ax.coastlines()"
      ],
      "execution_count": 0,
      "outputs": []
    },
    {
      "cell_type": "code",
      "metadata": {
        "id": "Jk2z_9Rgzw8s",
        "colab_type": "code",
        "colab": {}
      },
      "source": [
        "ax = plt.axes(\n",
        "    projection=ccrs.LambertConformal(\n",
        "        central_latitude=39,\n",
        "        central_longitude=-96,\n",
        "        standard_parallels=(33, 45)\n",
        "    )\n",
        ")\n",
        "\n",
        "ax.natural_earth_shp(name=\"lakes\",\n",
        "                     resolution=\"110m\",\n",
        "                     category=\"physical\", \n",
        "                     facecolor=\"skyblue\")\n",
        "ax.natural_earth_shp(name=\"ocean\",\n",
        "                     resolution=\"110m\",\n",
        "                     category=\"physical\", \n",
        "                     facecolor=\"skyblue\")\n",
        "\n",
        "# To see that the name should be admin_0_countries, note that the URL is\n",
        "# https://www.naturalearthdata.com/download/110m/cultural/ne_110m_admin_0_countries.zip\n",
        "ax.natural_earth_shp(name=\"admin_0_countries\",\n",
        "                     resolution=\"110m\",\n",
        "                     category=\"cultural\", \n",
        "                     facecolor=\"None\", edgecolor=\"black\")\n",
        "\n",
        "# This sets the x- and y-axes limits\n",
        "ax.set_extent([-125, -66.5, 20, 50])"
      ],
      "execution_count": 0,
      "outputs": []
    },
    {
      "cell_type": "markdown",
      "metadata": {
        "id": "RrhALdPnzw8w",
        "colab_type": "text"
      },
      "source": [
        "Natural Earth provides other data, including states, provinces, land, and coastlines. A complete list can be found [here](https://www.naturalearthdata.com/downloads/)."
      ]
    },
    {
      "cell_type": "markdown",
      "metadata": {
        "id": "gWsS5kmCzw8y",
        "colab_type": "text"
      },
      "source": [
        "# Exercises"
      ]
    },
    {
      "cell_type": "markdown",
      "metadata": {
        "id": "vLp-g71ozw8z",
        "colab_type": "text"
      },
      "source": [
        "1\\. The latitudes and longitudes of 7322 world cities are contained in `https://dlsun.github.io/pods/data/worldcities.csv`. Find the 15 closest cities to St. Louis, as measured by Euclidean distance and Haversine distance. Do you notice any differences between the two lists?"
      ]
    },
    {
      "cell_type": "markdown",
      "metadata": {
        "id": "G_Ry60Ujzw81",
        "colab_type": "text"
      },
      "source": [
        "2\\. Make a map of Europe with country borders. (You will need to fiddle with the boundaries of the plot until it looks right.) Try different projection methods to see how they differ."
      ]
    }
  ]
}
