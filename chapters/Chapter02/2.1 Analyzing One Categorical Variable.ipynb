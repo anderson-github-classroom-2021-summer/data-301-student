{
 "cells": [
  {
   "cell_type": "markdown",
   "metadata": {
    "colab_type": "text",
    "id": "0bNZijfPJtYw"
   },
   "source": [
    "Recall from Chapter 1 that a **categorical variable** is a variable that can take on one of a limited set of values (which are called _levels_). In this chapter, we will discuss ways to analyze categorical variables. Throughout this chapter, we use the Titanic data set as a working example. This data set contains information about all of the people who were aboard the RMS Titanic when it sank in 1912, including both passengers and crew. Let's start by reading in this data set."
   ]
  },
  {
   "cell_type": "code",
   "execution_count": 21,
   "metadata": {
    "colab": {},
    "colab_type": "code",
    "id": "_YFx6GgqJtYz"
   },
   "outputs": [
    {
     "data": {
      "text/html": [
       "<div>\n",
       "<style scoped>\n",
       "    .dataframe tbody tr th:only-of-type {\n",
       "        vertical-align: middle;\n",
       "    }\n",
       "\n",
       "    .dataframe tbody tr th {\n",
       "        vertical-align: top;\n",
       "    }\n",
       "\n",
       "    .dataframe thead th {\n",
       "        text-align: right;\n",
       "    }\n",
       "</style>\n",
       "<table border=\"1\" class=\"dataframe\">\n",
       "  <thead>\n",
       "    <tr style=\"text-align: right;\">\n",
       "      <th></th>\n",
       "      <th>name</th>\n",
       "      <th>gender</th>\n",
       "      <th>age</th>\n",
       "      <th>class</th>\n",
       "      <th>embarked</th>\n",
       "      <th>country</th>\n",
       "      <th>ticketno</th>\n",
       "      <th>fare</th>\n",
       "      <th>survived</th>\n",
       "    </tr>\n",
       "  </thead>\n",
       "  <tbody>\n",
       "    <tr>\n",
       "      <th>0</th>\n",
       "      <td>Abbing, Mr. Anthony</td>\n",
       "      <td>male</td>\n",
       "      <td>42.0</td>\n",
       "      <td>3rd</td>\n",
       "      <td>S</td>\n",
       "      <td>United States</td>\n",
       "      <td>5547.0</td>\n",
       "      <td>7.11</td>\n",
       "      <td>0</td>\n",
       "    </tr>\n",
       "    <tr>\n",
       "      <th>1</th>\n",
       "      <td>Abbott, Mr. Eugene Joseph</td>\n",
       "      <td>male</td>\n",
       "      <td>13.0</td>\n",
       "      <td>3rd</td>\n",
       "      <td>S</td>\n",
       "      <td>United States</td>\n",
       "      <td>2673.0</td>\n",
       "      <td>20.05</td>\n",
       "      <td>0</td>\n",
       "    </tr>\n",
       "    <tr>\n",
       "      <th>2</th>\n",
       "      <td>Abbott, Mr. Rossmore Edward</td>\n",
       "      <td>male</td>\n",
       "      <td>16.0</td>\n",
       "      <td>3rd</td>\n",
       "      <td>S</td>\n",
       "      <td>United States</td>\n",
       "      <td>2673.0</td>\n",
       "      <td>20.05</td>\n",
       "      <td>0</td>\n",
       "    </tr>\n",
       "    <tr>\n",
       "      <th>3</th>\n",
       "      <td>Abbott, Mrs. Rhoda Mary 'Rosa'</td>\n",
       "      <td>female</td>\n",
       "      <td>39.0</td>\n",
       "      <td>3rd</td>\n",
       "      <td>S</td>\n",
       "      <td>England</td>\n",
       "      <td>2673.0</td>\n",
       "      <td>20.05</td>\n",
       "      <td>1</td>\n",
       "    </tr>\n",
       "    <tr>\n",
       "      <th>4</th>\n",
       "      <td>Abelseth, Miss. Karen Marie</td>\n",
       "      <td>female</td>\n",
       "      <td>16.0</td>\n",
       "      <td>3rd</td>\n",
       "      <td>S</td>\n",
       "      <td>Norway</td>\n",
       "      <td>348125.0</td>\n",
       "      <td>7.13</td>\n",
       "      <td>1</td>\n",
       "    </tr>\n",
       "    <tr>\n",
       "      <th>...</th>\n",
       "      <td>...</td>\n",
       "      <td>...</td>\n",
       "      <td>...</td>\n",
       "      <td>...</td>\n",
       "      <td>...</td>\n",
       "      <td>...</td>\n",
       "      <td>...</td>\n",
       "      <td>...</td>\n",
       "      <td>...</td>\n",
       "    </tr>\n",
       "    <tr>\n",
       "      <th>2202</th>\n",
       "      <td>Wynn, Mr. Walter</td>\n",
       "      <td>male</td>\n",
       "      <td>41.0</td>\n",
       "      <td>deck crew</td>\n",
       "      <td>B</td>\n",
       "      <td>England</td>\n",
       "      <td>NaN</td>\n",
       "      <td>NaN</td>\n",
       "      <td>1</td>\n",
       "    </tr>\n",
       "    <tr>\n",
       "      <th>2203</th>\n",
       "      <td>Yearsley, Mr. Harry</td>\n",
       "      <td>male</td>\n",
       "      <td>40.0</td>\n",
       "      <td>victualling crew</td>\n",
       "      <td>S</td>\n",
       "      <td>England</td>\n",
       "      <td>NaN</td>\n",
       "      <td>NaN</td>\n",
       "      <td>1</td>\n",
       "    </tr>\n",
       "    <tr>\n",
       "      <th>2204</th>\n",
       "      <td>Young, Mr. Francis James</td>\n",
       "      <td>male</td>\n",
       "      <td>32.0</td>\n",
       "      <td>engineering crew</td>\n",
       "      <td>S</td>\n",
       "      <td>England</td>\n",
       "      <td>NaN</td>\n",
       "      <td>NaN</td>\n",
       "      <td>0</td>\n",
       "    </tr>\n",
       "    <tr>\n",
       "      <th>2205</th>\n",
       "      <td>Zanetti, Sig. Minio</td>\n",
       "      <td>male</td>\n",
       "      <td>20.0</td>\n",
       "      <td>restaurant staff</td>\n",
       "      <td>S</td>\n",
       "      <td>England</td>\n",
       "      <td>NaN</td>\n",
       "      <td>NaN</td>\n",
       "      <td>0</td>\n",
       "    </tr>\n",
       "    <tr>\n",
       "      <th>2206</th>\n",
       "      <td>Zarracchi, Sig. L.</td>\n",
       "      <td>male</td>\n",
       "      <td>26.0</td>\n",
       "      <td>restaurant staff</td>\n",
       "      <td>S</td>\n",
       "      <td>England</td>\n",
       "      <td>NaN</td>\n",
       "      <td>NaN</td>\n",
       "      <td>0</td>\n",
       "    </tr>\n",
       "  </tbody>\n",
       "</table>\n",
       "<p>2207 rows × 9 columns</p>\n",
       "</div>"
      ],
      "text/plain": [
       "                                name  gender   age             class embarked  \\\n",
       "0                Abbing, Mr. Anthony    male  42.0               3rd        S   \n",
       "1          Abbott, Mr. Eugene Joseph    male  13.0               3rd        S   \n",
       "2        Abbott, Mr. Rossmore Edward    male  16.0               3rd        S   \n",
       "3     Abbott, Mrs. Rhoda Mary 'Rosa'  female  39.0               3rd        S   \n",
       "4        Abelseth, Miss. Karen Marie  female  16.0               3rd        S   \n",
       "...                              ...     ...   ...               ...      ...   \n",
       "2202                Wynn, Mr. Walter    male  41.0         deck crew        B   \n",
       "2203             Yearsley, Mr. Harry    male  40.0  victualling crew        S   \n",
       "2204        Young, Mr. Francis James    male  32.0  engineering crew        S   \n",
       "2205             Zanetti, Sig. Minio    male  20.0  restaurant staff        S   \n",
       "2206              Zarracchi, Sig. L.    male  26.0  restaurant staff        S   \n",
       "\n",
       "            country  ticketno   fare  survived  \n",
       "0     United States    5547.0   7.11         0  \n",
       "1     United States    2673.0  20.05         0  \n",
       "2     United States    2673.0  20.05         0  \n",
       "3           England    2673.0  20.05         1  \n",
       "4            Norway  348125.0   7.13         1  \n",
       "...             ...       ...    ...       ...  \n",
       "2202        England       NaN    NaN         1  \n",
       "2203        England       NaN    NaN         1  \n",
       "2204        England       NaN    NaN         0  \n",
       "2205        England       NaN    NaN         0  \n",
       "2206        England       NaN    NaN         0  \n",
       "\n",
       "[2207 rows x 9 columns]"
      ]
     },
     "execution_count": 21,
     "metadata": {},
     "output_type": "execute_result"
    }
   ],
   "source": [
    "import pandas as pd\n",
    "\n",
    "data_dir = \"http://dlsun.github.io/pods/data/\"\n",
    "df_titanic = pd.read_csv(data_dir + \"titanic.csv\")\n",
    "df_titanic"
   ]
  },
  {
   "cell_type": "markdown",
   "metadata": {
    "colab_type": "text",
    "id": "c6RRWPfWJtY5"
   },
   "source": [
    "The categorical variables in this data set are:\n",
    "- `gender` (male or female)\n",
    "- `class`: what class they were in (1st, 2nd, or 3rd) or what type of crew member they were\n",
    "- `embarked`: where they embarked (Belfast, Southampton, Cherbourg, or Queenstown)\n",
    "- `country`: their country of origin\n",
    "- `ticketno`: the ticket number\n",
    "- `survived`: whether or not they survived the disaster\n",
    "\n",
    "Note that `age` and `fare` are quantitative variables. It is tempting to consider `name` a categorical variable, but it is not, since (almost) every person has a unique name. In order for a variable to be categorical, it must take on a _limited_ set of values, ideally with each level appearing multiple times in the data set. Otherwise, the analyses that we describe in this chapter will not be very meaningful."
   ]
  },
  {
   "cell_type": "markdown",
   "metadata": {
    "colab_type": "text",
    "id": "XRBPQWpZJtZm"
   },
   "source": [
    "# Analyzing One Categorical Variable\n",
    "\n",
    "In this lesson, we focus on a single categorical variable. For a high-level summary of a categorical variable, we can use the `.describe()` command. Note that the behavior of `.describe()` will change, depending on whether `pandas` thinks that the variable is quantitative or categorical, which is why it is important to cast categorical variables to the right type, as we discussed in the previous chapter."
   ]
  },
  {
   "cell_type": "code",
   "execution_count": 2,
   "metadata": {
    "colab": {},
    "colab_type": "code",
    "id": "nru7HFtNJtZn"
   },
   "outputs": [
    {
     "data": {
      "text/plain": [
       "count     2207\n",
       "unique       7\n",
       "top        3rd\n",
       "freq       709\n",
       "Name: class, dtype: object"
      ]
     },
     "execution_count": 2,
     "metadata": {},
     "output_type": "execute_result"
    }
   ],
   "source": [
    "df_titanic[\"class\"].describe()"
   ]
  },
  {
   "cell_type": "markdown",
   "metadata": {
    "colab_type": "text",
    "id": "AUwJjfTQJtZt"
   },
   "source": [
    "To completely summarize a single categorical variable, we report the number of times each level appeared, or its **frequency**."
   ]
  },
  {
   "cell_type": "code",
   "execution_count": 24,
   "metadata": {
    "colab": {},
    "colab_type": "code",
    "id": "E4kcGK9TJtZt"
   },
   "outputs": [
    {
     "data": {
      "text/plain": [
       "deck crew            66\n",
       "restaurant staff     69\n",
       "2nd                 284\n",
       "engineering crew    324\n",
       "1st                 324\n",
       "victualling crew    431\n",
       "3rd                 709\n",
       "Name: class, dtype: int64"
      ]
     },
     "execution_count": 24,
     "metadata": {},
     "output_type": "execute_result"
    }
   ],
   "source": [
    "class_counts = df_titanic[\"class\"].value_counts(ascending=True)\n",
    "class_counts"
   ]
  },
  {
   "cell_type": "markdown",
   "metadata": {
    "colab_type": "text",
    "id": "Bmk5Y7zQJtZw"
   },
   "source": [
    "Notice that the levels are sorted in decreasing order of frequency by default. We can also report the levels in the order they appear in the data set..."
   ]
  },
  {
   "cell_type": "code",
   "execution_count": 4,
   "metadata": {
    "colab": {},
    "colab_type": "code",
    "id": "yEK0-PecJtZx"
   },
   "outputs": [
    {
     "data": {
      "text/plain": [
       "3rd                 709\n",
       "2nd                 284\n",
       "victualling crew    431\n",
       "deck crew            66\n",
       "engineering crew    324\n",
       "restaurant staff     69\n",
       "1st                 324\n",
       "Name: class, dtype: int64"
      ]
     },
     "execution_count": 4,
     "metadata": {},
     "output_type": "execute_result"
    }
   ],
   "source": [
    "df_titanic[\"class\"].value_counts(sort=False)"
   ]
  },
  {
   "cell_type": "markdown",
   "metadata": {
    "colab_type": "text",
    "id": "7P-TqJvrJtZ0"
   },
   "source": [
    "...or in alphabetical order, by sorting the index:"
   ]
  },
  {
   "cell_type": "code",
   "execution_count": 26,
   "metadata": {
    "colab": {},
    "colab_type": "code",
    "id": "w1jjt1nuJtZ0"
   },
   "outputs": [
    {
     "data": {
      "text/plain": [
       "1st                 324\n",
       "2nd                 284\n",
       "3rd                 709\n",
       "deck crew            66\n",
       "engineering crew    324\n",
       "restaurant staff     69\n",
       "victualling crew    431\n",
       "Name: class, dtype: int64"
      ]
     },
     "execution_count": 26,
     "metadata": {},
     "output_type": "execute_result"
    }
   ],
   "source": [
    "class_counts.sort_index()"
   ]
  },
  {
   "cell_type": "markdown",
   "metadata": {
    "colab_type": "text",
    "id": "kCTkd_7OJtZ3"
   },
   "source": [
    "Note that this produces a _new_ `Series` with the index sorted. It does not sort the original `Series` `class_counts`. To sort the original series, we need to specify that the sorting should be done in place, just like we did for `.set_index()` in Chapter 1."
   ]
  },
  {
   "cell_type": "code",
   "execution_count": 6,
   "metadata": {
    "colab": {},
    "colab_type": "code",
    "id": "6tMY5S4CJtZ3"
   },
   "outputs": [
    {
     "data": {
      "text/plain": [
       "1st                 324\n",
       "2nd                 284\n",
       "3rd                 709\n",
       "deck crew            66\n",
       "engineering crew    324\n",
       "restaurant staff     69\n",
       "victualling crew    431\n",
       "Name: class, dtype: int64"
      ]
     },
     "execution_count": 6,
     "metadata": {},
     "output_type": "execute_result"
    }
   ],
   "source": [
    "class_counts.sort_index(inplace=True)\n",
    "class_counts"
   ]
  },
  {
   "cell_type": "markdown",
   "metadata": {
    "colab_type": "text",
    "id": "HBFyIJmYJtZ8"
   },
   "source": [
    "Any other order would require selecting the levels manually, in the desired order."
   ]
  },
  {
   "cell_type": "code",
   "execution_count": 7,
   "metadata": {
    "colab": {},
    "colab_type": "code",
    "id": "Q7vi4FgIJtZ9"
   },
   "outputs": [
    {
     "data": {
      "text/plain": [
       "1st                 324\n",
       "2nd                 284\n",
       "3rd                 709\n",
       "deck crew            66\n",
       "engineering crew    324\n",
       "victualling crew    431\n",
       "restaurant staff     69\n",
       "Name: class, dtype: int64"
      ]
     },
     "execution_count": 7,
     "metadata": {},
     "output_type": "execute_result"
    }
   ],
   "source": [
    "class_counts.loc[[\"1st\", \"2nd\", \"3rd\",\"deck crew\", \"engineering crew\", \"victualling crew\",\"restaurant staff\"]]"
   ]
  },
  {
   "cell_type": "markdown",
   "metadata": {
    "colab_type": "text",
    "id": "IKNQM_UxJtZ_"
   },
   "source": [
    "This information can be visualized using a **bar chart**."
   ]
  },
  {
   "cell_type": "code",
   "execution_count": 27,
   "metadata": {
    "colab": {},
    "colab_type": "code",
    "id": "1Pr1BpI9JtZ_"
   },
   "outputs": [
    {
     "data": {
      "text/plain": [
       "<AxesSubplot:>"
      ]
     },
     "execution_count": 27,
     "metadata": {},
     "output_type": "execute_result"
    },
    {
     "data": {
      "image/png": "[encoded data removed]",
      "text/plain": [
       "<Figure size 432x288 with 1 Axes>"
      ]
     },
     "metadata": {
      "needs_background": "light"
     },
     "output_type": "display_data"
    }
   ],
   "source": [
    "class_counts.plot.bar()"
   ]
  },
  {
   "cell_type": "markdown",
   "metadata": {
    "colab_type": "text",
    "id": "D2ST50hRJtaB"
   },
   "source": [
    "Instead of reporting counts, we can also report proportions or probabilities, or the **relative frequencies**. We can calculate the relative frequencies by specifying `normalize=True` in `.value_counts()`."
   ]
  },
  {
   "cell_type": "code",
   "execution_count": 28,
   "metadata": {
    "colab": {},
    "colab_type": "code",
    "id": "D-3JccgEJtaC"
   },
   "outputs": [
    {
     "data": {
      "text/plain": [
       "1st                 0.146806\n",
       "2nd                 0.128681\n",
       "3rd                 0.321251\n",
       "deck crew           0.029905\n",
       "engineering crew    0.146806\n",
       "restaurant staff    0.031264\n",
       "victualling crew    0.195288\n",
       "Name: class, dtype: float64"
      ]
     },
     "execution_count": 28,
     "metadata": {},
     "output_type": "execute_result"
    }
   ],
   "source": [
    "class_probs = df_titanic[\"class\"].value_counts(normalize=True)\n",
    "class_probs.sort_index()"
   ]
  },
  {
   "cell_type": "markdown",
   "metadata": {
    "colab_type": "text",
    "id": "g6EKTxBBJtaE"
   },
   "source": [
    "This is equivalent to taking the counts and dividing by their sum."
   ]
  },
  {
   "cell_type": "code",
   "execution_count": 29,
   "metadata": {
    "colab": {},
    "colab_type": "code",
    "id": "Z2X-cH0wJtaF"
   },
   "outputs": [
    {
     "data": {
      "text/plain": [
       "deck crew           0.029905\n",
       "restaurant staff    0.031264\n",
       "2nd                 0.128681\n",
       "engineering crew    0.146806\n",
       "1st                 0.146806\n",
       "victualling crew    0.195288\n",
       "3rd                 0.321251\n",
       "Name: class, dtype: float64"
      ]
     },
     "execution_count": 29,
     "metadata": {},
     "output_type": "execute_result"
    }
   ],
   "source": [
    "class_counts / class_counts.sum()"
   ]
  },
  {
   "cell_type": "markdown",
   "metadata": {
    "colab_type": "text",
    "id": "a5wGkd9AJtaH"
   },
   "source": [
    "Notice that the relative frequencies add up to 1.0, by construction. We can report these relative frequencies using probability notation. For example:\n",
    "\n",
    "$$ P(\\text{1st class}) = 0.146806. $$\n",
    "\n",
    "The complete collection of probabilities of all levels of a variable is called the **distribution** of that variable. So the code above calculates the distribution of \"class\" on the Titanic."
   ]
  },
  {
   "cell_type": "markdown",
   "metadata": {
    "colab_type": "text",
    "id": "swUzbXFGJtaH"
   },
   "source": [
    "The bar chart for relative frequencies (i.e., probabilities) looks qualitatively the same as the bar chart for frequencies (i.e., counts). The only difference is that the scale on the $y$-axis is different."
   ]
  },
  {
   "cell_type": "code",
   "execution_count": 30,
   "metadata": {
    "colab": {},
    "colab_type": "code",
    "id": "LNEzMug6JtaI"
   },
   "outputs": [
    {
     "data": {
      "text/plain": [
       "<AxesSubplot:>"
      ]
     },
     "execution_count": 30,
     "metadata": {},
     "output_type": "execute_result"
    },
    {
     "data": {
      "image/png": "[encoded data removed]",
      "text/plain": [
       "<Figure size 432x288 with 1 Axes>"
      ]
     },
     "metadata": {
      "needs_background": "light"
     },
     "output_type": "display_data"
    }
   ],
   "source": [
    "class_probs.sort_index().plot.bar()"
   ]
  },
  {
   "cell_type": "markdown",
   "metadata": {
    "colab_type": "text",
    "id": "T-aiM7OfJtaM"
   },
   "source": [
    "In the next lesson, we will see why it is often more useful to plot the relative frequencies (i.e., probabilities) rather than the frequencies (i.e., counts)."
   ]
  },
  {
   "cell_type": "markdown",
   "metadata": {
    "colab_type": "text",
    "id": "O1R6vBYwJtaN"
   },
   "source": [
    "## Transforming Categorical Variables\n",
    "\n",
    "A categorical variable can be transformed by mapping its levels to new levels. For example, we may only be interested in whether a person on the titanic was a passenger or a crew member. The variable `class` is too detailed. We can create a new variable, `type`, that is derived from the existing variable `class`. Observations with a `class` of \"1st\", \"2nd\", or \"3rd\" get a value of \"passenger\", while observations with a `class` of \"deck crew\", \"engineering crew\", or \"deck crew\" get a value of \"crew\"."
   ]
  },
  {
   "cell_type": "code",
   "execution_count": 31,
   "metadata": {
    "colab": {},
    "colab_type": "code",
    "id": "gsA4gHKhJtaN"
   },
   "outputs": [
    {
     "data": {
      "text/html": [
       "<div>\n",
       "<style scoped>\n",
       "    .dataframe tbody tr th:only-of-type {\n",
       "        vertical-align: middle;\n",
       "    }\n",
       "\n",
       "    .dataframe tbody tr th {\n",
       "        vertical-align: top;\n",
       "    }\n",
       "\n",
       "    .dataframe thead th {\n",
       "        text-align: right;\n",
       "    }\n",
       "</style>\n",
       "<table border=\"1\" class=\"dataframe\">\n",
       "  <thead>\n",
       "    <tr style=\"text-align: right;\">\n",
       "      <th></th>\n",
       "      <th>name</th>\n",
       "      <th>gender</th>\n",
       "      <th>age</th>\n",
       "      <th>class</th>\n",
       "      <th>embarked</th>\n",
       "      <th>country</th>\n",
       "      <th>ticketno</th>\n",
       "      <th>fare</th>\n",
       "      <th>survived</th>\n",
       "      <th>type</th>\n",
       "    </tr>\n",
       "  </thead>\n",
       "  <tbody>\n",
       "    <tr>\n",
       "      <th>0</th>\n",
       "      <td>Abbing, Mr. Anthony</td>\n",
       "      <td>male</td>\n",
       "      <td>42.0</td>\n",
       "      <td>3rd</td>\n",
       "      <td>S</td>\n",
       "      <td>United States</td>\n",
       "      <td>5547.0</td>\n",
       "      <td>7.11</td>\n",
       "      <td>0</td>\n",
       "      <td>passenger</td>\n",
       "    </tr>\n",
       "    <tr>\n",
       "      <th>1</th>\n",
       "      <td>Abbott, Mr. Eugene Joseph</td>\n",
       "      <td>male</td>\n",
       "      <td>13.0</td>\n",
       "      <td>3rd</td>\n",
       "      <td>S</td>\n",
       "      <td>United States</td>\n",
       "      <td>2673.0</td>\n",
       "      <td>20.05</td>\n",
       "      <td>0</td>\n",
       "      <td>passenger</td>\n",
       "    </tr>\n",
       "    <tr>\n",
       "      <th>2</th>\n",
       "      <td>Abbott, Mr. Rossmore Edward</td>\n",
       "      <td>male</td>\n",
       "      <td>16.0</td>\n",
       "      <td>3rd</td>\n",
       "      <td>S</td>\n",
       "      <td>United States</td>\n",
       "      <td>2673.0</td>\n",
       "      <td>20.05</td>\n",
       "      <td>0</td>\n",
       "      <td>passenger</td>\n",
       "    </tr>\n",
       "    <tr>\n",
       "      <th>3</th>\n",
       "      <td>Abbott, Mrs. Rhoda Mary 'Rosa'</td>\n",
       "      <td>female</td>\n",
       "      <td>39.0</td>\n",
       "      <td>3rd</td>\n",
       "      <td>S</td>\n",
       "      <td>England</td>\n",
       "      <td>2673.0</td>\n",
       "      <td>20.05</td>\n",
       "      <td>1</td>\n",
       "      <td>passenger</td>\n",
       "    </tr>\n",
       "    <tr>\n",
       "      <th>4</th>\n",
       "      <td>Abelseth, Miss. Karen Marie</td>\n",
       "      <td>female</td>\n",
       "      <td>16.0</td>\n",
       "      <td>3rd</td>\n",
       "      <td>S</td>\n",
       "      <td>Norway</td>\n",
       "      <td>348125.0</td>\n",
       "      <td>7.13</td>\n",
       "      <td>1</td>\n",
       "      <td>passenger</td>\n",
       "    </tr>\n",
       "    <tr>\n",
       "      <th>...</th>\n",
       "      <td>...</td>\n",
       "      <td>...</td>\n",
       "      <td>...</td>\n",
       "      <td>...</td>\n",
       "      <td>...</td>\n",
       "      <td>...</td>\n",
       "      <td>...</td>\n",
       "      <td>...</td>\n",
       "      <td>...</td>\n",
       "      <td>...</td>\n",
       "    </tr>\n",
       "    <tr>\n",
       "      <th>2202</th>\n",
       "      <td>Wynn, Mr. Walter</td>\n",
       "      <td>male</td>\n",
       "      <td>41.0</td>\n",
       "      <td>deck crew</td>\n",
       "      <td>B</td>\n",
       "      <td>England</td>\n",
       "      <td>NaN</td>\n",
       "      <td>NaN</td>\n",
       "      <td>1</td>\n",
       "      <td>crew</td>\n",
       "    </tr>\n",
       "    <tr>\n",
       "      <th>2203</th>\n",
       "      <td>Yearsley, Mr. Harry</td>\n",
       "      <td>male</td>\n",
       "      <td>40.0</td>\n",
       "      <td>victualling crew</td>\n",
       "      <td>S</td>\n",
       "      <td>England</td>\n",
       "      <td>NaN</td>\n",
       "      <td>NaN</td>\n",
       "      <td>1</td>\n",
       "      <td>crew</td>\n",
       "    </tr>\n",
       "    <tr>\n",
       "      <th>2204</th>\n",
       "      <td>Young, Mr. Francis James</td>\n",
       "      <td>male</td>\n",
       "      <td>32.0</td>\n",
       "      <td>engineering crew</td>\n",
       "      <td>S</td>\n",
       "      <td>England</td>\n",
       "      <td>NaN</td>\n",
       "      <td>NaN</td>\n",
       "      <td>0</td>\n",
       "      <td>crew</td>\n",
       "    </tr>\n",
       "    <tr>\n",
       "      <th>2205</th>\n",
       "      <td>Zanetti, Sig. Minio</td>\n",
       "      <td>male</td>\n",
       "      <td>20.0</td>\n",
       "      <td>restaurant staff</td>\n",
       "      <td>S</td>\n",
       "      <td>England</td>\n",
       "      <td>NaN</td>\n",
       "      <td>NaN</td>\n",
       "      <td>0</td>\n",
       "      <td>NaN</td>\n",
       "    </tr>\n",
       "    <tr>\n",
       "      <th>2206</th>\n",
       "      <td>Zarracchi, Sig. L.</td>\n",
       "      <td>male</td>\n",
       "      <td>26.0</td>\n",
       "      <td>restaurant staff</td>\n",
       "      <td>S</td>\n",
       "      <td>England</td>\n",
       "      <td>NaN</td>\n",
       "      <td>NaN</td>\n",
       "      <td>0</td>\n",
       "      <td>NaN</td>\n",
       "    </tr>\n",
       "  </tbody>\n",
       "</table>\n",
       "<p>2207 rows × 10 columns</p>\n",
       "</div>"
      ],
      "text/plain": [
       "                                name  gender   age             class embarked  \\\n",
       "0                Abbing, Mr. Anthony    male  42.0               3rd        S   \n",
       "1          Abbott, Mr. Eugene Joseph    male  13.0               3rd        S   \n",
       "2        Abbott, Mr. Rossmore Edward    male  16.0               3rd        S   \n",
       "3     Abbott, Mrs. Rhoda Mary 'Rosa'  female  39.0               3rd        S   \n",
       "4        Abelseth, Miss. Karen Marie  female  16.0               3rd        S   \n",
       "...                              ...     ...   ...               ...      ...   \n",
       "2202                Wynn, Mr. Walter    male  41.0         deck crew        B   \n",
       "2203             Yearsley, Mr. Harry    male  40.0  victualling crew        S   \n",
       "2204        Young, Mr. Francis James    male  32.0  engineering crew        S   \n",
       "2205             Zanetti, Sig. Minio    male  20.0  restaurant staff        S   \n",
       "2206              Zarracchi, Sig. L.    male  26.0  restaurant staff        S   \n",
       "\n",
       "            country  ticketno   fare  survived       type  \n",
       "0     United States    5547.0   7.11         0  passenger  \n",
       "1     United States    2673.0  20.05         0  passenger  \n",
       "2     United States    2673.0  20.05         0  passenger  \n",
       "3           England    2673.0  20.05         1  passenger  \n",
       "4            Norway  348125.0   7.13         1  passenger  \n",
       "...             ...       ...    ...       ...        ...  \n",
       "2202        England       NaN    NaN         1       crew  \n",
       "2203        England       NaN    NaN         1       crew  \n",
       "2204        England       NaN    NaN         0       crew  \n",
       "2205        England       NaN    NaN         0        NaN  \n",
       "2206        England       NaN    NaN         0        NaN  \n",
       "\n",
       "[2207 rows x 10 columns]"
      ]
     },
     "execution_count": 31,
     "metadata": {},
     "output_type": "execute_result"
    }
   ],
   "source": [
    "df_titanic[\"type\"] = df_titanic[\"class\"].map({\n",
    "    \"1st\": \"passenger\",\n",
    "    \"2nd\": \"passenger\",\n",
    "    \"3rd\": \"passenger\",\n",
    "    \"victualling crew\": \"crew\",\n",
    "    \"engineering crew\": \"crew\",\n",
    "    \"deck crew\": \"crew\"\n",
    "})\n",
    "\n",
    "df_titanic"
   ]
  },
  {
   "cell_type": "markdown",
   "metadata": {
    "colab_type": "text",
    "id": "u082T2xbJtaP"
   },
   "source": [
    "Upon closer inspection of this `DataFrame`, we see that we accidentally left out the level \"restaurant staff\" in the input to `.map()`. Any levels that are unspecified will be mapped to the missing value `NaN`.\n",
    "\n",
    "This suggests a more concise way to define the new variable `type`. We can specify only the levels for passengers in the mapping and then fill in the missing values afterwards."
   ]
  },
  {
   "cell_type": "code",
   "execution_count": 13,
   "metadata": {
    "colab": {},
    "colab_type": "code",
    "id": "fL2fQ8O8JtaQ"
   },
   "outputs": [
    {
     "data": {
      "text/html": [
       "<div>\n",
       "<style scoped>\n",
       "    .dataframe tbody tr th:only-of-type {\n",
       "        vertical-align: middle;\n",
       "    }\n",
       "\n",
       "    .dataframe tbody tr th {\n",
       "        vertical-align: top;\n",
       "    }\n",
       "\n",
       "    .dataframe thead th {\n",
       "        text-align: right;\n",
       "    }\n",
       "</style>\n",
       "<table border=\"1\" class=\"dataframe\">\n",
       "  <thead>\n",
       "    <tr style=\"text-align: right;\">\n",
       "      <th></th>\n",
       "      <th>name</th>\n",
       "      <th>gender</th>\n",
       "      <th>age</th>\n",
       "      <th>class</th>\n",
       "      <th>embarked</th>\n",
       "      <th>country</th>\n",
       "      <th>ticketno</th>\n",
       "      <th>fare</th>\n",
       "      <th>survived</th>\n",
       "      <th>type</th>\n",
       "    </tr>\n",
       "  </thead>\n",
       "  <tbody>\n",
       "    <tr>\n",
       "      <th>0</th>\n",
       "      <td>Abbing, Mr. Anthony</td>\n",
       "      <td>male</td>\n",
       "      <td>42.0</td>\n",
       "      <td>3rd</td>\n",
       "      <td>S</td>\n",
       "      <td>United States</td>\n",
       "      <td>5547.0</td>\n",
       "      <td>7.11</td>\n",
       "      <td>0</td>\n",
       "      <td>passenger</td>\n",
       "    </tr>\n",
       "    <tr>\n",
       "      <th>1</th>\n",
       "      <td>Abbott, Mr. Eugene Joseph</td>\n",
       "      <td>male</td>\n",
       "      <td>13.0</td>\n",
       "      <td>3rd</td>\n",
       "      <td>S</td>\n",
       "      <td>United States</td>\n",
       "      <td>2673.0</td>\n",
       "      <td>20.05</td>\n",
       "      <td>0</td>\n",
       "      <td>passenger</td>\n",
       "    </tr>\n",
       "    <tr>\n",
       "      <th>2</th>\n",
       "      <td>Abbott, Mr. Rossmore Edward</td>\n",
       "      <td>male</td>\n",
       "      <td>16.0</td>\n",
       "      <td>3rd</td>\n",
       "      <td>S</td>\n",
       "      <td>United States</td>\n",
       "      <td>2673.0</td>\n",
       "      <td>20.05</td>\n",
       "      <td>0</td>\n",
       "      <td>passenger</td>\n",
       "    </tr>\n",
       "    <tr>\n",
       "      <th>3</th>\n",
       "      <td>Abbott, Mrs. Rhoda Mary 'Rosa'</td>\n",
       "      <td>female</td>\n",
       "      <td>39.0</td>\n",
       "      <td>3rd</td>\n",
       "      <td>S</td>\n",
       "      <td>England</td>\n",
       "      <td>2673.0</td>\n",
       "      <td>20.05</td>\n",
       "      <td>1</td>\n",
       "      <td>passenger</td>\n",
       "    </tr>\n",
       "    <tr>\n",
       "      <th>4</th>\n",
       "      <td>Abelseth, Miss. Karen Marie</td>\n",
       "      <td>female</td>\n",
       "      <td>16.0</td>\n",
       "      <td>3rd</td>\n",
       "      <td>S</td>\n",
       "      <td>Norway</td>\n",
       "      <td>348125.0</td>\n",
       "      <td>7.13</td>\n",
       "      <td>1</td>\n",
       "      <td>passenger</td>\n",
       "    </tr>\n",
       "    <tr>\n",
       "      <th>...</th>\n",
       "      <td>...</td>\n",
       "      <td>...</td>\n",
       "      <td>...</td>\n",
       "      <td>...</td>\n",
       "      <td>...</td>\n",
       "      <td>...</td>\n",
       "      <td>...</td>\n",
       "      <td>...</td>\n",
       "      <td>...</td>\n",
       "      <td>...</td>\n",
       "    </tr>\n",
       "    <tr>\n",
       "      <th>2202</th>\n",
       "      <td>Wynn, Mr. Walter</td>\n",
       "      <td>male</td>\n",
       "      <td>41.0</td>\n",
       "      <td>deck crew</td>\n",
       "      <td>B</td>\n",
       "      <td>England</td>\n",
       "      <td>NaN</td>\n",
       "      <td>NaN</td>\n",
       "      <td>1</td>\n",
       "      <td>crew</td>\n",
       "    </tr>\n",
       "    <tr>\n",
       "      <th>2203</th>\n",
       "      <td>Yearsley, Mr. Harry</td>\n",
       "      <td>male</td>\n",
       "      <td>40.0</td>\n",
       "      <td>victualling crew</td>\n",
       "      <td>S</td>\n",
       "      <td>England</td>\n",
       "      <td>NaN</td>\n",
       "      <td>NaN</td>\n",
       "      <td>1</td>\n",
       "      <td>crew</td>\n",
       "    </tr>\n",
       "    <tr>\n",
       "      <th>2204</th>\n",
       "      <td>Young, Mr. Francis James</td>\n",
       "      <td>male</td>\n",
       "      <td>32.0</td>\n",
       "      <td>engineering crew</td>\n",
       "      <td>S</td>\n",
       "      <td>England</td>\n",
       "      <td>NaN</td>\n",
       "      <td>NaN</td>\n",
       "      <td>0</td>\n",
       "      <td>crew</td>\n",
       "    </tr>\n",
       "    <tr>\n",
       "      <th>2205</th>\n",
       "      <td>Zanetti, Sig. Minio</td>\n",
       "      <td>male</td>\n",
       "      <td>20.0</td>\n",
       "      <td>restaurant staff</td>\n",
       "      <td>S</td>\n",
       "      <td>England</td>\n",
       "      <td>NaN</td>\n",
       "      <td>NaN</td>\n",
       "      <td>0</td>\n",
       "      <td>crew</td>\n",
       "    </tr>\n",
       "    <tr>\n",
       "      <th>2206</th>\n",
       "      <td>Zarracchi, Sig. L.</td>\n",
       "      <td>male</td>\n",
       "      <td>26.0</td>\n",
       "      <td>restaurant staff</td>\n",
       "      <td>S</td>\n",
       "      <td>England</td>\n",
       "      <td>NaN</td>\n",
       "      <td>NaN</td>\n",
       "      <td>0</td>\n",
       "      <td>crew</td>\n",
       "    </tr>\n",
       "  </tbody>\n",
       "</table>\n",
       "<p>2207 rows × 10 columns</p>\n",
       "</div>"
      ],
      "text/plain": [
       "                                name  gender   age             class embarked  \\\n",
       "0                Abbing, Mr. Anthony    male  42.0               3rd        S   \n",
       "1          Abbott, Mr. Eugene Joseph    male  13.0               3rd        S   \n",
       "2        Abbott, Mr. Rossmore Edward    male  16.0               3rd        S   \n",
       "3     Abbott, Mrs. Rhoda Mary 'Rosa'  female  39.0               3rd        S   \n",
       "4        Abelseth, Miss. Karen Marie  female  16.0               3rd        S   \n",
       "...                              ...     ...   ...               ...      ...   \n",
       "2202                Wynn, Mr. Walter    male  41.0         deck crew        B   \n",
       "2203             Yearsley, Mr. Harry    male  40.0  victualling crew        S   \n",
       "2204        Young, Mr. Francis James    male  32.0  engineering crew        S   \n",
       "2205             Zanetti, Sig. Minio    male  20.0  restaurant staff        S   \n",
       "2206              Zarracchi, Sig. L.    male  26.0  restaurant staff        S   \n",
       "\n",
       "            country  ticketno   fare  survived       type  \n",
       "0     United States    5547.0   7.11         0  passenger  \n",
       "1     United States    2673.0  20.05         0  passenger  \n",
       "2     United States    2673.0  20.05         0  passenger  \n",
       "3           England    2673.0  20.05         1  passenger  \n",
       "4            Norway  348125.0   7.13         1  passenger  \n",
       "...             ...       ...    ...       ...        ...  \n",
       "2202        England       NaN    NaN         1       crew  \n",
       "2203        England       NaN    NaN         1       crew  \n",
       "2204        England       NaN    NaN         0       crew  \n",
       "2205        England       NaN    NaN         0       crew  \n",
       "2206        England       NaN    NaN         0       crew  \n",
       "\n",
       "[2207 rows x 10 columns]"
      ]
     },
     "execution_count": 13,
     "metadata": {},
     "output_type": "execute_result"
    }
   ],
   "source": [
    "df_titanic[\"type\"] = df_titanic[\"class\"].map({\n",
    "    \"1st\": \"passenger\",\n",
    "    \"2nd\": \"passenger\",\n",
    "    \"3rd\": \"passenger\"\n",
    "})\n",
    "\n",
    "# Replace all missing values by \"crew\"\n",
    "df_titanic[\"type\"].fillna(\"crew\", inplace=True)\n",
    "\n",
    "df_titanic"
   ]
  },
  {
   "cell_type": "markdown",
   "metadata": {
    "colab_type": "text",
    "id": "scGxkqKfXVk-"
   },
   "source": [
    "For more complex mappings, the `.map()` method also accepts a function. So the above "
   ]
  },
  {
   "cell_type": "code",
   "execution_count": 14,
   "metadata": {
    "colab": {},
    "colab_type": "code",
    "id": "q2LwDPWMXsXH"
   },
   "outputs": [
    {
     "data": {
      "text/plain": [
       "0       passenger\n",
       "1       passenger\n",
       "2       passenger\n",
       "3       passenger\n",
       "4       passenger\n",
       "          ...    \n",
       "2202         crew\n",
       "2203         crew\n",
       "2204         crew\n",
       "2205         crew\n",
       "2206         crew\n",
       "Name: class, Length: 2207, dtype: object"
      ]
     },
     "execution_count": 14,
     "metadata": {},
     "output_type": "execute_result"
    }
   ],
   "source": [
    "def class_to_type(c):\n",
    "  if c in [\"1st\", \"2nd\", \"3rd\"]:\n",
    "    return \"passenger\"\n",
    "  else:\n",
    "    return \"crew\"\n",
    "\n",
    "df_titanic[\"class\"].map(class_to_type)"
   ]
  },
  {
   "cell_type": "markdown",
   "metadata": {
    "colab_type": "text",
    "id": "oNImjvbGJtaS"
   },
   "source": [
    "We can apply the techniques we learned above to calculate the _distribution_ of this new variable, which only has two levels."
   ]
  },
  {
   "cell_type": "code",
   "execution_count": 15,
   "metadata": {
    "colab": {},
    "colab_type": "code",
    "id": "TEGiAcFAJtaT"
   },
   "outputs": [
    {
     "data": {
      "text/plain": [
       "passenger    0.596738\n",
       "crew         0.403262\n",
       "Name: type, dtype: float64"
      ]
     },
     "execution_count": 15,
     "metadata": {},
     "output_type": "execute_result"
    }
   ],
   "source": [
    "df_titanic[\"type\"].value_counts(normalize=True)"
   ]
  },
  {
   "cell_type": "markdown",
   "metadata": {
    "colab_type": "text",
    "id": "yF-G7EIXJtaV"
   },
   "source": [
    "## Conditional Probabilities\n",
    "\n",
    "What fraction of males were crew members? To answer questions like this, we have to filter the `DataFrame` to include only males.\n",
    "\n",
    "The standard way to filter a `DataFrame` is to use a **boolean mask**. A boolean mask is simply a `Series` of booleans whose index matches the index of the `DataFrame`.\n",
    "\n",
    "The easiest way to create a boolean mask is to use one of the standard comparison operators `==`, `<`, `>`, and `!=` on an existing column in the `DataFrame`. For example, the following code produces a boolean mask that is equal to `True` for the males on the Titanic and `False` otherwise."
   ]
  },
  {
   "cell_type": "code",
   "execution_count": 16,
   "metadata": {
    "colab": {},
    "colab_type": "code",
    "id": "LaR02lRMJtaW"
   },
   "outputs": [
    {
     "data": {
      "text/plain": [
       "0        True\n",
       "1        True\n",
       "2        True\n",
       "3       False\n",
       "4       False\n",
       "        ...  \n",
       "2202     True\n",
       "2203     True\n",
       "2204     True\n",
       "2205     True\n",
       "2206     True\n",
       "Name: gender, Length: 2207, dtype: bool"
      ]
     },
     "execution_count": 16,
     "metadata": {},
     "output_type": "execute_result"
    }
   ],
   "source": [
    "df_titanic[\"gender\"] == \"male\" # a for loop, element by element"
   ]
  },
  {
   "cell_type": "markdown",
   "metadata": {
    "colab_type": "text",
    "id": "fPlvq_-mJtad"
   },
   "source": [
    "Notice the subtle way the equality operator `==` is being used here! We are comparing an array with a string, i.e.,\n",
    "\n",
    "\\begin{align}\n",
    "& \\begin{bmatrix} \\text{\"male\"} \\\\ \\text{\"male\"} \\\\ \\text{\"male\"} \\\\ \\text{\"female\"} \\\\ \\vdots \\\\ \\text{\"male\"} \\end{bmatrix} & \\text{with} & & \\text{\"male\"}.\n",
    "\\end{align}\n",
    "\n",
    "In most programming languages, this comparison would make no sense. An array of strings is obviously not equal to a string. However, `pandas` automatically applies the equality operator to _each_ element of the array. As a result, we get an entire array (i.e., a `Series`) of booleans.\n",
    "\n",
    "\\begin{align}\n",
    " \\begin{bmatrix} \\text{\"male\"} \\\\ \\text{\"male\"} \\\\ \\text{\"male\"} \\\\ \\text{\"female\"} \\\\ \\vdots \\\\ \\text{\"male\"} \\end{bmatrix} &== \\text{\"male\"} &\\Longrightarrow & &  \\begin{bmatrix} \\text{True} \\\\ \\text{True} \\\\ \\text{True} \\\\ \\text{False} \\\\ \\vdots \\\\ \\text{True} \\end{bmatrix}.\n",
    "\\end{align}\n",
    "\n",
    "When an operation is applied to each element of an array, it is said to be **broadcast** over that array.\n",
    "\n",
    "Now, we can use the boolean mask as a filter on the `DataFrame` to extract the rows where the mask equals `True`."
   ]
  },
  {
   "cell_type": "code",
   "execution_count": 32,
   "metadata": {},
   "outputs": [
    {
     "data": {
      "text/html": [
       "<div>\n",
       "<style scoped>\n",
       "    .dataframe tbody tr th:only-of-type {\n",
       "        vertical-align: middle;\n",
       "    }\n",
       "\n",
       "    .dataframe tbody tr th {\n",
       "        vertical-align: top;\n",
       "    }\n",
       "\n",
       "    .dataframe thead th {\n",
       "        text-align: right;\n",
       "    }\n",
       "</style>\n",
       "<table border=\"1\" class=\"dataframe\">\n",
       "  <thead>\n",
       "    <tr style=\"text-align: right;\">\n",
       "      <th></th>\n",
       "      <th>gender</th>\n",
       "      <th>name</th>\n",
       "      <th>age</th>\n",
       "      <th>class</th>\n",
       "      <th>embarked</th>\n",
       "      <th>country</th>\n",
       "      <th>ticketno</th>\n",
       "      <th>fare</th>\n",
       "      <th>survived</th>\n",
       "      <th>type</th>\n",
       "    </tr>\n",
       "  </thead>\n",
       "  <tbody>\n",
       "    <tr>\n",
       "      <th>0</th>\n",
       "      <td>male</td>\n",
       "      <td>Abbing, Mr. Anthony</td>\n",
       "      <td>42.0</td>\n",
       "      <td>3rd</td>\n",
       "      <td>S</td>\n",
       "      <td>United States</td>\n",
       "      <td>5547.0</td>\n",
       "      <td>7.11</td>\n",
       "      <td>0</td>\n",
       "      <td>passenger</td>\n",
       "    </tr>\n",
       "    <tr>\n",
       "      <th>1</th>\n",
       "      <td>male</td>\n",
       "      <td>Abbott, Mr. Eugene Joseph</td>\n",
       "      <td>13.0</td>\n",
       "      <td>3rd</td>\n",
       "      <td>S</td>\n",
       "      <td>United States</td>\n",
       "      <td>2673.0</td>\n",
       "      <td>20.05</td>\n",
       "      <td>0</td>\n",
       "      <td>passenger</td>\n",
       "    </tr>\n",
       "    <tr>\n",
       "      <th>2</th>\n",
       "      <td>male</td>\n",
       "      <td>Abbott, Mr. Rossmore Edward</td>\n",
       "      <td>16.0</td>\n",
       "      <td>3rd</td>\n",
       "      <td>S</td>\n",
       "      <td>United States</td>\n",
       "      <td>2673.0</td>\n",
       "      <td>20.05</td>\n",
       "      <td>0</td>\n",
       "      <td>passenger</td>\n",
       "    </tr>\n",
       "    <tr>\n",
       "      <th>3</th>\n",
       "      <td>male</td>\n",
       "      <td>Abelseth, Mr. Olaus Jørgensen</td>\n",
       "      <td>25.0</td>\n",
       "      <td>3rd</td>\n",
       "      <td>S</td>\n",
       "      <td>United States</td>\n",
       "      <td>348122.0</td>\n",
       "      <td>7.13</td>\n",
       "      <td>1</td>\n",
       "      <td>passenger</td>\n",
       "    </tr>\n",
       "    <tr>\n",
       "      <th>4</th>\n",
       "      <td>male</td>\n",
       "      <td>Abelson, Mr. Samuel</td>\n",
       "      <td>30.0</td>\n",
       "      <td>2nd</td>\n",
       "      <td>C</td>\n",
       "      <td>France</td>\n",
       "      <td>3381.0</td>\n",
       "      <td>24.00</td>\n",
       "      <td>0</td>\n",
       "      <td>passenger</td>\n",
       "    </tr>\n",
       "    <tr>\n",
       "      <th>...</th>\n",
       "      <td>...</td>\n",
       "      <td>...</td>\n",
       "      <td>...</td>\n",
       "      <td>...</td>\n",
       "      <td>...</td>\n",
       "      <td>...</td>\n",
       "      <td>...</td>\n",
       "      <td>...</td>\n",
       "      <td>...</td>\n",
       "      <td>...</td>\n",
       "    </tr>\n",
       "    <tr>\n",
       "      <th>1713</th>\n",
       "      <td>male</td>\n",
       "      <td>Wynn, Mr. Walter</td>\n",
       "      <td>41.0</td>\n",
       "      <td>deck crew</td>\n",
       "      <td>B</td>\n",
       "      <td>England</td>\n",
       "      <td>NaN</td>\n",
       "      <td>NaN</td>\n",
       "      <td>1</td>\n",
       "      <td>crew</td>\n",
       "    </tr>\n",
       "    <tr>\n",
       "      <th>1714</th>\n",
       "      <td>male</td>\n",
       "      <td>Yearsley, Mr. Harry</td>\n",
       "      <td>40.0</td>\n",
       "      <td>victualling crew</td>\n",
       "      <td>S</td>\n",
       "      <td>England</td>\n",
       "      <td>NaN</td>\n",
       "      <td>NaN</td>\n",
       "      <td>1</td>\n",
       "      <td>crew</td>\n",
       "    </tr>\n",
       "    <tr>\n",
       "      <th>1715</th>\n",
       "      <td>male</td>\n",
       "      <td>Young, Mr. Francis James</td>\n",
       "      <td>32.0</td>\n",
       "      <td>engineering crew</td>\n",
       "      <td>S</td>\n",
       "      <td>England</td>\n",
       "      <td>NaN</td>\n",
       "      <td>NaN</td>\n",
       "      <td>0</td>\n",
       "      <td>crew</td>\n",
       "    </tr>\n",
       "    <tr>\n",
       "      <th>1716</th>\n",
       "      <td>male</td>\n",
       "      <td>Zanetti, Sig. Minio</td>\n",
       "      <td>20.0</td>\n",
       "      <td>restaurant staff</td>\n",
       "      <td>S</td>\n",
       "      <td>England</td>\n",
       "      <td>NaN</td>\n",
       "      <td>NaN</td>\n",
       "      <td>0</td>\n",
       "      <td>NaN</td>\n",
       "    </tr>\n",
       "    <tr>\n",
       "      <th>1717</th>\n",
       "      <td>male</td>\n",
       "      <td>Zarracchi, Sig. L.</td>\n",
       "      <td>26.0</td>\n",
       "      <td>restaurant staff</td>\n",
       "      <td>S</td>\n",
       "      <td>England</td>\n",
       "      <td>NaN</td>\n",
       "      <td>NaN</td>\n",
       "      <td>0</td>\n",
       "      <td>NaN</td>\n",
       "    </tr>\n",
       "  </tbody>\n",
       "</table>\n",
       "<p>1718 rows × 10 columns</p>\n",
       "</div>"
      ],
      "text/plain": [
       "     gender                           name   age             class embarked  \\\n",
       "0      male            Abbing, Mr. Anthony  42.0               3rd        S   \n",
       "1      male      Abbott, Mr. Eugene Joseph  13.0               3rd        S   \n",
       "2      male    Abbott, Mr. Rossmore Edward  16.0               3rd        S   \n",
       "3      male  Abelseth, Mr. Olaus Jørgensen  25.0               3rd        S   \n",
       "4      male            Abelson, Mr. Samuel  30.0               2nd        C   \n",
       "...     ...                            ...   ...               ...      ...   \n",
       "1713   male               Wynn, Mr. Walter  41.0         deck crew        B   \n",
       "1714   male            Yearsley, Mr. Harry  40.0  victualling crew        S   \n",
       "1715   male       Young, Mr. Francis James  32.0  engineering crew        S   \n",
       "1716   male            Zanetti, Sig. Minio  20.0  restaurant staff        S   \n",
       "1717   male             Zarracchi, Sig. L.  26.0  restaurant staff        S   \n",
       "\n",
       "            country  ticketno   fare  survived       type  \n",
       "0     United States    5547.0   7.11         0  passenger  \n",
       "1     United States    2673.0  20.05         0  passenger  \n",
       "2     United States    2673.0  20.05         0  passenger  \n",
       "3     United States  348122.0   7.13         1  passenger  \n",
       "4            France    3381.0  24.00         0  passenger  \n",
       "...             ...       ...    ...       ...        ...  \n",
       "1713        England       NaN    NaN         1       crew  \n",
       "1714        England       NaN    NaN         1       crew  \n",
       "1715        England       NaN    NaN         0       crew  \n",
       "1716        England       NaN    NaN         0        NaN  \n",
       "1717        England       NaN    NaN         0        NaN  \n",
       "\n",
       "[1718 rows x 10 columns]"
      ]
     },
     "execution_count": 32,
     "metadata": {},
     "output_type": "execute_result"
    }
   ],
   "source": [
    "df_titanic.set_index('gender').loc['male'].reset_index()"
   ]
  },
  {
   "cell_type": "code",
   "execution_count": 17,
   "metadata": {
    "colab": {},
    "colab_type": "code",
    "id": "1O6x3ZoZJtaf"
   },
   "outputs": [
    {
     "data": {
      "text/html": [
       "<div>\n",
       "<style scoped>\n",
       "    .dataframe tbody tr th:only-of-type {\n",
       "        vertical-align: middle;\n",
       "    }\n",
       "\n",
       "    .dataframe tbody tr th {\n",
       "        vertical-align: top;\n",
       "    }\n",
       "\n",
       "    .dataframe thead th {\n",
       "        text-align: right;\n",
       "    }\n",
       "</style>\n",
       "<table border=\"1\" class=\"dataframe\">\n",
       "  <thead>\n",
       "    <tr style=\"text-align: right;\">\n",
       "      <th></th>\n",
       "      <th>name</th>\n",
       "      <th>gender</th>\n",
       "      <th>age</th>\n",
       "      <th>class</th>\n",
       "      <th>embarked</th>\n",
       "      <th>country</th>\n",
       "      <th>ticketno</th>\n",
       "      <th>fare</th>\n",
       "      <th>survived</th>\n",
       "      <th>type</th>\n",
       "    </tr>\n",
       "  </thead>\n",
       "  <tbody>\n",
       "    <tr>\n",
       "      <th>0</th>\n",
       "      <td>Abbing, Mr. Anthony</td>\n",
       "      <td>male</td>\n",
       "      <td>42.0</td>\n",
       "      <td>3rd</td>\n",
       "      <td>S</td>\n",
       "      <td>United States</td>\n",
       "      <td>5547.0</td>\n",
       "      <td>7.11</td>\n",
       "      <td>0</td>\n",
       "      <td>passenger</td>\n",
       "    </tr>\n",
       "    <tr>\n",
       "      <th>1</th>\n",
       "      <td>Abbott, Mr. Eugene Joseph</td>\n",
       "      <td>male</td>\n",
       "      <td>13.0</td>\n",
       "      <td>3rd</td>\n",
       "      <td>S</td>\n",
       "      <td>United States</td>\n",
       "      <td>2673.0</td>\n",
       "      <td>20.05</td>\n",
       "      <td>0</td>\n",
       "      <td>passenger</td>\n",
       "    </tr>\n",
       "    <tr>\n",
       "      <th>2</th>\n",
       "      <td>Abbott, Mr. Rossmore Edward</td>\n",
       "      <td>male</td>\n",
       "      <td>16.0</td>\n",
       "      <td>3rd</td>\n",
       "      <td>S</td>\n",
       "      <td>United States</td>\n",
       "      <td>2673.0</td>\n",
       "      <td>20.05</td>\n",
       "      <td>0</td>\n",
       "      <td>passenger</td>\n",
       "    </tr>\n",
       "    <tr>\n",
       "      <th>5</th>\n",
       "      <td>Abelseth, Mr. Olaus Jørgensen</td>\n",
       "      <td>male</td>\n",
       "      <td>25.0</td>\n",
       "      <td>3rd</td>\n",
       "      <td>S</td>\n",
       "      <td>United States</td>\n",
       "      <td>348122.0</td>\n",
       "      <td>7.13</td>\n",
       "      <td>1</td>\n",
       "      <td>passenger</td>\n",
       "    </tr>\n",
       "    <tr>\n",
       "      <th>6</th>\n",
       "      <td>Abelson, Mr. Samuel</td>\n",
       "      <td>male</td>\n",
       "      <td>30.0</td>\n",
       "      <td>2nd</td>\n",
       "      <td>C</td>\n",
       "      <td>France</td>\n",
       "      <td>3381.0</td>\n",
       "      <td>24.00</td>\n",
       "      <td>0</td>\n",
       "      <td>passenger</td>\n",
       "    </tr>\n",
       "    <tr>\n",
       "      <th>...</th>\n",
       "      <td>...</td>\n",
       "      <td>...</td>\n",
       "      <td>...</td>\n",
       "      <td>...</td>\n",
       "      <td>...</td>\n",
       "      <td>...</td>\n",
       "      <td>...</td>\n",
       "      <td>...</td>\n",
       "      <td>...</td>\n",
       "      <td>...</td>\n",
       "    </tr>\n",
       "    <tr>\n",
       "      <th>2202</th>\n",
       "      <td>Wynn, Mr. Walter</td>\n",
       "      <td>male</td>\n",
       "      <td>41.0</td>\n",
       "      <td>deck crew</td>\n",
       "      <td>B</td>\n",
       "      <td>England</td>\n",
       "      <td>NaN</td>\n",
       "      <td>NaN</td>\n",
       "      <td>1</td>\n",
       "      <td>crew</td>\n",
       "    </tr>\n",
       "    <tr>\n",
       "      <th>2203</th>\n",
       "      <td>Yearsley, Mr. Harry</td>\n",
       "      <td>male</td>\n",
       "      <td>40.0</td>\n",
       "      <td>victualling crew</td>\n",
       "      <td>S</td>\n",
       "      <td>England</td>\n",
       "      <td>NaN</td>\n",
       "      <td>NaN</td>\n",
       "      <td>1</td>\n",
       "      <td>crew</td>\n",
       "    </tr>\n",
       "    <tr>\n",
       "      <th>2204</th>\n",
       "      <td>Young, Mr. Francis James</td>\n",
       "      <td>male</td>\n",
       "      <td>32.0</td>\n",
       "      <td>engineering crew</td>\n",
       "      <td>S</td>\n",
       "      <td>England</td>\n",
       "      <td>NaN</td>\n",
       "      <td>NaN</td>\n",
       "      <td>0</td>\n",
       "      <td>crew</td>\n",
       "    </tr>\n",
       "    <tr>\n",
       "      <th>2205</th>\n",
       "      <td>Zanetti, Sig. Minio</td>\n",
       "      <td>male</td>\n",
       "      <td>20.0</td>\n",
       "      <td>restaurant staff</td>\n",
       "      <td>S</td>\n",
       "      <td>England</td>\n",
       "      <td>NaN</td>\n",
       "      <td>NaN</td>\n",
       "      <td>0</td>\n",
       "      <td>crew</td>\n",
       "    </tr>\n",
       "    <tr>\n",
       "      <th>2206</th>\n",
       "      <td>Zarracchi, Sig. L.</td>\n",
       "      <td>male</td>\n",
       "      <td>26.0</td>\n",
       "      <td>restaurant staff</td>\n",
       "      <td>S</td>\n",
       "      <td>England</td>\n",
       "      <td>NaN</td>\n",
       "      <td>NaN</td>\n",
       "      <td>0</td>\n",
       "      <td>crew</td>\n",
       "    </tr>\n",
       "  </tbody>\n",
       "</table>\n",
       "<p>1718 rows × 10 columns</p>\n",
       "</div>"
      ],
      "text/plain": [
       "                               name gender   age             class embarked  \\\n",
       "0               Abbing, Mr. Anthony   male  42.0               3rd        S   \n",
       "1         Abbott, Mr. Eugene Joseph   male  13.0               3rd        S   \n",
       "2       Abbott, Mr. Rossmore Edward   male  16.0               3rd        S   \n",
       "5     Abelseth, Mr. Olaus Jørgensen   male  25.0               3rd        S   \n",
       "6               Abelson, Mr. Samuel   male  30.0               2nd        C   \n",
       "...                             ...    ...   ...               ...      ...   \n",
       "2202               Wynn, Mr. Walter   male  41.0         deck crew        B   \n",
       "2203            Yearsley, Mr. Harry   male  40.0  victualling crew        S   \n",
       "2204       Young, Mr. Francis James   male  32.0  engineering crew        S   \n",
       "2205            Zanetti, Sig. Minio   male  20.0  restaurant staff        S   \n",
       "2206             Zarracchi, Sig. L.   male  26.0  restaurant staff        S   \n",
       "\n",
       "            country  ticketno   fare  survived       type  \n",
       "0     United States    5547.0   7.11         0  passenger  \n",
       "1     United States    2673.0  20.05         0  passenger  \n",
       "2     United States    2673.0  20.05         0  passenger  \n",
       "5     United States  348122.0   7.13         1  passenger  \n",
       "6            France    3381.0  24.00         0  passenger  \n",
       "...             ...       ...    ...       ...        ...  \n",
       "2202        England       NaN    NaN         1       crew  \n",
       "2203        England       NaN    NaN         1       crew  \n",
       "2204        England       NaN    NaN         0       crew  \n",
       "2205        England       NaN    NaN         0       crew  \n",
       "2206        England       NaN    NaN         0       crew  \n",
       "\n",
       "[1718 rows x 10 columns]"
      ]
     },
     "execution_count": 17,
     "metadata": {},
     "output_type": "execute_result"
    }
   ],
   "source": [
    "df_male = df_titanic[df_titanic[\"gender\"] == \"male\"] # Slicing the dataframe\n",
    "df_male"
   ]
  },
  {
   "cell_type": "code",
   "execution_count": 33,
   "metadata": {},
   "outputs": [
    {
     "data": {
      "text/plain": [
       "name        Zarracchi, Sig. L.\n",
       "gender                    male\n",
       "age                       26.0\n",
       "class         restaurant staff\n",
       "embarked                     S\n",
       "country                England\n",
       "ticketno                   NaN\n",
       "fare                       NaN\n",
       "survived                     0\n",
       "type                      crew\n",
       "Name: 2206, dtype: object"
      ]
     },
     "execution_count": 33,
     "metadata": {},
     "output_type": "execute_result"
    }
   ],
   "source": [
    "df_male.loc[2206]"
   ]
  },
  {
   "cell_type": "code",
   "execution_count": 34,
   "metadata": {},
   "outputs": [
    {
     "data": {
      "text/plain": [
       "name        Zarracchi, Sig. L.\n",
       "gender                    male\n",
       "age                       26.0\n",
       "class         restaurant staff\n",
       "embarked                     S\n",
       "country                England\n",
       "ticketno                   NaN\n",
       "fare                       NaN\n",
       "survived                     0\n",
       "type                       NaN\n",
       "Name: 2206, dtype: object"
      ]
     },
     "execution_count": 34,
     "metadata": {},
     "output_type": "execute_result"
    }
   ],
   "source": [
    "df_titanic.loc[2206]"
   ]
  },
  {
   "cell_type": "markdown",
   "metadata": {
    "colab_type": "text",
    "id": "1NXzBSg6Jtai"
   },
   "source": [
    "Note that every person in this new `DataFrame` is male. If you inspect the index, you will see that rows 4 and 5 are missing. That is because those passengers were female."
   ]
  },
  {
   "cell_type": "markdown",
   "metadata": {
    "colab_type": "text",
    "id": "rj6sUAzlJtaj"
   },
   "source": [
    "Finally, we can apply the methods we've learned in this lesson to `df_male` to answer the original question: \"What fraction of males were crew members?\""
   ]
  },
  {
   "cell_type": "code",
   "execution_count": 18,
   "metadata": {
    "colab": {},
    "colab_type": "code",
    "id": "PL5AZdDCJtak"
   },
   "outputs": [
    {
     "data": {
      "text/plain": [
       "crew         0.504657\n",
       "passenger    0.495343\n",
       "Name: type, dtype: float64"
      ]
     },
     "execution_count": 18,
     "metadata": {},
     "output_type": "execute_result"
    }
   ],
   "source": [
    "df_male[\"type\"].value_counts(normalize=True)"
   ]
  },
  {
   "cell_type": "markdown",
   "metadata": {
    "colab_type": "text",
    "id": "h8JMRXKrJtam"
   },
   "source": [
    "It appears that about 50.4657% of the males were crew members. We can notate this using _conditional probability_ notation:\n",
    "\n",
    "$$ P(\\text{crew} | \\text{male}) = 0.504657. $$\n",
    "\n",
    "The bar $|$ is read as \"given\". The information after the bar is the given information. In this case, we were interested in the probability a person was a crew member, \"given\" they were male. That is, after restricting to the male passengers (i.e., using a boolean mask as a filter), we want to know the relative frequency of crew members."
   ]
  },
  {
   "cell_type": "markdown",
   "metadata": {
    "colab_type": "text",
    "id": "ZGI7SaceJtam"
   },
   "source": [
    "We can also filter on multiple criteria. For example, if we want to know the fraction of male _survivors_ who were crew members, we need to combine two boolean masks, one based on the column `gender` and another based on the column `survived`. The two masks can be combined using the logical operator `&`."
   ]
  },
  {
   "cell_type": "code",
   "execution_count": 38,
   "metadata": {
    "colab": {},
    "colab_type": "code",
    "id": "5-OhXQDXJtan"
   },
   "outputs": [
    {
     "data": {
      "text/plain": [
       "0       False\n",
       "1       False\n",
       "2       False\n",
       "3       False\n",
       "4       False\n",
       "        ...  \n",
       "2202     True\n",
       "2203     True\n",
       "2204    False\n",
       "2205    False\n",
       "2206    False\n",
       "Length: 2207, dtype: bool"
      ]
     },
     "execution_count": 38,
     "metadata": {},
     "output_type": "execute_result"
    }
   ],
   "source": [
    "(df_titanic[\"gender\"] == \"male\") & (df_titanic[\"survived\"] == 1)"
   ]
  },
  {
   "cell_type": "markdown",
   "metadata": {
    "colab_type": "text",
    "id": "ygJIJbtOJtat"
   },
   "source": [
    "Notice that the logical operator was _broadcast_ (that word again!) over the elements of the two `Series`. In other words, the logical operator was applied to each element, producing a `Series` of booleans.\n",
    "\n",
    "Now we can use this new boolean mask to filter the `DataFrame`, just as we did before."
   ]
  },
  {
   "cell_type": "code",
   "execution_count": 39,
   "metadata": {
    "colab": {},
    "colab_type": "code",
    "id": "KdfY3t-wJtau"
   },
   "outputs": [
    {
     "data": {
      "text/html": [
       "<div>\n",
       "<style scoped>\n",
       "    .dataframe tbody tr th:only-of-type {\n",
       "        vertical-align: middle;\n",
       "    }\n",
       "\n",
       "    .dataframe tbody tr th {\n",
       "        vertical-align: top;\n",
       "    }\n",
       "\n",
       "    .dataframe thead th {\n",
       "        text-align: right;\n",
       "    }\n",
       "</style>\n",
       "<table border=\"1\" class=\"dataframe\">\n",
       "  <thead>\n",
       "    <tr style=\"text-align: right;\">\n",
       "      <th></th>\n",
       "      <th>name</th>\n",
       "      <th>gender</th>\n",
       "      <th>age</th>\n",
       "      <th>class</th>\n",
       "      <th>embarked</th>\n",
       "      <th>country</th>\n",
       "      <th>ticketno</th>\n",
       "      <th>fare</th>\n",
       "      <th>survived</th>\n",
       "      <th>type</th>\n",
       "    </tr>\n",
       "  </thead>\n",
       "  <tbody>\n",
       "    <tr>\n",
       "      <th>5</th>\n",
       "      <td>Abelseth, Mr. Olaus Jørgensen</td>\n",
       "      <td>male</td>\n",
       "      <td>25.000000</td>\n",
       "      <td>3rd</td>\n",
       "      <td>S</td>\n",
       "      <td>United States</td>\n",
       "      <td>348122.0</td>\n",
       "      <td>7.1300</td>\n",
       "      <td>1</td>\n",
       "      <td>passenger</td>\n",
       "    </tr>\n",
       "    <tr>\n",
       "      <th>8</th>\n",
       "      <td>Abī-Al-Munà, Mr. Nāsīf Qāsim</td>\n",
       "      <td>male</td>\n",
       "      <td>27.000000</td>\n",
       "      <td>3rd</td>\n",
       "      <td>C</td>\n",
       "      <td>Lebanon</td>\n",
       "      <td>2699.0</td>\n",
       "      <td>18.1509</td>\n",
       "      <td>1</td>\n",
       "      <td>passenger</td>\n",
       "    </tr>\n",
       "    <tr>\n",
       "      <th>9</th>\n",
       "      <td>Abrahamsson, Mr. Abraham August Johannes</td>\n",
       "      <td>male</td>\n",
       "      <td>20.000000</td>\n",
       "      <td>3rd</td>\n",
       "      <td>S</td>\n",
       "      <td>Finland</td>\n",
       "      <td>3101284.0</td>\n",
       "      <td>7.1806</td>\n",
       "      <td>1</td>\n",
       "      <td>passenger</td>\n",
       "    </tr>\n",
       "    <tr>\n",
       "      <th>13</th>\n",
       "      <td>Aks, Master. Frank Philip</td>\n",
       "      <td>male</td>\n",
       "      <td>0.833333</td>\n",
       "      <td>3rd</td>\n",
       "      <td>S</td>\n",
       "      <td>England</td>\n",
       "      <td>392091.0</td>\n",
       "      <td>9.0700</td>\n",
       "      <td>1</td>\n",
       "      <td>passenger</td>\n",
       "    </tr>\n",
       "    <tr>\n",
       "      <th>22</th>\n",
       "      <td>Allison, Master. Hudson Trevor</td>\n",
       "      <td>male</td>\n",
       "      <td>0.916667</td>\n",
       "      <td>1st</td>\n",
       "      <td>S</td>\n",
       "      <td>Canada</td>\n",
       "      <td>113781.0</td>\n",
       "      <td>151.1600</td>\n",
       "      <td>1</td>\n",
       "      <td>passenger</td>\n",
       "    </tr>\n",
       "    <tr>\n",
       "      <th>...</th>\n",
       "      <td>...</td>\n",
       "      <td>...</td>\n",
       "      <td>...</td>\n",
       "      <td>...</td>\n",
       "      <td>...</td>\n",
       "      <td>...</td>\n",
       "      <td>...</td>\n",
       "      <td>...</td>\n",
       "      <td>...</td>\n",
       "      <td>...</td>\n",
       "    </tr>\n",
       "    <tr>\n",
       "      <th>2185</th>\n",
       "      <td>Windebank, Mr. Alfred Edgar</td>\n",
       "      <td>male</td>\n",
       "      <td>38.000000</td>\n",
       "      <td>victualling crew</td>\n",
       "      <td>S</td>\n",
       "      <td>England</td>\n",
       "      <td>NaN</td>\n",
       "      <td>NaN</td>\n",
       "      <td>1</td>\n",
       "      <td>crew</td>\n",
       "    </tr>\n",
       "    <tr>\n",
       "      <th>2188</th>\n",
       "      <td>Witter, Mr. James William Cheetham</td>\n",
       "      <td>male</td>\n",
       "      <td>31.000000</td>\n",
       "      <td>victualling crew</td>\n",
       "      <td>S</td>\n",
       "      <td>England</td>\n",
       "      <td>NaN</td>\n",
       "      <td>NaN</td>\n",
       "      <td>1</td>\n",
       "      <td>crew</td>\n",
       "    </tr>\n",
       "    <tr>\n",
       "      <th>2200</th>\n",
       "      <td>Wright, Mr. William</td>\n",
       "      <td>male</td>\n",
       "      <td>40.000000</td>\n",
       "      <td>victualling crew</td>\n",
       "      <td>S</td>\n",
       "      <td>England</td>\n",
       "      <td>NaN</td>\n",
       "      <td>NaN</td>\n",
       "      <td>1</td>\n",
       "      <td>crew</td>\n",
       "    </tr>\n",
       "    <tr>\n",
       "      <th>2202</th>\n",
       "      <td>Wynn, Mr. Walter</td>\n",
       "      <td>male</td>\n",
       "      <td>41.000000</td>\n",
       "      <td>deck crew</td>\n",
       "      <td>B</td>\n",
       "      <td>England</td>\n",
       "      <td>NaN</td>\n",
       "      <td>NaN</td>\n",
       "      <td>1</td>\n",
       "      <td>crew</td>\n",
       "    </tr>\n",
       "    <tr>\n",
       "      <th>2203</th>\n",
       "      <td>Yearsley, Mr. Harry</td>\n",
       "      <td>male</td>\n",
       "      <td>40.000000</td>\n",
       "      <td>victualling crew</td>\n",
       "      <td>S</td>\n",
       "      <td>England</td>\n",
       "      <td>NaN</td>\n",
       "      <td>NaN</td>\n",
       "      <td>1</td>\n",
       "      <td>crew</td>\n",
       "    </tr>\n",
       "  </tbody>\n",
       "</table>\n",
       "<p>352 rows × 10 columns</p>\n",
       "</div>"
      ],
      "text/plain": [
       "                                          name gender        age  \\\n",
       "5                Abelseth, Mr. Olaus Jørgensen   male  25.000000   \n",
       "8                 Abī-Al-Munà, Mr. Nāsīf Qāsim   male  27.000000   \n",
       "9     Abrahamsson, Mr. Abraham August Johannes   male  20.000000   \n",
       "13                   Aks, Master. Frank Philip   male   0.833333   \n",
       "22              Allison, Master. Hudson Trevor   male   0.916667   \n",
       "...                                        ...    ...        ...   \n",
       "2185               Windebank, Mr. Alfred Edgar   male  38.000000   \n",
       "2188        Witter, Mr. James William Cheetham   male  31.000000   \n",
       "2200                       Wright, Mr. William   male  40.000000   \n",
       "2202                          Wynn, Mr. Walter   male  41.000000   \n",
       "2203                       Yearsley, Mr. Harry   male  40.000000   \n",
       "\n",
       "                 class embarked        country   ticketno      fare  survived  \\\n",
       "5                  3rd        S  United States   348122.0    7.1300         1   \n",
       "8                  3rd        C        Lebanon     2699.0   18.1509         1   \n",
       "9                  3rd        S        Finland  3101284.0    7.1806         1   \n",
       "13                 3rd        S        England   392091.0    9.0700         1   \n",
       "22                 1st        S         Canada   113781.0  151.1600         1   \n",
       "...                ...      ...            ...        ...       ...       ...   \n",
       "2185  victualling crew        S        England        NaN       NaN         1   \n",
       "2188  victualling crew        S        England        NaN       NaN         1   \n",
       "2200  victualling crew        S        England        NaN       NaN         1   \n",
       "2202         deck crew        B        England        NaN       NaN         1   \n",
       "2203  victualling crew        S        England        NaN       NaN         1   \n",
       "\n",
       "           type  \n",
       "5     passenger  \n",
       "8     passenger  \n",
       "9     passenger  \n",
       "13    passenger  \n",
       "22    passenger  \n",
       "...         ...  \n",
       "2185       crew  \n",
       "2188       crew  \n",
       "2200       crew  \n",
       "2202       crew  \n",
       "2203       crew  \n",
       "\n",
       "[352 rows x 10 columns]"
      ]
     },
     "execution_count": 39,
     "metadata": {},
     "output_type": "execute_result"
    }
   ],
   "source": [
    "df_male_survivors = df_titanic[(df_titanic[\"gender\"] == \"male\") & (df_titanic[\"survived\"] == 1)]\n",
    "df_male_survivors"
   ]
  },
  {
   "cell_type": "markdown",
   "metadata": {
    "colab_type": "text",
    "id": "xabQIG56Jtaw"
   },
   "source": [
    "Besides `&`, there are two other logical operators that can be used to modify and combine boolean masks.\n",
    "\n",
    "- `&` means \"and\"\n",
    "- `|` means \"or\"\n",
    "- `~` means \"not\"\n",
    "\n",
    "Like `&`, the operators `|` and `~` are broadcast over the boolean masks."
   ]
  },
  {
   "cell_type": "markdown",
   "metadata": {
    "colab_type": "text",
    "id": "tbOe6iaWJtaw"
   },
   "source": [
    "## Exercises"
   ]
  },
  {
   "cell_type": "markdown",
   "metadata": {
    "colab_type": "text",
    "id": "joCIoBDTJtax"
   },
   "source": [
    "_Exercises 1-2 ask you to continue working with the Titanic data set explored in this lesson._"
   ]
  },
  {
   "cell_type": "markdown",
   "metadata": {
    "colab_type": "text",
    "id": "1GsCobcZJtax"
   },
   "source": [
    "1\\. What proportion of crew members were male? Express your answer using probability notation. How does this proportion differ from the proportion that was calculated in the lesson?"
   ]
  },
  {
   "cell_type": "code",
   "execution_count": 42,
   "metadata": {},
   "outputs": [
    {
     "data": {
      "text/plain": [
       "0.97442143727162"
      ]
     },
     "execution_count": 42,
     "metadata": {},
     "output_type": "execute_result"
    }
   ],
   "source": [
    "#    \"victualling crew\": \"crew\",\n",
    "#    \"engineering crew\": \"crew\",\n",
    "#    \"deck crew\": \"crew\"\n",
    "        \n",
    "((df_titanic[\"gender\"] == \"male\") & ((df_titanic[\"class\"] == \"victualling crew\") | \n",
    "                                    (df_titanic[\"class\"] == \"engineering crew\") |\n",
    "                                    (df_titanic[\"class\"] == \"deck crew\")\n",
    "                                   )).sum()/((df_titanic[\"class\"] == \"victualling crew\") | \n",
    "                                    (df_titanic[\"class\"] == \"engineering crew\") |\n",
    "                                    (df_titanic[\"class\"] == \"deck crew\")\n",
    "                                   ).sum()"
   ]
  },
  {
   "cell_type": "markdown",
   "metadata": {},
   "source": [
    "$$ P(\\text{male} | \\text{crew}) = 0.97 $$"
   ]
  },
  {
   "cell_type": "markdown",
   "metadata": {
    "colab_type": "text",
    "id": "YMb6xZ8-Jtay"
   },
   "source": [
    "2\\. What is the distribution of gender among passengers on the Titanic? What is the distribution of gender among passengers on the Titanic who survived? Express your answers using probability notation."
   ]
  },
  {
   "cell_type": "markdown",
   "metadata": {
    "colab_type": "text",
    "id": "QZ16JR0GJtaz"
   },
   "source": [
    "_Exercises 3-5 deal with the OKCupid data set, which consists of user profiles in the San Francisco Bay Area on the dating website OKCupid. This data set is available at the URL https://dlsun.github.io/pods/data/okcupid.csv._"
   ]
  },
  {
   "cell_type": "markdown",
   "metadata": {
    "colab_type": "text",
    "id": "jSNtXGq1Jta0"
   },
   "source": [
    "3\\. Make a visualization of the distribution of drinking status."
   ]
  },
  {
   "cell_type": "markdown",
   "metadata": {
    "colab_type": "text",
    "id": "YuMsp3GLJta1"
   },
   "source": [
    "4\\. Create a new variable that indicates whether the user has, likes, or dislikes cats. Visualize the distribution of this variable."
   ]
  },
  {
   "cell_type": "markdown",
   "metadata": {
    "colab_type": "text",
    "id": "beEYGriXJta2"
   },
   "source": [
    "5\\. If you were a heterosexual female interested in dating a non-smoker, how many options would you have in this data set?"
   ]
  }
 ],
 "metadata": {
  "colab": {
   "name": "2.1 Analyzing One Categorical Variable.ipynb",
   "provenance": []
  },
  "kernelspec": {
   "display_name": "Python 3",
   "language": "python",
   "name": "python3"
  },
  "language_info": {
   "codemirror_mode": {
    "name": "ipython",
    "version": 3
   },
   "file_extension": ".py",
   "mimetype": "text/x-python",
   "name": "python",
   "nbconvert_exporter": "python",
   "pygments_lexer": "ipython3",
   "version": "3.7.3"
  }
 },
 "nbformat": 4,
 "nbformat_minor": 1
}
