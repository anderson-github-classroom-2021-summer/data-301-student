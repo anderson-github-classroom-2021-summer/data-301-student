{
 "cells": [
  {
   "cell_type": "markdown",
   "metadata": {
    "colab_type": "text",
    "id": "view-in-github"
   },
   "source": [
    "<a href=\"https://colab.research.google.com/github/dlsun/pods/blob/master/05-Regression-Models/5.6%20Model%20Selection%20and%20Hyperparameter%20Tuning.ipynb\" target=\"_parent\"><img src=\"https://colab.research.google.com/assets/colab-badge.svg\" alt=\"Open In Colab\"/></a>"
   ]
  },
  {
   "cell_type": "markdown",
   "metadata": {
    "colab_type": "text",
    "id": "5GN7RdM8RC5n"
   },
   "source": [
    "# 5.6 Model Selection and Hyperparameter Tuning\n",
    "\n",
    "In this lesson, we will use the tools developed in the previous section to answer two important questions:\n",
    "\n",
    "- Model Selection: Is $k$-nearest neighbors better or is linear regression better? Which features should we include in the model?\n",
    "- Hyperparameter Tuning: How do we choose hyperparameters, such as $k$ in $k$-nearest neighbors?\n",
    "\n",
    "In the previous lesson, we saw how to use cross-validation to estimate how well a model will perform on test data. A natural way to decide between competing models or hyperparameters is to choose the one that minimizes the validation error."
   ]
  },
  {
   "cell_type": "code",
   "execution_count": 0,
   "metadata": {
    "colab": {},
    "colab_type": "code",
    "id": "ZQJ5yKVIRC5q"
   },
   "outputs": [],
   "source": [
    "import pandas as pd\n",
    "import numpy as np\n",
    "\n",
    "# Extract the training data.\n",
    "data_dir = \"https://dlsun.github.io/pods/data/\"\n",
    "bordeaux_df = pd.read_csv(data_dir + \"bordeaux.csv\",\n",
    "                          index_col=\"year\")\n",
    "bordeaux_train = bordeaux_df.loc[:1980].copy()\n",
    "bordeaux_train[\"log(price)\"] = np.log(bordeaux_train[\"price\"])"
   ]
  },
  {
   "cell_type": "markdown",
   "metadata": {
    "colab_type": "text",
    "id": "8qk080JgRC6G"
   },
   "source": [
    "## Model Selection\n",
    "\n",
    "Suppose we wish to fit a $4$-nearest neighbors model but are not sure which features to include in the model. In the code below, we consider five possible sets of features."
   ]
  },
  {
   "cell_type": "code",
   "execution_count": 0,
   "metadata": {
    "colab": {},
    "colab_type": "code",
    "id": "AGOqOZs4g0ab"
   },
   "outputs": [],
   "source": [
    "from sklearn.preprocessing import StandardScaler\n",
    "from sklearn.neighbors import KNeighborsRegressor\n",
    "from sklearn.pipeline import make_pipeline\n",
    "from sklearn.model_selection import cross_val_score\n",
    "\n",
    "# calculate estimate of test error for a given feature set\n",
    "def get_cv_error(features):\n",
    "  # define pipeline\n",
    "  pipeline = make_pipeline(\n",
    "      StandardScaler(),\n",
    "      KNeighborsRegressor(n_neighbors=4)\n",
    "  )\n",
    "  # calculate errors from cross-validation\n",
    "  cv_errs = -cross_val_score(pipeline, X=bordeaux_train[features], \n",
    "                             y=bordeaux_train[\"log(price)\"],\n",
    "                             scoring=\"neg_mean_squared_error\", cv=10)\n",
    "  # calculate average of the cross-validation errors\n",
    "  return cv_errs.mean()\n",
    "\n",
    "# calculate and store errors for different feature sets\n",
    "errs = pd.Series()\n",
    "for features in [[\"win\", \"summer\"],\n",
    "                 [\"win\", \"summer\", \"age\"],\n",
    "                 [\"win\", \"summer\", \"age\", \"sep\"],\n",
    "                 [\"win\", \"summer\", \"age\", \"har\"],\n",
    "                 [\"win\", \"summer\", \"age\", \"har\", \"sep\"]]:\n",
    "  errs[str(features)] = get_cv_error(features)\n",
    "\n",
    "errs"
   ]
  },
  {
   "cell_type": "markdown",
   "metadata": {
    "colab_type": "text",
    "id": "XNsS0EJ5mtyN"
   },
   "source": [
    "Notice that more is not necessarily better. The model with the lowest mean-squared error is actually the one with four features:\n",
    "\n",
    "- winter rainfall (**win**)\n",
    "- average summer temperature (**summer**)\n",
    "- age of the wine (**age**)\n",
    "- harvest rainfall (**har**)\n",
    "\n",
    "The mean-squared error actually increases when we add the average September temperature (**sep**) to the model."
   ]
  },
  {
   "cell_type": "markdown",
   "metadata": {
    "colab_type": "text",
    "id": "v0qX7lJURC6C"
   },
   "source": [
    "## Hyperparameter Tuning\n",
    "\n",
    "Now that we have a good working model, how do we determine the optimal value of the hyperparameter $k$? We can use cross-validation to estimate the test error for different values of $k$ and choose the one with the smallest (test) MSE. This is not hard to do manually."
   ]
  },
  {
   "cell_type": "code",
   "execution_count": 0,
   "metadata": {
    "colab": {},
    "colab_type": "code",
    "id": "22_pXlcHRC6D"
   },
   "outputs": [],
   "source": [
    "X_train = bordeaux_train[[\"win\", \"summer\", \"age\", \"har\"]]\n",
    "y_train = bordeaux_train[\"log(price)\"]\n",
    "\n",
    "# calculate estimate of test error for a value of k\n",
    "def get_cv_error(k):\n",
    "  # define pipeline\n",
    "  pipeline = make_pipeline(\n",
    "      StandardScaler(),\n",
    "      KNeighborsRegressor(n_neighbors=k)\n",
    "  ) \n",
    "  # calculate errors from cross-validation\n",
    "  cv_errs = -cross_val_score(pipeline, X=X_train, y=y_train,\n",
    "                             scoring=\"neg_mean_squared_error\", cv=10)\n",
    "  # calculate average of the cross-validation errors\n",
    "  return cv_errs.mean()\n",
    "    \n",
    "ks = pd.Series(range(1, 20))\n",
    "ks.index = range(1, 20)\n",
    "test_errs = ks.apply(get_cv_error)\n",
    "\n",
    "test_errs.plot.line()\n",
    "test_errs.sort_values()"
   ]
  },
  {
   "cell_type": "markdown",
   "metadata": {
    "colab_type": "text",
    "id": "yg5lOXKvRC6F"
   },
   "source": [
    "The MSE is minimized at $k = 3$, which suggests that we should use a $3$-nearest neighbors model to predict wine quality."
   ]
  },
  {
   "cell_type": "markdown",
   "metadata": {
    "colab_type": "text",
    "id": "ydsc27bXpq-8"
   },
   "source": [
    "Scikit-learn provides a utility, `GridSearchCV`, that automates most of the drudgery of trying different hyperparameters. We specify `param_grid=`, which is a dictionary that maps the name of the parameter (e.g., `n_neighbors`) to a list of parameter values to try. The model with the highest score will be stored in `.best_estimator_`. (Note the trailing underscore, which indicates that this attribute is only available after `.fit()` has been called.)\n",
    "\n",
    "For simplicity, let's start by fitting $k$-nearest neighbors to the raw data directly, without standardization."
   ]
  },
  {
   "cell_type": "code",
   "execution_count": 0,
   "metadata": {
    "colab": {},
    "colab_type": "code",
    "id": "GhuaSStDuhMF"
   },
   "outputs": [],
   "source": [
    "from sklearn.model_selection import GridSearchCV\n",
    "\n",
    "model = KNeighborsRegressor(n_neighbors=5)\n",
    "\n",
    "# GridSearchCV will replace n_neighbors by values in param_grid.\n",
    "grid_search = GridSearchCV(model,\n",
    "                           param_grid={\"n_neighbors\": range(1, 20)},\n",
    "                           scoring=\"neg_mean_squared_error\",\n",
    "                           cv=10)\n",
    "grid_search.fit(X_train, y_train)\n",
    "grid_search.best_estimator_"
   ]
  },
  {
   "cell_type": "markdown",
   "metadata": {
    "colab_type": "text",
    "id": "0QnOI_rOvwQ8"
   },
   "source": [
    "More realistically, we will want to standardize the feature variables before passing them into `KNeighborsRegressor`, so we set up a pipeline. Notice that each step in the pipeline is automatically given a name. We will need to refer to this name when using `GridSearchCV`."
   ]
  },
  {
   "cell_type": "code",
   "execution_count": 0,
   "metadata": {
    "colab": {},
    "colab_type": "code",
    "id": "SFzr7YVEqHNT"
   },
   "outputs": [],
   "source": [
    "# define pipeline\n",
    "pipeline = make_pipeline(\n",
    "    StandardScaler(),\n",
    "    KNeighborsRegressor(n_neighbors=5)\n",
    ") \n",
    "pipeline"
   ]
  },
  {
   "cell_type": "markdown",
   "metadata": {
    "colab_type": "text",
    "id": "jcEiA_ULwZdK"
   },
   "source": [
    "The parameter that we want to tune is `n_neighbors`, which is embedded inside the `kneighborsregressor` step of the pipeline. In `GridSearchCV`, the convention is to refer to a parameter inside a step of the pipeline as `<step>__<parameter>`. So the parameter we are tuning in this case is `kneighborsregressor__n_neighbors`."
   ]
  },
  {
   "cell_type": "code",
   "execution_count": 0,
   "metadata": {
    "colab": {},
    "colab_type": "code",
    "id": "MLY8AwN4pq3K"
   },
   "outputs": [],
   "source": [
    "from sklearn.model_selection import GridSearchCV\n",
    "\n",
    "grid_search = GridSearchCV(pipeline,\n",
    "                           param_grid={\n",
    "                               \"kneighborsregressor__n_neighbors\": range(1, 20)\n",
    "                           },\n",
    "                           scoring=\"neg_mean_squared_error\",\n",
    "                           cv=10)\n",
    "grid_search.fit(X_train, y_train)\n",
    "grid_search.best_estimator_"
   ]
  },
  {
   "cell_type": "markdown",
   "metadata": {
    "colab_type": "text",
    "id": "VcptCHMaxOZQ"
   },
   "source": [
    "Inspecting the scikit-learn model that was deemed best by `GridSearchCV`, we see that a $3$-nearest neighbors model has the lowest MSE, which agrees with what we obtained earlier. It is possible to get a complete summary of what `GridSearchCV` tried, in the attribute `.cv_results_`."
   ]
  },
  {
   "cell_type": "code",
   "execution_count": 0,
   "metadata": {
    "colab": {},
    "colab_type": "code",
    "id": "gP7PE9DaqiUL"
   },
   "outputs": [],
   "source": [
    "grid_search.cv_results_"
   ]
  },
  {
   "cell_type": "markdown",
   "metadata": {
    "colab_type": "text",
    "id": "XD34QhV-xj3X"
   },
   "source": [
    "## Exercises"
   ]
  },
  {
   "cell_type": "markdown",
   "metadata": {
    "colab_type": "text",
    "id": "lz8ng0psxtHB"
   },
   "source": [
    "1\\. Train a linear regression model on the Ames data (http://dlsun.github.io/pods/data/AmesHousing.txt ) that predicts the sale price using the square footage (**Gr Liv Area**), number of bedrooms (**Bedrooms AbvGr**), and neighborhood (**Neighborhood**). Decide whether it would be valuable to add the number of full bathrooms (**Full Bath**) and/or the number of half bathrooms (**Half Bath**) to this model."
   ]
  },
  {
   "cell_type": "markdown",
   "metadata": {
    "colab_type": "text",
    "id": "rb3RTJ4LxvTP"
   },
   "source": [
    "2\\. Train a $k$-nearest neighbors model on the tips data (http://dlsun.github.io/pods/data/tips.csv ). Use cross-validation to determine the optimal value of $k$."
   ]
  }
 ],
 "metadata": {
  "colab": {
   "collapsed_sections": [],
   "include_colab_link": true,
   "name": "5.6 Model Selection and Hyperparameter Tuning",
   "provenance": []
  },
  "kernelspec": {
   "display_name": "Python 3",
   "language": "python",
   "name": "python3"
  },
  "language_info": {
   "codemirror_mode": {
    "name": "ipython",
    "version": 3
   },
   "file_extension": ".py",
   "mimetype": "text/x-python",
   "name": "python",
   "nbconvert_exporter": "python",
   "pygments_lexer": "ipython3",
   "version": "3.7.3"
  }
 },
 "nbformat": 4,
 "nbformat_minor": 1
}
