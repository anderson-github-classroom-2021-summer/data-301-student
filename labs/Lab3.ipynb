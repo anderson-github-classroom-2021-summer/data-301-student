{
 "cells": [
  {
   "cell_type": "markdown",
   "metadata": {},
   "source": [
    "# An introduction to Model Evaluation\n",
    "* Hyperparameter tuning through model evaluation\n",
    "* Bias in data\n",
    "* Custom transformer"
   ]
  },
  {
   "cell_type": "markdown",
   "metadata": {},
   "source": [
    "**Instructions:** This is an individual assignment, but you may discuss your code with your classmates.\n",
    "\n",
    "**Problem type key and definition:**\n",
    "* _Exercises_ are autograded on GitHub classroom\n",
    "* _Problems_ are manually graded and often open ended without a single correct answer.\n",
    "* _Stop and think_ prompts are not graded, and are provided to guide you.\n",
    "\n",
    "Please see the README for instructions on how to submit and obtain the lab."
   ]
  },
  {
   "cell_type": "code",
   "execution_count": 1,
   "metadata": {},
   "outputs": [],
   "source": [
    "%load_ext autoreload\n",
    "%autoreload 2\n",
    "\n",
    "\n",
    "# Put all your solutions into Lab1_helper.py as this script which is autograded\n",
    "import Lab3_helper \n",
    "\n",
    "from pathlib import Path\n",
    "home = str(Path.home()) # all other paths are relative to this path. \n",
    "# This is not relevant to most people because I recommended you use my server, but\n",
    "# change home to where you are storing everything. Again. Not recommended."
   ]
  },
  {
   "cell_type": "code",
   "execution_count": 2,
   "metadata": {},
   "outputs": [
    {
     "data": {
      "text/html": [
       "<div>\n",
       "<style scoped>\n",
       "    .dataframe tbody tr th:only-of-type {\n",
       "        vertical-align: middle;\n",
       "    }\n",
       "\n",
       "    .dataframe tbody tr th {\n",
       "        vertical-align: top;\n",
       "    }\n",
       "\n",
       "    .dataframe thead th {\n",
       "        text-align: right;\n",
       "    }\n",
       "</style>\n",
       "<table border=\"1\" class=\"dataframe\">\n",
       "  <thead>\n",
       "    <tr style=\"text-align: right;\">\n",
       "      <th></th>\n",
       "      <th>id</th>\n",
       "      <th>name</th>\n",
       "      <th>description</th>\n",
       "      <th>host_name</th>\n",
       "      <th>years_host</th>\n",
       "      <th>host_about</th>\n",
       "      <th>host_response_rate</th>\n",
       "      <th>host_listings_count</th>\n",
       "      <th>host_total_listings_count</th>\n",
       "      <th>zipcode</th>\n",
       "      <th>...</th>\n",
       "      <th>require_guest_phone</th>\n",
       "      <th>host_listings_total</th>\n",
       "      <th>reviews_per_month</th>\n",
       "      <th>superhost</th>\n",
       "      <th>is_location_exact</th>\n",
       "      <th>host_identity_verified</th>\n",
       "      <th>property_type</th>\n",
       "      <th>room_type</th>\n",
       "      <th>bed_type</th>\n",
       "      <th>amenities</th>\n",
       "    </tr>\n",
       "  </thead>\n",
       "  <tbody>\n",
       "    <tr>\n",
       "      <th>0</th>\n",
       "      <td>241032</td>\n",
       "      <td>Stylish Queen Anne Apartment</td>\n",
       "      <td>Make your self at home in this charming one-be...</td>\n",
       "      <td>Maija</td>\n",
       "      <td>8</td>\n",
       "      <td>I am an artist, interior designer, and run a s...</td>\n",
       "      <td>0.96</td>\n",
       "      <td>3.0</td>\n",
       "      <td>3.0</td>\n",
       "      <td>98119</td>\n",
       "      <td>...</td>\n",
       "      <td>0</td>\n",
       "      <td>2</td>\n",
       "      <td>4.07</td>\n",
       "      <td>0.0</td>\n",
       "      <td>1</td>\n",
       "      <td>1.0</td>\n",
       "      <td>Apartment</td>\n",
       "      <td>Entire home/apt</td>\n",
       "      <td>Real Bed</td>\n",
       "      <td>{TV,\"Cable TV\",Internet,\"Wireless Internet\",\"A...</td>\n",
       "    </tr>\n",
       "    <tr>\n",
       "      <th>1</th>\n",
       "      <td>953595</td>\n",
       "      <td>Bright &amp; Airy Queen Anne Apartment</td>\n",
       "      <td>Chemically sensitive? We've removed the irrita...</td>\n",
       "      <td>Andrea</td>\n",
       "      <td>6</td>\n",
       "      <td>Living east coast/left coast/overseas.  Time i...</td>\n",
       "      <td>0.98</td>\n",
       "      <td>6.0</td>\n",
       "      <td>6.0</td>\n",
       "      <td>98119</td>\n",
       "      <td>...</td>\n",
       "      <td>1</td>\n",
       "      <td>6</td>\n",
       "      <td>1.48</td>\n",
       "      <td>1.0</td>\n",
       "      <td>1</td>\n",
       "      <td>1.0</td>\n",
       "      <td>Apartment</td>\n",
       "      <td>Entire home/apt</td>\n",
       "      <td>Real Bed</td>\n",
       "      <td>{TV,Internet,\"Wireless Internet\",Kitchen,\"Free...</td>\n",
       "    </tr>\n",
       "    <tr>\n",
       "      <th>2</th>\n",
       "      <td>3308979</td>\n",
       "      <td>New Modern House-Amazing water view</td>\n",
       "      <td>New modern house built in 2013.  Spectacular s...</td>\n",
       "      <td>Jill</td>\n",
       "      <td>5</td>\n",
       "      <td>i love living in Seattle.  i grew up in the mi...</td>\n",
       "      <td>0.67</td>\n",
       "      <td>2.0</td>\n",
       "      <td>2.0</td>\n",
       "      <td>98119</td>\n",
       "      <td>...</td>\n",
       "      <td>0</td>\n",
       "      <td>2</td>\n",
       "      <td>1.15</td>\n",
       "      <td>0.0</td>\n",
       "      <td>1</td>\n",
       "      <td>1.0</td>\n",
       "      <td>House</td>\n",
       "      <td>Entire home/apt</td>\n",
       "      <td>Real Bed</td>\n",
       "      <td>{TV,\"Cable TV\",Internet,\"Wireless Internet\",\"A...</td>\n",
       "    </tr>\n",
       "    <tr>\n",
       "      <th>3</th>\n",
       "      <td>7421966</td>\n",
       "      <td>Queen Anne Chateau</td>\n",
       "      <td>A charming apartment that sits atop Queen Anne...</td>\n",
       "      <td>Emily</td>\n",
       "      <td>6</td>\n",
       "      <td>NaN</td>\n",
       "      <td>NaN</td>\n",
       "      <td>1.0</td>\n",
       "      <td>1.0</td>\n",
       "      <td>98119</td>\n",
       "      <td>...</td>\n",
       "      <td>0</td>\n",
       "      <td>1</td>\n",
       "      <td>NaN</td>\n",
       "      <td>0.0</td>\n",
       "      <td>1</td>\n",
       "      <td>1.0</td>\n",
       "      <td>Apartment</td>\n",
       "      <td>Entire home/apt</td>\n",
       "      <td>Real Bed</td>\n",
       "      <td>{Internet,\"Wireless Internet\",Kitchen,\"Indoor ...</td>\n",
       "    </tr>\n",
       "    <tr>\n",
       "      <th>4</th>\n",
       "      <td>278830</td>\n",
       "      <td>Charming craftsman 3 bdm house</td>\n",
       "      <td>Cozy family craftman house in beautiful neighb...</td>\n",
       "      <td>Emily</td>\n",
       "      <td>8</td>\n",
       "      <td>Hi, I live in Seattle, Washington but I'm orig...</td>\n",
       "      <td>1.00</td>\n",
       "      <td>2.0</td>\n",
       "      <td>2.0</td>\n",
       "      <td>98119</td>\n",
       "      <td>...</td>\n",
       "      <td>0</td>\n",
       "      <td>1</td>\n",
       "      <td>0.89</td>\n",
       "      <td>0.0</td>\n",
       "      <td>1</td>\n",
       "      <td>1.0</td>\n",
       "      <td>House</td>\n",
       "      <td>Entire home/apt</td>\n",
       "      <td>Real Bed</td>\n",
       "      <td>{TV,\"Cable TV\",Internet,\"Wireless Internet\",Ki...</td>\n",
       "    </tr>\n",
       "  </tbody>\n",
       "</table>\n",
       "<p>5 rows × 41 columns</p>\n",
       "</div>"
      ],
      "text/plain": [
       "        id                                 name  \\\n",
       "0   241032         Stylish Queen Anne Apartment   \n",
       "1   953595   Bright & Airy Queen Anne Apartment   \n",
       "2  3308979  New Modern House-Amazing water view   \n",
       "3  7421966                   Queen Anne Chateau   \n",
       "4   278830       Charming craftsman 3 bdm house   \n",
       "\n",
       "                                         description host_name  years_host  \\\n",
       "0  Make your self at home in this charming one-be...     Maija           8   \n",
       "1  Chemically sensitive? We've removed the irrita...    Andrea           6   \n",
       "2  New modern house built in 2013.  Spectacular s...      Jill           5   \n",
       "3  A charming apartment that sits atop Queen Anne...     Emily           6   \n",
       "4  Cozy family craftman house in beautiful neighb...     Emily           8   \n",
       "\n",
       "                                          host_about  host_response_rate  \\\n",
       "0  I am an artist, interior designer, and run a s...                0.96   \n",
       "1  Living east coast/left coast/overseas.  Time i...                0.98   \n",
       "2  i love living in Seattle.  i grew up in the mi...                0.67   \n",
       "3                                                NaN                 NaN   \n",
       "4  Hi, I live in Seattle, Washington but I'm orig...                1.00   \n",
       "\n",
       "   host_listings_count  host_total_listings_count zipcode  ...  \\\n",
       "0                  3.0                        3.0   98119  ...   \n",
       "1                  6.0                        6.0   98119  ...   \n",
       "2                  2.0                        2.0   98119  ...   \n",
       "3                  1.0                        1.0   98119  ...   \n",
       "4                  2.0                        2.0   98119  ...   \n",
       "\n",
       "   require_guest_phone  host_listings_total  reviews_per_month  superhost  \\\n",
       "0                    0                    2               4.07        0.0   \n",
       "1                    1                    6               1.48        1.0   \n",
       "2                    0                    2               1.15        0.0   \n",
       "3                    0                    1                NaN        0.0   \n",
       "4                    0                    1               0.89        0.0   \n",
       "\n",
       "   is_location_exact  host_identity_verified  property_type        room_type  \\\n",
       "0                  1                     1.0      Apartment  Entire home/apt   \n",
       "1                  1                     1.0      Apartment  Entire home/apt   \n",
       "2                  1                     1.0          House  Entire home/apt   \n",
       "3                  1                     1.0      Apartment  Entire home/apt   \n",
       "4                  1                     1.0          House  Entire home/apt   \n",
       "\n",
       "   bed_type                                          amenities  \n",
       "0  Real Bed  {TV,\"Cable TV\",Internet,\"Wireless Internet\",\"A...  \n",
       "1  Real Bed  {TV,Internet,\"Wireless Internet\",Kitchen,\"Free...  \n",
       "2  Real Bed  {TV,\"Cable TV\",Internet,\"Wireless Internet\",\"A...  \n",
       "3  Real Bed  {Internet,\"Wireless Internet\",Kitchen,\"Indoor ...  \n",
       "4  Real Bed  {TV,\"Cable TV\",Internet,\"Wireless Internet\",Ki...  \n",
       "\n",
       "[5 rows x 41 columns]"
      ]
     },
     "execution_count": 2,
     "metadata": {},
     "output_type": "execute_result"
    }
   ],
   "source": [
    "import pandas as pd\n",
    "df_airbnb = pd.read_csv(f'{home}/data-301-student/data/airbnb.csv')\n",
    "df_airbnb.head()"
   ]
  },
  {
   "cell_type": "markdown",
   "metadata": {},
   "source": [
    "Here is a nice way to view the columns in alpabetical order:"
   ]
  },
  {
   "cell_type": "code",
   "execution_count": 3,
   "metadata": {},
   "outputs": [
    {
     "data": {
      "text/plain": [
       "12                 accommodates\n",
       "40                    amenities\n",
       "25             availability_365\n",
       "13                    bathrooms\n",
       "39                     bed_type\n",
       "14                     bedrooms\n",
       "15                         beds\n",
       "29        cancellation_f0_m1_s2\n",
       "20                 cleaning_fee\n",
       "2                   description\n",
       "22                 extra_people\n",
       "21              guests_included\n",
       "5                    host_about\n",
       "36       host_identity_verified\n",
       "7           host_listings_count\n",
       "32          host_listings_total\n",
       "3                     host_name\n",
       "6            host_response_rate\n",
       "8     host_total_listings_count\n",
       "0                            id\n",
       "28                 instant_book\n",
       "35            is_location_exact\n",
       "10                     latitude\n",
       "11                    longitude\n",
       "24               maximum_nights\n",
       "23               minimum_nights\n",
       "18                monthly_price\n",
       "1                          name\n",
       "26            number_of_reviews\n",
       "16                        price\n",
       "37                property_type\n",
       "31          require_guest_phone\n",
       "30            require_guest_pic\n",
       "27         review_scores_rating\n",
       "33            reviews_per_month\n",
       "38                    room_type\n",
       "19             security_deposit\n",
       "34                    superhost\n",
       "17                 weekly_price\n",
       "4                    years_host\n",
       "9                       zipcode\n",
       "dtype: object"
      ]
     },
     "execution_count": 3,
     "metadata": {},
     "output_type": "execute_result"
    }
   ],
   "source": [
    "pd.Series(df_airbnb.columns).sort_values()"
   ]
  },
  {
   "cell_type": "markdown",
   "metadata": {},
   "source": [
    "## Interpretation and bias"
   ]
  },
  {
   "cell_type": "markdown",
   "metadata": {},
   "source": [
    "**Problem 1:** Visualize the distribution of ``review_scores_rating`` using a boxplot. This is our dependent variable, and it is the average customer rating of the Airbnb listing, on a scale of 0-100. You'll need to use the altair package like we did in lecture. Here is some code to get you started. This code is not meant to run without additional modifications.\n",
    "```python\n",
    "alt.Chart(df_airbnb)\n",
    "```\n",
    "and\n",
    "```python\n",
    "properties(width=200)\n",
    "```"
   ]
  },
  {
   "cell_type": "code",
   "execution_count": 4,
   "metadata": {},
   "outputs": [],
   "source": [
    "import altair as alt\n",
    "# Your solution here"
   ]
  },
  {
   "cell_type": "markdown",
   "metadata": {},
   "source": [
    "One of the things that stands out to me is it might be difficult to find a single model that performs well on this entire range of scores. For this lab, let's limit ourselves to properties that are rated greater than 85 on this 100 point scale. This redefines are problem to predicting among properties with a rating of greater than 85, can we predict a more exact rating and determine what is driving this rating."
   ]
  },
  {
   "cell_type": "code",
   "execution_count": null,
   "metadata": {},
   "outputs": [],
   "source": [
    "print(\"Number of observations before:\",len(df_airbnb))\n",
    "df_airbnb = df_airbnb[df_airbnb['review_scores_rating']>85].copy()\n",
    "print(\"Number of observations after:\",len(df_airbnb))"
   ]
  },
  {
   "cell_type": "markdown",
   "metadata": {},
   "source": [
    "I am also going to mean center these ratings, so that a 0 rating represents our average score. This will aid in interpretation later."
   ]
  },
  {
   "cell_type": "code",
   "execution_count": null,
   "metadata": {},
   "outputs": [],
   "source": [
    "df_airbnb['review_scores_rating'] = df_airbnb['review_scores_rating'] - df_airbnb['review_scores_rating'].mean()"
   ]
  },
  {
   "cell_type": "code",
   "execution_count": null,
   "metadata": {},
   "outputs": [],
   "source": [
    "df_airbnb['review_scores_rating'].plot.hist()"
   ]
  },
  {
   "cell_type": "markdown",
   "metadata": {},
   "source": [
    "Let's take a look at the non-numeric columns and see which ones might be categories (i.e., those with a limited number of values)."
   ]
  },
  {
   "cell_type": "code",
   "execution_count": null,
   "metadata": {},
   "outputs": [],
   "source": [
    "object_columns = list(df_airbnb.select_dtypes(include=['object']))\n",
    "df_airbnb[object_columns].nunique()"
   ]
  },
  {
   "cell_type": "markdown",
   "metadata": {},
   "source": [
    "There are some obvious categorical variables which include zipcode, room_type, property_type, and bed_type. There are some that are obviously not categorical variables such as name, description, host_name, and host_about. The column amenities is most likely another text description, but let's see with a little digging:"
   ]
  },
  {
   "cell_type": "code",
   "execution_count": null,
   "metadata": {},
   "outputs": [],
   "source": [
    "df_airbnb['amenities'].value_counts()"
   ]
  },
  {
   "cell_type": "markdown",
   "metadata": {},
   "source": [
    "The individual entries are strings, but we want to convert this to a set for processing."
   ]
  },
  {
   "cell_type": "code",
   "execution_count": null,
   "metadata": {},
   "outputs": [],
   "source": [
    "df_airbnb['amenities'].loc[0]"
   ]
  },
  {
   "cell_type": "markdown",
   "metadata": {},
   "source": [
    "The code below is beyond the scope of what we can do from scratch yet, but it deals with this nested array that is embedded inside a string. Don't worry. We'll have you writing this type of thing by the end of the class."
   ]
  },
  {
   "cell_type": "code",
   "execution_count": null,
   "metadata": {},
   "outputs": [],
   "source": [
    "df_airbnb['amenities_processed'] = df_airbnb['amenities'].apply(lambda e: set([v.replace('\"',\"\").replace(\"{\",\"\").replace(\"}\",\"\").strip() for v in e.split(\",\")]).difference(set([''])))"
   ]
  },
  {
   "cell_type": "markdown",
   "metadata": {},
   "source": [
    "Once we fix that column, we can now convert this to binary labels. And there is a sklearn function for that of course."
   ]
  },
  {
   "cell_type": "code",
   "execution_count": null,
   "metadata": {},
   "outputs": [],
   "source": [
    "from sklearn.preprocessing import MultiLabelBinarizer\n",
    "\n",
    "mlb = MultiLabelBinarizer()\n",
    "new_df = pd.DataFrame(mlb.fit_transform(df_airbnb['amenities_processed']),index=df_airbnb.index,columns=mlb.classes_)\n",
    "new_df"
   ]
  },
  {
   "cell_type": "markdown",
   "metadata": {},
   "source": [
    "How do we perform a similar operation with numeric values? For example, we might have numeric variables that are categorical variables. "
   ]
  },
  {
   "cell_type": "code",
   "execution_count": null,
   "metadata": {},
   "outputs": [],
   "source": [
    "number_columns = list(df_airbnb.select_dtypes(include=['number']))\n",
    "for c in number_columns:\n",
    "    print(c)\n",
    "    display(df_airbnb[c].value_counts())"
   ]
  },
  {
   "cell_type": "markdown",
   "metadata": {},
   "source": [
    "We now know which encoder or scaler we need to run on which columns. This is summarized below:\n",
    "* OneHotEncoder: ``zipcode``, ``room_type``, ``property_type``, ``bed_type``, ``instant_book``, and ``superhost``.\n",
    "* MultiLabelBinarizer: ``amenities_processed``\n",
    "* StandardScaler: ``years_host``, ``host_response_rate``, ``host_listings_count``, ``host_total_listings_count``, ``accommodates``, ``bathrooms``, ``bedrooms``, ``beds``, ``price``, ``weekly_price``, ``monthly_price``, ``security_deposit``, ``cleaning_fee``, ``guests_included``, ``extra_people``, ``minimum_nights``, ``maximum_nights``, ``number_of_reviews``,  and ``reviews_per_month``."
   ]
  },
  {
   "cell_type": "markdown",
   "metadata": {},
   "source": [
    "One problem though. MultiLabelBinarizer is not compatable with ColumnTransformer. This is mainly because MultiLabelBinarizer works on a single column when we need it work on multiple columns. The great news is that because sklearn is object oriented we can make our own transformer!"
   ]
  },
  {
   "cell_type": "markdown",
   "metadata": {},
   "source": [
    "**Exercise 1:** Insert the following code into the correct location and complete the missing portions.\n",
    "\n",
    "Code segment A:\n",
    "```python\n",
    "result = list()\n",
    "for i in range(self.n_columns):\n",
    "    result.append(self.mlbs[i].transform(X.iloc[:,i]))\n",
    "\n",
    "result = np.concatenate(result, axis=1)\n",
    "return result\n",
    "```\n",
    "\n",
    "Code segment B:\n",
    "```python\n",
    "for i in range(X.shape[1]): # X can be of multiple columns\n",
    "    mlb = MultiLabelBinarizer()\n",
    "    mlb.fit(???)\n",
    "    self.mlbs.append(mlb)\n",
    "    self.classes_.append(mlb.classes_)\n",
    "    self.n_columns += 1\n",
    "return self\n",
    "```\n",
    "\n"
   ]
  },
  {
   "cell_type": "code",
   "execution_count": null,
   "metadata": {},
   "outputs": [],
   "source": [
    "mhe = Lab3_helper.MultiHotEncoder()\n",
    "mhe.fit(df_airbnb[['amenities_processed']])\n",
    "encoded = pd.DataFrame(mhe.transform(df_airbnb[['amenities_processed']]),columns=mhe.categories_)\n",
    "encoded"
   ]
  },
  {
   "cell_type": "markdown",
   "metadata": {},
   "source": [
    "**Exercise 2:** Fill in the correct objects for our column transformer inside Lab3_helper.exercise_2."
   ]
  },
  {
   "cell_type": "code",
   "execution_count": null,
   "metadata": {},
   "outputs": [],
   "source": [
    "one_hot_columns = ['zipcode', 'room_type', 'property_type', 'bed_type', 'instant_book', 'superhost']\n",
    "multi_label_columns = ['amenities_processed']\n",
    "standard_scaler_columns = ['years_host', 'host_response_rate', 'host_listings_count', \n",
    "                           'host_total_listings_count', 'accommodates', 'bathrooms', 'bedrooms', \n",
    "                           'beds', 'price', 'weekly_price', 'monthly_price', 'security_deposit', \n",
    "                           'cleaning_fee', 'guests_included', 'extra_people', 'minimum_nights', \n",
    "                           'maximum_nights', 'number_of_reviews',  'reviews_per_month']\n",
    "ct = Lab3_helper.exercise_2(one_hot_columns,multi_label_columns,standard_scaler_columns)\n",
    "index_values = df_airbnb[standard_scaler_columns].dropna().index\n",
    "X = df_airbnb.loc[index_values].drop('review_scores_rating',axis=1)\n",
    "y = df_airbnb.loc[index_values]['review_scores_rating']\n",
    "\n",
    "encoded = ct.fit_transform(X)\n",
    "encoded"
   ]
  },
  {
   "cell_type": "markdown",
   "metadata": {},
   "source": [
    "This output while hopefully useful to predict the review score is not easy to interpret. _Some_ sklearn transformers implement ``get_feature_names()``, but our StandardScaler and MultiOneHot classes do not. We need to fix this problem.\n",
    "\n",
    "**Exercise 3:** Complete the class that I have provided called ``StandardScalerImproved`` such that it implements ``get_feature_names()``."
   ]
  },
  {
   "cell_type": "code",
   "execution_count": null,
   "metadata": {},
   "outputs": [],
   "source": [
    "scaler = Lab3_helper.StandardScalerImproved()\n",
    "scaler.fit(df_airbnb[standard_scaler_columns])\n",
    "encoded = pd.DataFrame(scaler.transform(df_airbnb[standard_scaler_columns]),columns=scaler.get_feature_names())\n",
    "encoded"
   ]
  },
  {
   "cell_type": "markdown",
   "metadata": {},
   "source": [
    "**Exercise 4:** Our other class, MultiHotEncoder, has the same problem, but it's a little trickier because inside that object is a list of MultiLabelBinarizers. This is a relatively minor adjustments, and it will be our next exercise to implement get_feature_names() for MultiHotEncoder."
   ]
  },
  {
   "cell_type": "code",
   "execution_count": null,
   "metadata": {},
   "outputs": [],
   "source": [
    "mhei = Lab3_helper.MultiHotEncoderImproved()\n",
    "mhei.fit(df_airbnb[multi_label_columns])\n",
    "encoded = pd.DataFrame(mhei.transform(df_airbnb[multi_label_columns]),columns=mhei.get_feature_names())\n",
    "encoded"
   ]
  },
  {
   "cell_type": "markdown",
   "metadata": {},
   "source": [
    "**Exercise 5:** Let's put our new classes to work, and make sure everything works. Fill in the correct objects for our column transformer inside Lab3_helper.exercise_5."
   ]
  },
  {
   "cell_type": "code",
   "execution_count": null,
   "metadata": {},
   "outputs": [],
   "source": [
    "one_hot_columns = ['zipcode', 'room_type', 'property_type', 'bed_type', 'instant_book', 'superhost']\n",
    "multi_label_columns = ['amenities_processed']\n",
    "standard_scaler_columns = ['years_host', 'host_response_rate', 'host_listings_count', \n",
    "                           'host_total_listings_count', 'accommodates', 'bathrooms', 'bedrooms', \n",
    "                           'beds', 'price', 'weekly_price', 'monthly_price', 'security_deposit', \n",
    "                           'cleaning_fee', 'guests_included', 'extra_people', 'minimum_nights', \n",
    "                           'maximum_nights', 'number_of_reviews',  'reviews_per_month']\n",
    "ct = Lab3_helper.exercise_5(one_hot_columns,multi_label_columns,standard_scaler_columns)\n",
    "index_values = df_airbnb[standard_scaler_columns].dropna().index\n",
    "X = df_airbnb.loc[index_values].drop('review_scores_rating',axis=1)\n",
    "y = df_airbnb.loc[index_values]['review_scores_rating']\n",
    "\n",
    "encoded = ct.fit_transform(X)\n",
    "feature_names = ct.get_feature_names()\n",
    "feature_names"
   ]
  },
  {
   "cell_type": "markdown",
   "metadata": {},
   "source": [
    "We now have everything prepared to ``fit`` our models. We will do this using both linear regression and k-nearest neighbor. We will compare the performance of these models first using all the training data, and then we will use cross-validation to select the ``k`` value hyper-parameter."
   ]
  },
  {
   "cell_type": "markdown",
   "metadata": {},
   "source": [
    "**Exercise 6:** Construct a linear regression that predicts ``review_scores_rating`` using the column transformer we constructed above."
   ]
  },
  {
   "cell_type": "code",
   "execution_count": null,
   "metadata": {},
   "outputs": [],
   "source": [
    "from sklearn.metrics import mean_absolute_error, r2_score\n",
    "\n",
    "one_hot_columns = ['zipcode', 'room_type', 'property_type', 'bed_type', 'instant_book', 'superhost']\n",
    "multi_label_columns = ['amenities_processed']\n",
    "standard_scaler_columns = ['years_host', 'host_response_rate', 'host_listings_count', \n",
    "                           'host_total_listings_count', 'accommodates', 'bathrooms', 'bedrooms', \n",
    "                           'beds', 'price', 'weekly_price', 'monthly_price', 'security_deposit', \n",
    "                           'cleaning_fee', 'guests_included', 'extra_people', 'minimum_nights', \n",
    "                           'maximum_nights', 'number_of_reviews',  'reviews_per_month']\n",
    "ct = Lab3_helper.exercise_5(one_hot_columns,multi_label_columns,standard_scaler_columns)\n",
    "\n",
    "# Remove samples that could cause a problem because of missing values\n",
    "index_values = df_airbnb[standard_scaler_columns].dropna().index\n",
    "X = df_airbnb.loc[index_values].drop('review_scores_rating',axis=1)\n",
    "y = df_airbnb.loc[index_values]['review_scores_rating'] # What we are trying to predict\n",
    "\n",
    "model = Lab3_helper.exercise_6(ct,X,y)\n",
    "y_ = model.predict(X)\n",
    "mean_absolute_error(y,y_),r2_score(y,y_)"
   ]
  },
  {
   "cell_type": "markdown",
   "metadata": {},
   "source": [
    "**Exercise 7:** Construct a k-nearest neighbor regressor with ``k=10`` that predicts ``review_scores_rating`` using the column transformer we constructed above."
   ]
  },
  {
   "cell_type": "code",
   "execution_count": null,
   "metadata": {},
   "outputs": [],
   "source": [
    "from sklearn.metrics import mean_absolute_error, r2_score\n",
    "\n",
    "one_hot_columns = ['zipcode', 'room_type', 'property_type', 'bed_type', 'instant_book', 'superhost']\n",
    "multi_label_columns = ['amenities_processed']\n",
    "standard_scaler_columns = ['years_host', 'host_response_rate', 'host_listings_count', \n",
    "                           'host_total_listings_count', 'accommodates', 'bathrooms', 'bedrooms', \n",
    "                           'beds', 'price', 'weekly_price', 'monthly_price', 'security_deposit', \n",
    "                           'cleaning_fee', 'guests_included', 'extra_people', 'minimum_nights', \n",
    "                           'maximum_nights', 'number_of_reviews',  'reviews_per_month']\n",
    "ct = Lab3_helper.exercise_5(one_hot_columns,multi_label_columns,standard_scaler_columns)\n",
    "\n",
    "# Remove samples that could cause a problem because of missing values\n",
    "index_values = df_airbnb[standard_scaler_columns].dropna().index\n",
    "X = df_airbnb.loc[index_values].drop('review_scores_rating',axis=1)\n",
    "y = df_airbnb.loc[index_values]['review_scores_rating'] # What we are trying to predict\n",
    "\n",
    "model = Lab3_helper.exercise_7(ct,X,y)\n",
    "y_ = model.predict(X)\n",
    "mean_absolute_error(y,y_),r2_score(y,y_)"
   ]
  },
  {
   "cell_type": "markdown",
   "metadata": {},
   "source": [
    "**Problem 2:** Compare the results from our work in exercise 6 and 7. Is there a clear \"winner\" in terms of performance between our k-nearest neighbors approach and the linear regression. If not, which metric indicates that the linear model is better?\n",
    "\n",
    "**Your answer here**"
   ]
  },
  {
   "cell_type": "markdown",
   "metadata": {},
   "source": [
    "**Problem 3:** For your linear regression model, create a bar chart showing the top 20 coefficients sorted by the |coefficients|. See if you can get something similar to my graph. I used ``barh`` to get the horizontal bar graph.\n",
    "\n",
    "HINTS: You might/probably will want to use the following commands:"
   ]
  },
  {
   "cell_type": "code",
   "execution_count": null,
   "metadata": {},
   "outputs": [],
   "source": [
    "model.steps[-1]"
   ]
  },
  {
   "cell_type": "code",
   "execution_count": null,
   "metadata": {},
   "outputs": [],
   "source": [
    "model.steps[-2]"
   ]
  },
  {
   "cell_type": "code",
   "execution_count": null,
   "metadata": {},
   "outputs": [],
   "source": [
    "model = Lab3_helper.exercise_6(ct,X,y)\n",
    "# Your solution here"
   ]
  },
  {
   "cell_type": "markdown",
   "metadata": {},
   "source": [
    "So what is listing count? According to some digging, it is not suprisingly the total number of listings for a host. There is a high coefficient in the linear model for this feature when predicting a rating for a property. It seems like hosts with a high total listing count result in higher reviews. This could be because they are better hosts and thus because they have more properties, but it also seems there might be algorithm bias. Hosts with few listings may not get as much attention in search results from Airbnb, and therefore, they are not able to rebound after a few bad reviews. Interpretation is one of the most difficult things in data science, and thus, arguably a more important area to study than other data science topics. In many instances, interpretation requires significant domain expertise, and understanding of the methodology. "
   ]
  },
  {
   "cell_type": "markdown",
   "metadata": {},
   "source": [
    "**Problem 4:** Complete the same analysis and produce a similar plot, but remove the columns related to host listing count. I removed them in the variables below for you."
   ]
  },
  {
   "cell_type": "code",
   "execution_count": null,
   "metadata": {},
   "outputs": [],
   "source": [
    "from sklearn.metrics import mean_absolute_error, r2_score\n",
    "\n",
    "one_hot_columns = ['zipcode', 'room_type', 'property_type', 'bed_type', 'instant_book', 'superhost']\n",
    "multi_label_columns = ['amenities_processed']\n",
    "standard_scaler_columns = ['years_host', 'host_response_rate','accommodates', 'bathrooms', 'bedrooms', \n",
    "                           'beds', 'price', 'weekly_price', 'monthly_price', 'security_deposit', \n",
    "                           'cleaning_fee', 'guests_included', 'extra_people', 'minimum_nights', \n",
    "                           'maximum_nights', 'number_of_reviews',  'reviews_per_month']\n",
    "ct = Lab3_helper.exercise_5(one_hot_columns,multi_label_columns,standard_scaler_columns)\n",
    "\n",
    "# Remove samples that could cause a problem because of missing values\n",
    "index_values = df_airbnb[standard_scaler_columns].dropna().index\n",
    "X = df_airbnb.loc[index_values].drop('review_scores_rating',axis=1)\n",
    "y = df_airbnb.loc[index_values]['review_scores_rating'] # What we are trying to predict\n",
    "\n",
    "model = Lab3_helper.exercise_6(ct,X,y)\n",
    "# Your solution here"
   ]
  },
  {
   "cell_type": "markdown",
   "metadata": {},
   "source": [
    "I think we are now getting somewhere! But how, for example, do we determine what x4 and x5 are? They are from our one host columns and they start at x0. So x4 is ``instant_book``, and what do we know :), instant book is important for predicting customer satisfaction. Now that is some insight that a company can use. Good job data scientist! The type of room is also very important (private/entire/shared). The identifier x5 is ``superhost``. "
   ]
  },
  {
   "cell_type": "markdown",
   "metadata": {},
   "source": [
    "## Hyperparameter tuning\n",
    "\n",
    "We want to compare linear regression to k-nearest neighbor, but we arbitrarily chose ``k``. We know how to perform a grid search from the chapter, so let's get to it!\n",
    "\n",
    "**Exercise 8:** Run grid search using sklearn and find the best parameters for n_neighbors. More details are in the helper file. "
   ]
  },
  {
   "cell_type": "code",
   "execution_count": null,
   "metadata": {},
   "outputs": [],
   "source": [
    "from sklearn.metrics import mean_absolute_error, r2_score\n",
    "\n",
    "one_hot_columns = ['zipcode', 'room_type', 'property_type', 'bed_type', 'instant_book', 'superhost']\n",
    "multi_label_columns = ['amenities_processed']\n",
    "standard_scaler_columns = ['years_host', 'host_response_rate','accommodates', 'bathrooms', 'bedrooms', \n",
    "                           'beds', 'price', 'weekly_price', 'monthly_price', 'security_deposit', \n",
    "                           'cleaning_fee', 'guests_included', 'extra_people', 'minimum_nights', \n",
    "                           'maximum_nights', 'number_of_reviews',  'reviews_per_month']\n",
    "ct = Lab3_helper.exercise_5(one_hot_columns,multi_label_columns,standard_scaler_columns)\n",
    "\n",
    "pipeline = Lab3_helper.exercise_7(ct,X,y)\n",
    "\n",
    "best_params = Lab3_helper.exercise_8(pipeline,X,y)\n",
    "best_params"
   ]
  },
  {
   "cell_type": "markdown",
   "metadata": {},
   "source": [
    "So are we ready to compare k-nearest neighbors to linear regression? ... Well not so fast. We have now run out of data. Whenever, you compare two models you need to treat them both the same. We want to compare the best k-nearest neighbor to linear regression... This is often where things get a little off the rails for some data scientists. What we need to do is be careful about how we are going to nest our validation and hyperparameter tuning. We want to estimate the test set error, so we want to run:\n",
    "```python\n",
    "cross_val_score(best_knn_pipeline,...) vs cross_val_score(linear_pipeline,...)\n",
    "```\n",
    "The linear pipeline is relatively easy since we are not performing any hyperparameter tuning. The best_knn_pipeline is not necessarily going to be the same for each fold of the cross-validation because the training data is not the same. Luckily for us, sklearn can handle all of this for us if we nest things properly. The key difference is that instead of calling ``.fit`` on GridSearchCV directly, we are going to pass this object directly to cross_val_score. i.e.,\n",
    "```python\n",
    "cross_val_score(grid_search_cv_object,...)\n",
    "```\n",
    "Let's give it a try in the next exercise!\n",
    "\n",
    "**Exercise 9:** Compare a hypertuned k-nearest neighbor regressor to a linear regressor using cross_val_score and GridSearchCV. See the helper file for more details."
   ]
  },
  {
   "cell_type": "code",
   "execution_count": null,
   "metadata": {},
   "outputs": [],
   "source": [
    "# Remove samples that could cause a problem because of missing values\n",
    "index_values = df_airbnb[standard_scaler_columns].dropna().index\n",
    "X = df_airbnb.loc[index_values].drop('review_scores_rating',axis=1)\n",
    "y = df_airbnb.loc[index_values]['review_scores_rating'] # What we are trying to predict\n",
    "r2_knn,r2_linear = Lab3_helper.exercise_9(X,y)\n",
    "r2_knn,r2_linear"
   ]
  },
  {
   "cell_type": "markdown",
   "metadata": {},
   "source": [
    "**Problem 5:** What do these numbers mean? Answer the following. Are they any good? Are they better than guessing the mean rating for all listings? What does the negative number mean?\n",
    "\n",
    "**Your answer here**"
   ]
  },
  {
   "cell_type": "code",
   "execution_count": null,
   "metadata": {},
   "outputs": [],
   "source": [
    "# Good job!\n",
    "# Don't forget to push with ./submit.sh"
   ]
  },
  {
   "cell_type": "code",
   "execution_count": null,
   "metadata": {},
   "outputs": [],
   "source": []
  }
 ],
 "metadata": {
  "jupytext": {
   "formats": "ipynb,md"
  },
  "kernelspec": {
   "display_name": "Python 3",
   "language": "python",
   "name": "python3"
  },
  "language_info": {
   "codemirror_mode": {
    "name": "ipython",
    "version": 3
   },
   "file_extension": ".py",
   "mimetype": "text/x-python",
   "name": "python",
   "nbconvert_exporter": "python",
   "pygments_lexer": "ipython3",
   "version": "3.7.3"
  }
 },
 "nbformat": 4,
 "nbformat_minor": 4
}
