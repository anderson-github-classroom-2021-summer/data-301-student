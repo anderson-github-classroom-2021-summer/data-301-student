{
 "cells": [
  {
   "cell_type": "markdown",
   "metadata": {},
   "source": [
    "# An introduction to Selection Bias in Data"
   ]
  },
  {
   "cell_type": "markdown",
   "metadata": {},
   "source": [
    "**Instructions:** This is an individual assignment, but you may discuss your code with your classmates.\n",
    "\n",
    "**Problem type key and definition:**\n",
    "* _Exercises_ are autograded on GitHub classroom\n",
    "* _Problems_ are manually graded and often open ended without a single correct answer.\n",
    "* _Stop and think_ prompts are not graded, and are provided to guide you.\n",
    "\n",
    "Please see the README for instructions on how to submit and obtain the lab."
   ]
  },
  {
   "cell_type": "code",
   "execution_count": 4,
   "metadata": {},
   "outputs": [
    {
     "name": "stdout",
     "output_type": "stream",
     "text": [
      "The autoreload extension is already loaded. To reload it, use:\n",
      "  %reload_ext autoreload\n"
     ]
    }
   ],
   "source": [
    "%load_ext autoreload\n",
    "%autoreload 2\n",
    "\n",
    "\n",
    "# Put all your solutions into Lab1_helper.py as this script which is autograded\n",
    "import Lab2_helper \n",
    "\n",
    "from pathlib import Path\n",
    "home = str(Path.home()) # all other paths are relative to this path. \n",
    "# This is not relevant to most people because I recommended you use my server, but\n",
    "# change home to where you are storing everything. Again. Not recommended."
   ]
  },
  {
   "cell_type": "code",
   "execution_count": 6,
   "metadata": {},
   "outputs": [
    {
     "data": {
      "text/html": [
       "<div>\n",
       "<style scoped>\n",
       "    .dataframe tbody tr th:only-of-type {\n",
       "        vertical-align: middle;\n",
       "    }\n",
       "\n",
       "    .dataframe tbody tr th {\n",
       "        vertical-align: top;\n",
       "    }\n",
       "\n",
       "    .dataframe thead th {\n",
       "        text-align: right;\n",
       "    }\n",
       "</style>\n",
       "<table border=\"1\" class=\"dataframe\">\n",
       "  <thead>\n",
       "    <tr style=\"text-align: right;\">\n",
       "      <th></th>\n",
       "      <th>id</th>\n",
       "      <th>name</th>\n",
       "      <th>description</th>\n",
       "      <th>host_name</th>\n",
       "      <th>years_host</th>\n",
       "      <th>host_about</th>\n",
       "      <th>host_response_rate</th>\n",
       "      <th>host_listings_count</th>\n",
       "      <th>host_total_listings_count</th>\n",
       "      <th>zipcode</th>\n",
       "      <th>...</th>\n",
       "      <th>require_guest_phone</th>\n",
       "      <th>host_listings_total</th>\n",
       "      <th>reviews_per_month</th>\n",
       "      <th>superhost</th>\n",
       "      <th>is_location_exact</th>\n",
       "      <th>host_identity_verified</th>\n",
       "      <th>property_type</th>\n",
       "      <th>room_type</th>\n",
       "      <th>bed_type</th>\n",
       "      <th>amenities</th>\n",
       "    </tr>\n",
       "  </thead>\n",
       "  <tbody>\n",
       "    <tr>\n",
       "      <th>0</th>\n",
       "      <td>241032</td>\n",
       "      <td>Stylish Queen Anne Apartment</td>\n",
       "      <td>Make your self at home in this charming one-be...</td>\n",
       "      <td>Maija</td>\n",
       "      <td>8</td>\n",
       "      <td>I am an artist, interior designer, and run a s...</td>\n",
       "      <td>0.96</td>\n",
       "      <td>3.0</td>\n",
       "      <td>3.0</td>\n",
       "      <td>98119</td>\n",
       "      <td>...</td>\n",
       "      <td>0</td>\n",
       "      <td>2</td>\n",
       "      <td>4.07</td>\n",
       "      <td>0.0</td>\n",
       "      <td>1</td>\n",
       "      <td>1.0</td>\n",
       "      <td>Apartment</td>\n",
       "      <td>Entire home/apt</td>\n",
       "      <td>Real Bed</td>\n",
       "      <td>{TV,\"Cable TV\",Internet,\"Wireless Internet\",\"A...</td>\n",
       "    </tr>\n",
       "    <tr>\n",
       "      <th>1</th>\n",
       "      <td>953595</td>\n",
       "      <td>Bright &amp; Airy Queen Anne Apartment</td>\n",
       "      <td>Chemically sensitive? We've removed the irrita...</td>\n",
       "      <td>Andrea</td>\n",
       "      <td>6</td>\n",
       "      <td>Living east coast/left coast/overseas.  Time i...</td>\n",
       "      <td>0.98</td>\n",
       "      <td>6.0</td>\n",
       "      <td>6.0</td>\n",
       "      <td>98119</td>\n",
       "      <td>...</td>\n",
       "      <td>1</td>\n",
       "      <td>6</td>\n",
       "      <td>1.48</td>\n",
       "      <td>1.0</td>\n",
       "      <td>1</td>\n",
       "      <td>1.0</td>\n",
       "      <td>Apartment</td>\n",
       "      <td>Entire home/apt</td>\n",
       "      <td>Real Bed</td>\n",
       "      <td>{TV,Internet,\"Wireless Internet\",Kitchen,\"Free...</td>\n",
       "    </tr>\n",
       "    <tr>\n",
       "      <th>2</th>\n",
       "      <td>3308979</td>\n",
       "      <td>New Modern House-Amazing water view</td>\n",
       "      <td>New modern house built in 2013.  Spectacular s...</td>\n",
       "      <td>Jill</td>\n",
       "      <td>5</td>\n",
       "      <td>i love living in Seattle.  i grew up in the mi...</td>\n",
       "      <td>0.67</td>\n",
       "      <td>2.0</td>\n",
       "      <td>2.0</td>\n",
       "      <td>98119</td>\n",
       "      <td>...</td>\n",
       "      <td>0</td>\n",
       "      <td>2</td>\n",
       "      <td>1.15</td>\n",
       "      <td>0.0</td>\n",
       "      <td>1</td>\n",
       "      <td>1.0</td>\n",
       "      <td>House</td>\n",
       "      <td>Entire home/apt</td>\n",
       "      <td>Real Bed</td>\n",
       "      <td>{TV,\"Cable TV\",Internet,\"Wireless Internet\",\"A...</td>\n",
       "    </tr>\n",
       "    <tr>\n",
       "      <th>3</th>\n",
       "      <td>7421966</td>\n",
       "      <td>Queen Anne Chateau</td>\n",
       "      <td>A charming apartment that sits atop Queen Anne...</td>\n",
       "      <td>Emily</td>\n",
       "      <td>6</td>\n",
       "      <td>NaN</td>\n",
       "      <td>NaN</td>\n",
       "      <td>1.0</td>\n",
       "      <td>1.0</td>\n",
       "      <td>98119</td>\n",
       "      <td>...</td>\n",
       "      <td>0</td>\n",
       "      <td>1</td>\n",
       "      <td>NaN</td>\n",
       "      <td>0.0</td>\n",
       "      <td>1</td>\n",
       "      <td>1.0</td>\n",
       "      <td>Apartment</td>\n",
       "      <td>Entire home/apt</td>\n",
       "      <td>Real Bed</td>\n",
       "      <td>{Internet,\"Wireless Internet\",Kitchen,\"Indoor ...</td>\n",
       "    </tr>\n",
       "    <tr>\n",
       "      <th>4</th>\n",
       "      <td>278830</td>\n",
       "      <td>Charming craftsman 3 bdm house</td>\n",
       "      <td>Cozy family craftman house in beautiful neighb...</td>\n",
       "      <td>Emily</td>\n",
       "      <td>8</td>\n",
       "      <td>Hi, I live in Seattle, Washington but I'm orig...</td>\n",
       "      <td>1.00</td>\n",
       "      <td>2.0</td>\n",
       "      <td>2.0</td>\n",
       "      <td>98119</td>\n",
       "      <td>...</td>\n",
       "      <td>0</td>\n",
       "      <td>1</td>\n",
       "      <td>0.89</td>\n",
       "      <td>0.0</td>\n",
       "      <td>1</td>\n",
       "      <td>1.0</td>\n",
       "      <td>House</td>\n",
       "      <td>Entire home/apt</td>\n",
       "      <td>Real Bed</td>\n",
       "      <td>{TV,\"Cable TV\",Internet,\"Wireless Internet\",Ki...</td>\n",
       "    </tr>\n",
       "  </tbody>\n",
       "</table>\n",
       "<p>5 rows × 41 columns</p>\n",
       "</div>"
      ],
      "text/plain": [
       "        id                                 name  \\\n",
       "0   241032         Stylish Queen Anne Apartment   \n",
       "1   953595   Bright & Airy Queen Anne Apartment   \n",
       "2  3308979  New Modern House-Amazing water view   \n",
       "3  7421966                   Queen Anne Chateau   \n",
       "4   278830       Charming craftsman 3 bdm house   \n",
       "\n",
       "                                         description host_name  years_host  \\\n",
       "0  Make your self at home in this charming one-be...     Maija           8   \n",
       "1  Chemically sensitive? We've removed the irrita...    Andrea           6   \n",
       "2  New modern house built in 2013.  Spectacular s...      Jill           5   \n",
       "3  A charming apartment that sits atop Queen Anne...     Emily           6   \n",
       "4  Cozy family craftman house in beautiful neighb...     Emily           8   \n",
       "\n",
       "                                          host_about  host_response_rate  \\\n",
       "0  I am an artist, interior designer, and run a s...                0.96   \n",
       "1  Living east coast/left coast/overseas.  Time i...                0.98   \n",
       "2  i love living in Seattle.  i grew up in the mi...                0.67   \n",
       "3                                                NaN                 NaN   \n",
       "4  Hi, I live in Seattle, Washington but I'm orig...                1.00   \n",
       "\n",
       "   host_listings_count  host_total_listings_count zipcode  ...  \\\n",
       "0                  3.0                        3.0   98119  ...   \n",
       "1                  6.0                        6.0   98119  ...   \n",
       "2                  2.0                        2.0   98119  ...   \n",
       "3                  1.0                        1.0   98119  ...   \n",
       "4                  2.0                        2.0   98119  ...   \n",
       "\n",
       "   require_guest_phone  host_listings_total  reviews_per_month  superhost  \\\n",
       "0                    0                    2               4.07        0.0   \n",
       "1                    1                    6               1.48        1.0   \n",
       "2                    0                    2               1.15        0.0   \n",
       "3                    0                    1                NaN        0.0   \n",
       "4                    0                    1               0.89        0.0   \n",
       "\n",
       "   is_location_exact  host_identity_verified  property_type        room_type  \\\n",
       "0                  1                     1.0      Apartment  Entire home/apt   \n",
       "1                  1                     1.0      Apartment  Entire home/apt   \n",
       "2                  1                     1.0          House  Entire home/apt   \n",
       "3                  1                     1.0      Apartment  Entire home/apt   \n",
       "4                  1                     1.0          House  Entire home/apt   \n",
       "\n",
       "   bed_type                                          amenities  \n",
       "0  Real Bed  {TV,\"Cable TV\",Internet,\"Wireless Internet\",\"A...  \n",
       "1  Real Bed  {TV,Internet,\"Wireless Internet\",Kitchen,\"Free...  \n",
       "2  Real Bed  {TV,\"Cable TV\",Internet,\"Wireless Internet\",\"A...  \n",
       "3  Real Bed  {Internet,\"Wireless Internet\",Kitchen,\"Indoor ...  \n",
       "4  Real Bed  {TV,\"Cable TV\",Internet,\"Wireless Internet\",Ki...  \n",
       "\n",
       "[5 rows x 41 columns]"
      ]
     },
     "execution_count": 6,
     "metadata": {},
     "output_type": "execute_result"
    }
   ],
   "source": [
    "import pandas as pd\n",
    "df_airbnb = pd.read_csv(f'{home}/data-301-student/data/airbnb.csv')\n",
    "df_airbnb.head()"
   ]
  },
  {
   "cell_type": "markdown",
   "metadata": {},
   "source": [
    "Here is a nice way to view the columns in alpabetical order:"
   ]
  },
  {
   "cell_type": "code",
   "execution_count": 10,
   "metadata": {},
   "outputs": [
    {
     "data": {
      "text/plain": [
       "12                 accommodates\n",
       "40                    amenities\n",
       "25             availability_365\n",
       "13                    bathrooms\n",
       "39                     bed_type\n",
       "14                     bedrooms\n",
       "15                         beds\n",
       "29        cancellation_f0_m1_s2\n",
       "20                 cleaning_fee\n",
       "2                   description\n",
       "22                 extra_people\n",
       "21              guests_included\n",
       "5                    host_about\n",
       "36       host_identity_verified\n",
       "7           host_listings_count\n",
       "32          host_listings_total\n",
       "3                     host_name\n",
       "6            host_response_rate\n",
       "8     host_total_listings_count\n",
       "0                            id\n",
       "28                 instant_book\n",
       "35            is_location_exact\n",
       "10                     latitude\n",
       "11                    longitude\n",
       "24               maximum_nights\n",
       "23               minimum_nights\n",
       "18                monthly_price\n",
       "1                          name\n",
       "26            number_of_reviews\n",
       "16                        price\n",
       "37                property_type\n",
       "31          require_guest_phone\n",
       "30            require_guest_pic\n",
       "27         review_scores_rating\n",
       "33            reviews_per_month\n",
       "38                    room_type\n",
       "19             security_deposit\n",
       "34                    superhost\n",
       "17                 weekly_price\n",
       "4                    years_host\n",
       "9                       zipcode\n",
       "dtype: object"
      ]
     },
     "execution_count": 10,
     "metadata": {},
     "output_type": "execute_result"
    }
   ],
   "source": [
    "pd.Series(df_airbnb.columns).sort_values()"
   ]
  },
  {
   "cell_type": "markdown",
   "metadata": {},
   "source": [
    "**Problem 1:** Visualize the distribution of ``number_of_reviews`` using a histogram with 20 bins."
   ]
  },
  {
   "cell_type": "code",
   "execution_count": 17,
   "metadata": {},
   "outputs": [
    {
     "data": {
      "image/png": "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\n",
      "text/plain": [
       "<Figure size 432x288 with 1 Axes>"
      ]
     },
     "metadata": {
      "needs_background": "light"
     },
     "output_type": "display_data"
    }
   ],
   "source": [
    "# Your solution here"
   ]
  },
  {
   "cell_type": "markdown",
   "metadata": {},
   "source": [
    "**Exercise 1:** Apply a ladder transformation to balance the data. Use $\\lambda=0.2$. Store this value in a new column called ``number_of_reviews_transformed``."
   ]
  },
  {
   "cell_type": "code",
   "execution_count": 24,
   "metadata": {},
   "outputs": [
    {
     "data": {
      "text/plain": [
       "<AxesSubplot:ylabel='Frequency'>"
      ]
     },
     "execution_count": 24,
     "metadata": {},
     "output_type": "execute_result"
    },
    {
     "data": {
      "image/png": "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\n",
      "text/plain": [
       "<Figure size 432x288 with 1 Axes>"
      ]
     },
     "metadata": {
      "needs_background": "light"
     },
     "output_type": "display_data"
    }
   ],
   "source": [
    "df_airbnb['number_of_reviews_transformed'] = Lab2_helper.exercise_1(df_airbnb['number_of_reviews'],l=0.2)\n",
    "df_airbnb['number_of_reviews_transformed'].plot.hist()"
   ]
  },
  {
   "cell_type": "code",
   "execution_count": 25,
   "metadata": {},
   "outputs": [
    {
     "data": {
      "text/html": [
       "<div>\n",
       "<style scoped>\n",
       "    .dataframe tbody tr th:only-of-type {\n",
       "        vertical-align: middle;\n",
       "    }\n",
       "\n",
       "    .dataframe tbody tr th {\n",
       "        vertical-align: top;\n",
       "    }\n",
       "\n",
       "    .dataframe thead th {\n",
       "        text-align: right;\n",
       "    }\n",
       "</style>\n",
       "<table border=\"1\" class=\"dataframe\">\n",
       "  <thead>\n",
       "    <tr style=\"text-align: right;\">\n",
       "      <th></th>\n",
       "      <th>number_of_reviews</th>\n",
       "      <th>number_of_reviews_transformed</th>\n",
       "    </tr>\n",
       "  </thead>\n",
       "  <tbody>\n",
       "    <tr>\n",
       "      <th>0</th>\n",
       "      <td>207</td>\n",
       "      <td>2.905321</td>\n",
       "    </tr>\n",
       "    <tr>\n",
       "      <th>1</th>\n",
       "      <td>43</td>\n",
       "      <td>2.121747</td>\n",
       "    </tr>\n",
       "    <tr>\n",
       "      <th>2</th>\n",
       "      <td>20</td>\n",
       "      <td>1.820564</td>\n",
       "    </tr>\n",
       "    <tr>\n",
       "      <th>3</th>\n",
       "      <td>0</td>\n",
       "      <td>0.000000</td>\n",
       "    </tr>\n",
       "    <tr>\n",
       "      <th>4</th>\n",
       "      <td>38</td>\n",
       "      <td>2.069935</td>\n",
       "    </tr>\n",
       "    <tr>\n",
       "      <th>...</th>\n",
       "      <td>...</td>\n",
       "      <td>...</td>\n",
       "    </tr>\n",
       "    <tr>\n",
       "      <th>3811</th>\n",
       "      <td>1</td>\n",
       "      <td>1.000000</td>\n",
       "    </tr>\n",
       "    <tr>\n",
       "      <th>3812</th>\n",
       "      <td>2</td>\n",
       "      <td>1.148698</td>\n",
       "    </tr>\n",
       "    <tr>\n",
       "      <th>3813</th>\n",
       "      <td>0</td>\n",
       "      <td>0.000000</td>\n",
       "    </tr>\n",
       "    <tr>\n",
       "      <th>3814</th>\n",
       "      <td>0</td>\n",
       "      <td>0.000000</td>\n",
       "    </tr>\n",
       "    <tr>\n",
       "      <th>3815</th>\n",
       "      <td>0</td>\n",
       "      <td>0.000000</td>\n",
       "    </tr>\n",
       "  </tbody>\n",
       "</table>\n",
       "<p>3816 rows × 2 columns</p>\n",
       "</div>"
      ],
      "text/plain": [
       "      number_of_reviews  number_of_reviews_transformed\n",
       "0                   207                       2.905321\n",
       "1                    43                       2.121747\n",
       "2                    20                       1.820564\n",
       "3                     0                       0.000000\n",
       "4                    38                       2.069935\n",
       "...                 ...                            ...\n",
       "3811                  1                       1.000000\n",
       "3812                  2                       1.148698\n",
       "3813                  0                       0.000000\n",
       "3814                  0                       0.000000\n",
       "3815                  0                       0.000000\n",
       "\n",
       "[3816 rows x 2 columns]"
      ]
     },
     "execution_count": 25,
     "metadata": {},
     "output_type": "execute_result"
    }
   ],
   "source": [
    "df_airbnb[['number_of_reviews','number_of_reviews_transformed']]"
   ]
  },
  {
   "cell_type": "markdown",
   "metadata": {},
   "source": [
    "**Problem 2:** Write the code to find the 25th, 50th, and 75th percentile of ``number_of_reviews`` using the quantile function. We will use these later."
   ]
  },
  {
   "cell_type": "code",
   "execution_count": 22,
   "metadata": {},
   "outputs": [
    {
     "data": {
      "text/plain": [
       "(2.0, 9.0, 26.0)"
      ]
     },
     "execution_count": 22,
     "metadata": {},
     "output_type": "execute_result"
    }
   ],
   "source": [
    "# Your solution here"
   ]
  },
  {
   "cell_type": "markdown",
   "metadata": {},
   "source": [
    "**Exercise 2:** Write a function that adds three new categorical columns to the dataframe. They should be boolean columns that specify whether the ``column`` is less than or equal to the 25th, 50th, and 75th percentile of the ``column`` specified."
   ]
  },
  {
   "cell_type": "code",
   "execution_count": 29,
   "metadata": {},
   "outputs": [
    {
     "data": {
      "text/html": [
       "<div>\n",
       "<style scoped>\n",
       "    .dataframe tbody tr th:only-of-type {\n",
       "        vertical-align: middle;\n",
       "    }\n",
       "\n",
       "    .dataframe tbody tr th {\n",
       "        vertical-align: top;\n",
       "    }\n",
       "\n",
       "    .dataframe thead th {\n",
       "        text-align: right;\n",
       "    }\n",
       "</style>\n",
       "<table border=\"1\" class=\"dataframe\">\n",
       "  <thead>\n",
       "    <tr style=\"text-align: right;\">\n",
       "      <th></th>\n",
       "      <th>number_of_reviews&lt;=0.25</th>\n",
       "      <th>number_of_reviews&lt;=0.5</th>\n",
       "      <th>number_of_reviews&lt;=0.75</th>\n",
       "    </tr>\n",
       "  </thead>\n",
       "  <tbody>\n",
       "    <tr>\n",
       "      <th>0</th>\n",
       "      <td>False</td>\n",
       "      <td>False</td>\n",
       "      <td>False</td>\n",
       "    </tr>\n",
       "    <tr>\n",
       "      <th>1</th>\n",
       "      <td>False</td>\n",
       "      <td>False</td>\n",
       "      <td>False</td>\n",
       "    </tr>\n",
       "    <tr>\n",
       "      <th>2</th>\n",
       "      <td>False</td>\n",
       "      <td>False</td>\n",
       "      <td>True</td>\n",
       "    </tr>\n",
       "    <tr>\n",
       "      <th>3</th>\n",
       "      <td>True</td>\n",
       "      <td>True</td>\n",
       "      <td>True</td>\n",
       "    </tr>\n",
       "    <tr>\n",
       "      <th>4</th>\n",
       "      <td>False</td>\n",
       "      <td>False</td>\n",
       "      <td>False</td>\n",
       "    </tr>\n",
       "  </tbody>\n",
       "</table>\n",
       "</div>"
      ],
      "text/plain": [
       "   number_of_reviews<=0.25  number_of_reviews<=0.5  number_of_reviews<=0.75\n",
       "0                    False                   False                    False\n",
       "1                    False                   False                    False\n",
       "2                    False                   False                     True\n",
       "3                     True                    True                     True\n",
       "4                    False                   False                    False"
      ]
     },
     "execution_count": 29,
     "metadata": {},
     "output_type": "execute_result"
    }
   ],
   "source": [
    "Lab2_helper.exercise_2(df_airbnb,'number_of_reviews',percentiles=[0.25,0.5,0.75])\n",
    "df_airbnb[['number_of_reviews<=0.25','number_of_reviews<=0.5','number_of_reviews<=0.75']].head()"
   ]
  },
  {
   "cell_type": "markdown",
   "metadata": {},
   "source": [
    "**Problem 3:** Now apply this same transformation but substitute the ``review_scores_rating`` column into your exercise_2 function."
   ]
  },
  {
   "cell_type": "code",
   "execution_count": 30,
   "metadata": {},
   "outputs": [
    {
     "data": {
      "text/html": [
       "<div>\n",
       "<style scoped>\n",
       "    .dataframe tbody tr th:only-of-type {\n",
       "        vertical-align: middle;\n",
       "    }\n",
       "\n",
       "    .dataframe tbody tr th {\n",
       "        vertical-align: top;\n",
       "    }\n",
       "\n",
       "    .dataframe thead th {\n",
       "        text-align: right;\n",
       "    }\n",
       "</style>\n",
       "<table border=\"1\" class=\"dataframe\">\n",
       "  <thead>\n",
       "    <tr style=\"text-align: right;\">\n",
       "      <th></th>\n",
       "      <th>review_scores_rating&lt;=0.25</th>\n",
       "      <th>review_scores_rating&lt;=0.5</th>\n",
       "      <th>review_scores_rating&lt;=0.75</th>\n",
       "    </tr>\n",
       "  </thead>\n",
       "  <tbody>\n",
       "    <tr>\n",
       "      <th>0</th>\n",
       "      <td>False</td>\n",
       "      <td>True</td>\n",
       "      <td>True</td>\n",
       "    </tr>\n",
       "    <tr>\n",
       "      <th>1</th>\n",
       "      <td>False</td>\n",
       "      <td>False</td>\n",
       "      <td>True</td>\n",
       "    </tr>\n",
       "    <tr>\n",
       "      <th>2</th>\n",
       "      <td>False</td>\n",
       "      <td>False</td>\n",
       "      <td>True</td>\n",
       "    </tr>\n",
       "    <tr>\n",
       "      <th>3</th>\n",
       "      <td>True</td>\n",
       "      <td>True</td>\n",
       "      <td>True</td>\n",
       "    </tr>\n",
       "    <tr>\n",
       "      <th>4</th>\n",
       "      <td>False</td>\n",
       "      <td>True</td>\n",
       "      <td>True</td>\n",
       "    </tr>\n",
       "  </tbody>\n",
       "</table>\n",
       "</div>"
      ],
      "text/plain": [
       "   review_scores_rating<=0.25  review_scores_rating<=0.5  \\\n",
       "0                       False                       True   \n",
       "1                       False                      False   \n",
       "2                       False                      False   \n",
       "3                        True                       True   \n",
       "4                       False                       True   \n",
       "\n",
       "   review_scores_rating<=0.75  \n",
       "0                        True  \n",
       "1                        True  \n",
       "2                        True  \n",
       "3                        True  \n",
       "4                        True  "
      ]
     },
     "execution_count": 30,
     "metadata": {},
     "output_type": "execute_result"
    }
   ],
   "source": [
    "df_airbnb[['review_scores_rating<=0.25','review_scores_rating<=0.5','review_scores_rating<=0.75']].head()"
   ]
  },
  {
   "cell_type": "markdown",
   "metadata": {},
   "source": [
    "**Exercise 3:** Construct the joint probability distribution of ``review_scores_rating<=0.5`` and ``number_of_reviews<=0.5``."
   ]
  },
  {
   "cell_type": "code",
   "execution_count": 40,
   "metadata": {},
   "outputs": [
    {
     "data": {
      "text/html": [
       "<div>\n",
       "<style scoped>\n",
       "    .dataframe tbody tr th:only-of-type {\n",
       "        vertical-align: middle;\n",
       "    }\n",
       "\n",
       "    .dataframe tbody tr th {\n",
       "        vertical-align: top;\n",
       "    }\n",
       "\n",
       "    .dataframe thead th {\n",
       "        text-align: right;\n",
       "    }\n",
       "</style>\n",
       "<table border=\"1\" class=\"dataframe\">\n",
       "  <thead>\n",
       "    <tr style=\"text-align: right;\">\n",
       "      <th>review_scores_rating&lt;=0.5</th>\n",
       "      <th>False</th>\n",
       "      <th>True</th>\n",
       "    </tr>\n",
       "    <tr>\n",
       "      <th>number_of_reviews&lt;=0.5</th>\n",
       "      <th></th>\n",
       "      <th></th>\n",
       "    </tr>\n",
       "  </thead>\n",
       "  <tbody>\n",
       "    <tr>\n",
       "      <th>False</th>\n",
       "      <td>0.257075</td>\n",
       "      <td>0.228249</td>\n",
       "    </tr>\n",
       "    <tr>\n",
       "      <th>True</th>\n",
       "      <td>0.204403</td>\n",
       "      <td>0.310273</td>\n",
       "    </tr>\n",
       "  </tbody>\n",
       "</table>\n",
       "</div>"
      ],
      "text/plain": [
       "review_scores_rating<=0.5     False     True \n",
       "number_of_reviews<=0.5                       \n",
       "False                      0.257075  0.228249\n",
       "True                       0.204403  0.310273"
      ]
     },
     "execution_count": 40,
     "metadata": {},
     "output_type": "execute_result"
    }
   ],
   "source": [
    "jd_num_reviews_rating_0p5 = Lab2_helper.exercise_3(df_airbnb['number_of_reviews<=0.5'],df_airbnb['review_scores_rating<=0.5'])\n",
    "jd_num_reviews_rating_0p5"
   ]
  },
  {
   "cell_type": "markdown",
   "metadata": {},
   "source": [
    "**Exercise 4:** Using the joint probability distribution you found above, write a function that computes the conditional probability P(review_scores_rating<=0.5|number_of_reviews<=0.5). "
   ]
  },
  {
   "cell_type": "code",
   "execution_count": 53,
   "metadata": {},
   "outputs": [
    {
     "data": {
      "text/plain": [
       "number_of_reviews<=0.5\n",
       "False    0.485325\n",
       "True     0.514675\n",
       "dtype: float64"
      ]
     },
     "execution_count": 53,
     "metadata": {},
     "output_type": "execute_result"
    }
   ],
   "source": [
    "jd_num_reviews_rating_0p5.sum(axis=1)"
   ]
  },
  {
   "cell_type": "code",
   "execution_count": 54,
   "metadata": {},
   "outputs": [
    {
     "data": {
      "text/plain": [
       "number_of_reviews<=0.5\n",
       "False    0.470302\n",
       "True     0.602851\n",
       "Name: True, dtype: float64"
      ]
     },
     "execution_count": 54,
     "metadata": {},
     "output_type": "execute_result"
    }
   ],
   "source": [
    "rating_given_num_reviews_0p5 = Lab2_helper.exercise_4(jd_num_reviews_rating_0p5)\n",
    "rating_given_num_reviews_0p5[True] # Only need to look at one side of this"
   ]
  },
  {
   "cell_type": "code",
   "execution_count": 56,
   "metadata": {},
   "outputs": [
    {
     "data": {
      "text/plain": [
       "0.6028513238289206"
      ]
     },
     "execution_count": 56,
     "metadata": {},
     "output_type": "execute_result"
    }
   ],
   "source": [
    "rating_given_num_reviews_0p5.loc[True,True] # P(review_scores_rating<=0.5|number_of_reviews<=0.5)"
   ]
  },
  {
   "cell_type": "code",
   "execution_count": 57,
   "metadata": {},
   "outputs": [
    {
     "data": {
      "text/plain": [
       "0.47030237580993517"
      ]
     },
     "execution_count": 57,
     "metadata": {},
     "output_type": "execute_result"
    }
   ],
   "source": [
    "rating_given_num_reviews_0p5.loc[False,True] # P(review_scores_rating>0.5|number_of_reviews<=0.5)"
   ]
  },
  {
   "cell_type": "markdown",
   "metadata": {},
   "source": [
    "**Problem 4:** Interpret the value of P(review_scores_rating<=0.5|number_of_reviews<=0.5) compared to P( review_scores_rating>0.5|number_of_reviews<=0.5). What does this seem to indicate?\n",
    "\n",
    "**Your answer here**"
   ]
  },
  {
   "cell_type": "markdown",
   "metadata": {},
   "source": [
    "**Problem 5:** Discuss the interpretation and analysis of ``P(review_scores_rating<=0.5|number_of_reviews<=0.5)`` in the context of the **selection bias** seen in the correlation of higher ratings with more reviews. What does this suggest about the customers and whether this will affect where they are inclined to stay.\n",
    "\n",
   ]
  },
  {
   "cell_type": "code",
   "execution_count": 17,
   "metadata": {},
   "outputs": [],
   "source": [
    "# Good job!\n",
    "# Don't forget to push with ./submit.sh"
   ]
  },
  {
   "cell_type": "code",
   "execution_count": null,
   "metadata": {},
   "outputs": [],
   "source": []
  },
  {
   "cell_type": "code",
   "execution_count": null,
   "metadata": {},
   "outputs": [],
   "source": []
  },
  {
   "cell_type": "code",
   "execution_count": null,
   "metadata": {},
   "outputs": [],
   "source": []
  },
  {
   "cell_type": "code",
   "execution_count": null,
   "metadata": {},
   "outputs": [],
   "source": []
  }
 ],
 "metadata": {
  "jupytext": {
   "formats": "ipynb,md"
  },
  "kernelspec": {
   "display_name": "Python 3",
   "language": "python",
   "name": "python3"
  },
  "language_info": {
   "codemirror_mode": {
    "name": "ipython",
    "version": 3
   },
   "file_extension": ".py",
   "mimetype": "text/x-python",
   "name": "python",
   "nbconvert_exporter": "python",
   "pygments_lexer": "ipython3",
   "version": "3.7.3"
  }
 },
 "nbformat": 4,
 "nbformat_minor": 4
}
